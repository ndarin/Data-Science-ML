{
 "cells": [
  {
   "cell_type": "code",
   "execution_count": 2,
   "id": "f4e582e5-94f4-43f7-ad3a-0318d8550b94",
   "metadata": {},
   "outputs": [
    {
     "name": "stdout",
     "output_type": "stream",
     "text": [
      "Collecting sqlalchemy\n",
      "  Downloading SQLAlchemy-1.4.27-cp38-cp38-win_amd64.whl (1.5 MB)\n",
      "Installing collected packages: sqlalchemy\n",
      "Successfully installed sqlalchemy-1.4.27\n",
      "Note: you may need to restart the kernel to use updated packages.\n",
      "Collecting ibm_db_sa\n",
      "  Downloading ibm_db_sa-0.3.7.tar.gz (30 kB)\n",
      "  Preparing metadata (setup.py): started\n",
      "  Preparing metadata (setup.py): finished with status 'done'\n",
      "Requirement already satisfied: sqlalchemy>=0.7.3 in c:\\jupyterlab\\resources\\jlab_server\\lib\\site-packages (from ibm_db_sa) (1.4.27)\n",
      "Collecting ibm_db>=2.0.0\n",
      "  Downloading ibm_db-3.1.0.tar.gz (797 kB)\n",
      "  Installing build dependencies: started\n",
      "  Installing build dependencies: finished with status 'done'\n",
      "  Getting requirements to build wheel: started\n",
      "  Getting requirements to build wheel: finished with status 'done'\n",
      "  Installing backend dependencies: started\n",
      "  Installing backend dependencies: finished with status 'done'\n",
      "  Preparing metadata (pyproject.toml): started\n",
      "  Preparing metadata (pyproject.toml): finished with status 'done'\n",
      "Building wheels for collected packages: ibm-db-sa, ibm-db\n",
      "  Building wheel for ibm-db-sa (setup.py): started\n",
      "  Building wheel for ibm-db-sa (setup.py): finished with status 'done'\n",
      "  Created wheel for ibm-db-sa: filename=ibm_db_sa-0.3.7-py3-none-any.whl size=29318 sha256=5ee0b72665401e6c1ab2782df63dbaa27a058ee2f7ce31b9a95fe1e5c9216ce1\n",
      "  Stored in directory: c:\\users\\tawan\\appdata\\local\\pip\\cache\\wheels\\56\\a8\\bf\\19bbcc1d370b4fdc46c95228b6db3cdb5689b4afad12da3bc4\n",
      "  Building wheel for ibm-db (pyproject.toml): started\n",
      "  Building wheel for ibm-db (pyproject.toml): finished with status 'done'\n",
      "  Created wheel for ibm-db: filename=ibm_db-3.1.0-py3-none-any.whl size=27452906 sha256=ebdfae03df8323c648e0f454162c9dc86538836012e3b3b39317056256004b67\n",
      "  Stored in directory: c:\\users\\tawan\\appdata\\local\\pip\\cache\\wheels\\43\\71\\0a\\3065745bc1dc4cafbdcb09e2557082609f7689b16108b670df\n",
      "Successfully built ibm-db-sa ibm-db\n",
      "Installing collected packages: ibm-db, ibm-db-sa\n",
      "Successfully installed ibm-db-3.1.0 ibm-db-sa-0.3.7\n",
      "Note: you may need to restart the kernel to use updated packages.\n",
      "Collecting psycopg2\n",
      "  Downloading psycopg2-2.9.2-cp38-cp38-win_amd64.whl (1.1 MB)\n",
      "Installing collected packages: psycopg2\n",
      "Successfully installed psycopg2-2.9.2\n",
      "Note: you may need to restart the kernel to use updated packages.\n",
      "Collecting ipython-sql\n",
      "  Downloading ipython_sql-0.4.0-py3-none-any.whl (19 kB)\n",
      "Requirement already satisfied: sqlalchemy>=0.6.7 in c:\\jupyterlab\\resources\\jlab_server\\lib\\site-packages (from ipython-sql) (1.4.27)\n",
      "Collecting sqlparse\n",
      "  Using cached sqlparse-0.4.2-py3-none-any.whl (42 kB)\n",
      "Requirement already satisfied: ipython>=1.0 in c:\\jupyterlab\\resources\\jlab_server\\lib\\site-packages (from ipython-sql) (7.29.0)\n",
      "Requirement already satisfied: ipython-genutils>=0.1.0 in c:\\jupyterlab\\resources\\jlab_server\\lib\\site-packages (from ipython-sql) (0.2.0)\n",
      "Requirement already satisfied: six in c:\\jupyterlab\\resources\\jlab_server\\lib\\site-packages (from ipython-sql) (1.16.0)\n",
      "Collecting prettytable<1\n",
      "  Downloading prettytable-0.7.2.zip (28 kB)\n",
      "  Preparing metadata (setup.py): started\n",
      "  Preparing metadata (setup.py): finished with status 'done'\n",
      "Requirement already satisfied: pygments in c:\\jupyterlab\\resources\\jlab_server\\lib\\site-packages (from ipython>=1.0->ipython-sql) (2.10.0)\n",
      "Requirement already satisfied: traitlets>=4.2 in c:\\jupyterlab\\resources\\jlab_server\\lib\\site-packages (from ipython>=1.0->ipython-sql) (5.1.1)\n",
      "Requirement already satisfied: backcall in c:\\jupyterlab\\resources\\jlab_server\\lib\\site-packages (from ipython>=1.0->ipython-sql) (0.2.0)\n",
      "Requirement already satisfied: pickleshare in c:\\jupyterlab\\resources\\jlab_server\\lib\\site-packages (from ipython>=1.0->ipython-sql) (0.7.5)\n",
      "Requirement already satisfied: colorama in c:\\jupyterlab\\resources\\jlab_server\\lib\\site-packages (from ipython>=1.0->ipython-sql) (0.4.4)\n",
      "Requirement already satisfied: decorator in c:\\jupyterlab\\resources\\jlab_server\\lib\\site-packages (from ipython>=1.0->ipython-sql) (5.1.0)\n",
      "Requirement already satisfied: matplotlib-inline in c:\\jupyterlab\\resources\\jlab_server\\lib\\site-packages (from ipython>=1.0->ipython-sql) (0.1.3)\n",
      "Requirement already satisfied: jedi>=0.16 in c:\\jupyterlab\\resources\\jlab_server\\lib\\site-packages (from ipython>=1.0->ipython-sql) (0.18.0)\n",
      "Requirement already satisfied: setuptools>=18.5 in c:\\jupyterlab\\resources\\jlab_server\\lib\\site-packages (from ipython>=1.0->ipython-sql) (58.4.0)\n",
      "Requirement already satisfied: prompt-toolkit!=3.0.0,!=3.0.1,<3.1.0,>=2.0.0 in c:\\jupyterlab\\resources\\jlab_server\\lib\\site-packages (from ipython>=1.0->ipython-sql) (3.0.21)\n",
      "Requirement already satisfied: parso<0.9.0,>=0.8.0 in c:\\jupyterlab\\resources\\jlab_server\\lib\\site-packages (from jedi>=0.16->ipython>=1.0->ipython-sql) (0.8.2)\n",
      "Requirement already satisfied: wcwidth in c:\\jupyterlab\\resources\\jlab_server\\lib\\site-packages (from prompt-toolkit!=3.0.0,!=3.0.1,<3.1.0,>=2.0.0->ipython>=1.0->ipython-sql) (0.2.5)\n",
      "Building wheels for collected packages: prettytable\n",
      "  Building wheel for prettytable (setup.py): started\n",
      "  Building wheel for prettytable (setup.py): finished with status 'done'\n",
      "  Created wheel for prettytable: filename=prettytable-0.7.2-py3-none-any.whl size=13714 sha256=48b4039840278eb3a91c541e6029503c8c02a260ed712c219f0895f4ab7b8bac\n",
      "  Stored in directory: c:\\users\\tawan\\appdata\\local\\pip\\cache\\wheels\\48\\6d\\77\\9517cb933af254f51a446f1a5ec9c2be3e45f17384940bce68\n",
      "Successfully built prettytable\n",
      "Installing collected packages: sqlparse, prettytable, ipython-sql\n",
      "Successfully installed ipython-sql-0.4.0 prettytable-0.7.2 sqlparse-0.4.2\n",
      "Note: you may need to restart the kernel to use updated packages.\n"
     ]
    }
   ],
   "source": [
    "%pip install sqlalchemy\n",
    "%pip install ibm_db_sa\n",
    "%pip install psycopg2\n",
    "%pip install ipython-sql"
   ]
  },
  {
   "cell_type": "code",
   "execution_count": 1,
   "id": "714b0c67-bdd4-4e17-a5f4-c53371410b44",
   "metadata": {},
   "outputs": [
    {
     "name": "stdout",
     "output_type": "stream",
     "text": [
      "Collecting branca==0.3.1\n",
      "  Downloading branca-0.3.1-py3-none-any.whl (25 kB)\n",
      "Requirement already satisfied: jinja2 in c:\\jupyterlab\\resources\\jlab_server\\lib\\site-packages (from branca==0.3.1) (3.0.2)\n",
      "Requirement already satisfied: six in c:\\jupyterlab\\resources\\jlab_server\\lib\\site-packages (from branca==0.3.1) (1.16.0)\n",
      "Requirement already satisfied: MarkupSafe>=2.0 in c:\\jupyterlab\\resources\\jlab_server\\lib\\site-packages (from jinja2->branca==0.3.1) (2.0.1)\n",
      "Installing collected packages: branca\n",
      "  Attempting uninstall: branca\n",
      "    Found existing installation: branca 0.4.2\n",
      "    Uninstalling branca-0.4.2:\n",
      "      Successfully uninstalled branca-0.4.2\n",
      "Successfully installed branca-0.3.1\n",
      "Note: you may need to restart the kernel to use updated packages.\n"
     ]
    }
   ],
   "source": [
    "pip install branca==0.3.1 "
   ]
  },
  {
   "cell_type": "code",
   "execution_count": null,
   "id": "90e4baaa-010e-4b34-9dcd-2fec762ada98",
   "metadata": {},
   "outputs": [],
   "source": []
  }
 ],
 "metadata": {
  "kernelspec": {
   "display_name": "Python 3 (ipykernel)",
   "language": "python",
   "name": "python3"
  },
  "language_info": {
   "codemirror_mode": {
    "name": "ipython",
    "version": 3
   },
   "file_extension": ".py",
   "mimetype": "text/x-python",
   "name": "python",
   "nbconvert_exporter": "python",
   "pygments_lexer": "ipython3",
   "version": "3.8.12"
  }
 },
 "nbformat": 4,
 "nbformat_minor": 5
}
