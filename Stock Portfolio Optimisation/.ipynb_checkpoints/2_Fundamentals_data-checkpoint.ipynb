{
 "cells": [
  {
   "cell_type": "code",
   "execution_count": 1,
   "id": "3b39f083-9127-4011-b945-24ce3328f7a7",
   "metadata": {},
   "outputs": [],
   "source": [
    "import yfinance as yf\n",
    "import pandas as pd\n",
    "import numpy as np\n",
    "from collections import defaultdict"
   ]
  },
  {
   "cell_type": "code",
   "execution_count": 2,
   "id": "0b4a2f02-0a85-4a3c-a095-e10aca7b0b5f",
   "metadata": {},
   "outputs": [],
   "source": [
    "absa = yf.Ticker(\"ABG.JO\")\n",
    "stock_info = absa.info"
   ]
  },
  {
   "cell_type": "code",
   "execution_count": 3,
   "id": "bbd09771-bef8-4182-8f43-f0873454a9da",
   "metadata": {},
   "outputs": [],
   "source": [
    "fundamentals = ['symbol', 'shortName', 'sector', 'marketCap', 'trailingEps', 'trailingPE', 'returnOnEquity', 'priceToBook', 'payoutRatio',\n",
    "                'priceToSalesTrailing12Months', 'freeCashflow', 'dividendYield', 'debtToEquity', 'pegRatio']"
   ]
  },
  {
   "cell_type": "code",
   "execution_count": 4,
   "id": "d0a21860-7d00-4980-9445-c38581fc0328",
   "metadata": {},
   "outputs": [
    {
     "name": "stdout",
     "output_type": "stream",
     "text": [
      "symbol \t\t\t ABG.JO\n",
      "shortName \t\t\t Absa Group Limited\n",
      "sector \t\t\t Financial Services\n",
      "marketCap \t\t\t 13395030966272\n",
      "trailingEps \t\t\t 16.349\n",
      "trailingPE \t\t\t 987.15515\n",
      "returnOnEquity \t\t\t 0.11218\n",
      "priceToBook \t\t\t 110.10596\n",
      "payoutRatio \t\t\t 0\n",
      "priceToSalesTrailing12Months \t\t\t 186.48239\n",
      "freeCashflow \t\t\t None\n",
      "dividendYield \t\t\t 0.019\n",
      "debtToEquity \t\t\t None\n",
      "pegRatio \t\t\t None\n"
     ]
    }
   ],
   "source": [
    "for attr in fundamentals:\n",
    "    print(f'{attr} \\t\\t\\t {stock_info[attr]}')"
   ]
  },
  {
   "cell_type": "markdown",
   "id": "3129b87d-7ef2-4eeb-b67f-1c4dde67a013",
   "metadata": {},
   "source": [
    "Import stock data"
   ]
  },
  {
   "cell_type": "code",
   "execution_count": 5,
   "id": "5471abfe-d86a-4ad3-8ded-49c171152774",
   "metadata": {},
   "outputs": [
    {
     "data": {
      "text/html": [
       "<div>\n",
       "<style scoped>\n",
       "    .dataframe tbody tr th:only-of-type {\n",
       "        vertical-align: middle;\n",
       "    }\n",
       "\n",
       "    .dataframe tbody tr th {\n",
       "        vertical-align: top;\n",
       "    }\n",
       "\n",
       "    .dataframe thead th {\n",
       "        text-align: right;\n",
       "    }\n",
       "</style>\n",
       "<table border=\"1\" class=\"dataframe\">\n",
       "  <thead>\n",
       "    <tr style=\"text-align: right;\">\n",
       "      <th></th>\n",
       "      <th>JSE_code</th>\n",
       "      <th>Company</th>\n",
       "      <th>Market_cap</th>\n",
       "      <th>Sector</th>\n",
       "    </tr>\n",
       "  </thead>\n",
       "  <tbody>\n",
       "    <tr>\n",
       "      <th>0</th>\n",
       "      <td>4SI</td>\n",
       "      <td>4Sight Holdings Ltd.</td>\n",
       "      <td>1.385700e+08</td>\n",
       "      <td>Financials</td>\n",
       "    </tr>\n",
       "    <tr>\n",
       "      <th>1</th>\n",
       "      <td>ABG</td>\n",
       "      <td>Absa Group Ltd.</td>\n",
       "      <td>1.262050e+11</td>\n",
       "      <td>Financials</td>\n",
       "    </tr>\n",
       "    <tr>\n",
       "      <th>2</th>\n",
       "      <td>ABSP</td>\n",
       "      <td>Absa Bank Ltd.</td>\n",
       "      <td>3.642400e+09</td>\n",
       "      <td>Financials</td>\n",
       "    </tr>\n",
       "    <tr>\n",
       "      <th>3</th>\n",
       "      <td>ACL</td>\n",
       "      <td>ArcelorMittal South Africa Ltd.</td>\n",
       "      <td>1.001490e+10</td>\n",
       "      <td>Basic Materials</td>\n",
       "    </tr>\n",
       "    <tr>\n",
       "      <th>4</th>\n",
       "      <td>ACS</td>\n",
       "      <td>Acsion Ltd.</td>\n",
       "      <td>2.567240e+09</td>\n",
       "      <td>Financials</td>\n",
       "    </tr>\n",
       "  </tbody>\n",
       "</table>\n",
       "</div>"
      ],
      "text/plain": [
       "  JSE_code                          Company    Market_cap           Sector\n",
       "0      4SI             4Sight Holdings Ltd.  1.385700e+08       Financials\n",
       "1      ABG                  Absa Group Ltd.  1.262050e+11       Financials\n",
       "2     ABSP                   Absa Bank Ltd.  3.642400e+09       Financials\n",
       "3      ACL  ArcelorMittal South Africa Ltd.  1.001490e+10  Basic Materials\n",
       "4      ACS                      Acsion Ltd.  2.567240e+09       Financials"
      ]
     },
     "execution_count": 5,
     "metadata": {},
     "output_type": "execute_result"
    }
   ],
   "source": [
    "data = pd.read_csv('stock_list.csv')\n",
    "# View first few rows\n",
    "data.head()"
   ]
  },
  {
   "cell_type": "markdown",
   "id": "46afe299-9c59-4961-bae4-5f8e2e4f6966",
   "metadata": {},
   "source": [
    "Let's get the list of stocks. We need to add \".JO\" to each ticker to signify that the stock data we want is for stocks listed on the JSE."
   ]
  },
  {
   "cell_type": "code",
   "execution_count": 6,
   "id": "d7f6b47e-42a6-4b96-a8eb-8380f8d631c2",
   "metadata": {},
   "outputs": [
    {
     "data": {
      "text/plain": [
       "['4SI.JO', 'ABG.JO', 'ABSP.JO', 'ACL.JO', 'ACS.JO']"
      ]
     },
     "execution_count": 6,
     "metadata": {},
     "output_type": "execute_result"
    }
   ],
   "source": [
    "stock_list = data.JSE_code.tolist()\n",
    "# Append \".JO\"\n",
    "stock_list = [x + \".JO\" for x in stock_list]\n",
    "# Check outcome\n",
    "stock_list[0:5]"
   ]
  },
  {
   "cell_type": "markdown",
   "id": "8b8abf0e-bb9b-4498-9cca-ad10964ecacf",
   "metadata": {},
   "source": [
    "We need to get the latest market cap and sector information for each stock. In addition, we will also get the following fundamentals data:\n",
    "* Earnings per share, EPS - trailing\n",
    "* Price to earnings, PE ratio - trailing \n",
    "* Return on equity, ROE \n",
    "* Price to book value, PB ratio\n",
    "* Dividend payout ratio\n",
    "* Price to sales value, PS ratio - trailing\n",
    "* Free Cash Flow, FCF\n",
    "* Divident yield\n",
    "* Debt to equity ratio,\n",
    "* Projected earnings growth rate, PEG"
   ]
  },
  {
   "cell_type": "markdown",
   "id": "cfe20800-6055-4020-a4b3-d8acf28e06ad",
   "metadata": {},
   "source": [
    "We will store this information in lists which we will use to create a DataFrame."
   ]
  },
  {
   "cell_type": "code",
   "execution_count": 7,
   "id": "31f948df-5fd3-4603-b78d-399248b26fb2",
   "metadata": {},
   "outputs": [],
   "source": [
    "# Create empty lists\n",
    "list_names = ['ticker', 'name', 'sector', 'market_cap', 'EPS', 'PE_ratio', 'ROE', 'PB_ratio', \n",
    "              'div_payout_ratio', 'PS_ratio', 'FCF', 'divident_yield', 'debt_equity', 'earnings_growth']\n",
    "\n",
    "# Create a dictionary to store our lists\n",
    "stock_fund = defaultdict(list)"
   ]
  },
  {
   "cell_type": "markdown",
   "id": "ab8f7b64-70a5-4a19-9923-c6706679e17f",
   "metadata": {},
   "source": [
    "Let's get the fundamentals data from Yahoo! Finance. This process will take a while..."
   ]
  },
  {
   "cell_type": "code",
   "execution_count": 8,
   "id": "b99d0140-f105-40c7-8602-361ca31b7373",
   "metadata": {},
   "outputs": [
    {
     "name": "stdout",
     "output_type": "stream",
     "text": [
      "Processing done\n"
     ]
    }
   ],
   "source": [
    "# For every stock in our list.\n",
    "for ticker in stock_list:\n",
    "    # get stock data and store it in 'data'\n",
    "    data = yf.Ticker(ticker)\n",
    "    # we need the stock info, store it in 'info'\n",
    "    info = data.info\n",
    "    # let's get the fundamentals data and store it in a list with the same name\n",
    "    for lst, attr in zip(list_names, fundamentals):\n",
    "        try:\n",
    "            stock_fund[lst].append(info[attr])  \n",
    "        except KeyError: \n",
    "            stock_fund[lst].append(np.nan)\n",
    "\n",
    "print('Processing done')"
   ]
  },
  {
   "cell_type": "markdown",
   "id": "73a4d0db-c09e-4468-9b3c-7bf06e05146b",
   "metadata": {},
   "source": [
    "Let's check the length of each of list"
   ]
  },
  {
   "cell_type": "code",
   "execution_count": 11,
   "id": "b01f9feb-b9b4-4c4e-b481-61080805dc57",
   "metadata": {},
   "outputs": [
    {
     "name": "stdout",
     "output_type": "stream",
     "text": [
      "ticker \t 348\n",
      "name \t 348\n",
      "sector \t 348\n",
      "market_cap \t 348\n",
      "EPS \t 348\n",
      "PE_ratio \t 348\n",
      "ROE \t 348\n",
      "PB_ratio \t 348\n",
      "div_payout_ratio \t 348\n",
      "PS_ratio \t 348\n",
      "FCF \t 348\n",
      "divident_yield \t 348\n",
      "debt_equity \t 348\n",
      "earnings_growth \t 348\n"
     ]
    }
   ],
   "source": [
    "for name, array in stock_fund.items():\n",
    "    print(f'{name} \\t {len(array)}')\n"
   ]
  },
  {
   "cell_type": "markdown",
   "id": "e53df763-45c6-4984-938f-5fdb7bcbdf6d",
   "metadata": {},
   "source": [
    "Now that we have all the stock info we need, we'll store it in a DataFrame. "
   ]
  },
  {
   "cell_type": "code",
   "execution_count": 14,
   "id": "6b3f4fb2-13f4-48e3-b62c-1a973673bb98",
   "metadata": {},
   "outputs": [
    {
     "data": {
      "text/html": [
       "<div>\n",
       "<style scoped>\n",
       "    .dataframe tbody tr th:only-of-type {\n",
       "        vertical-align: middle;\n",
       "    }\n",
       "\n",
       "    .dataframe tbody tr th {\n",
       "        vertical-align: top;\n",
       "    }\n",
       "\n",
       "    .dataframe thead th {\n",
       "        text-align: right;\n",
       "    }\n",
       "</style>\n",
       "<table border=\"1\" class=\"dataframe\">\n",
       "  <thead>\n",
       "    <tr style=\"text-align: right;\">\n",
       "      <th></th>\n",
       "      <th>ticker</th>\n",
       "      <th>name</th>\n",
       "      <th>sector</th>\n",
       "      <th>market_cap</th>\n",
       "      <th>EPS</th>\n",
       "      <th>PE_ratio</th>\n",
       "      <th>ROE</th>\n",
       "      <th>PB_ratio</th>\n",
       "      <th>div_payout_ratio</th>\n",
       "      <th>PS_ratio</th>\n",
       "      <th>FCF</th>\n",
       "      <th>divident_yield</th>\n",
       "      <th>debt_equity</th>\n",
       "      <th>earnings_growth</th>\n",
       "    </tr>\n",
       "  </thead>\n",
       "  <tbody>\n",
       "    <tr>\n",
       "      <th>0</th>\n",
       "      <td>4SI.JO</td>\n",
       "      <td>4Sight Holdings Ltd</td>\n",
       "      <td>Technology</td>\n",
       "      <td>1.581677e+10</td>\n",
       "      <td>-0.015</td>\n",
       "      <td>NaN</td>\n",
       "      <td>0.02316</td>\n",
       "      <td>51.72414</td>\n",
       "      <td>0.0</td>\n",
       "      <td>32.01226</td>\n",
       "      <td>1.271870e+08</td>\n",
       "      <td>NaN</td>\n",
       "      <td>4.158</td>\n",
       "      <td>NaN</td>\n",
       "    </tr>\n",
       "    <tr>\n",
       "      <th>1</th>\n",
       "      <td>ABG.JO</td>\n",
       "      <td>Absa Group Limited</td>\n",
       "      <td>Financial Services</td>\n",
       "      <td>1.339503e+13</td>\n",
       "      <td>16.349</td>\n",
       "      <td>987.15515</td>\n",
       "      <td>0.11218</td>\n",
       "      <td>110.10596</td>\n",
       "      <td>0.0</td>\n",
       "      <td>186.48239</td>\n",
       "      <td>NaN</td>\n",
       "      <td>0.0190</td>\n",
       "      <td>NaN</td>\n",
       "      <td>NaN</td>\n",
       "    </tr>\n",
       "    <tr>\n",
       "      <th>2</th>\n",
       "      <td>ABSP.JO</td>\n",
       "      <td>ABSA Bank Ltd Pref</td>\n",
       "      <td>Financial Services</td>\n",
       "      <td>3.631238e+11</td>\n",
       "      <td>17.941</td>\n",
       "      <td>4514.79830</td>\n",
       "      <td>0.09397</td>\n",
       "      <td>391.96520</td>\n",
       "      <td>NaN</td>\n",
       "      <td>7.510627</td>\n",
       "      <td>NaN</td>\n",
       "      <td>0.0606</td>\n",
       "      <td>NaN</td>\n",
       "      <td>NaN</td>\n",
       "    </tr>\n",
       "    <tr>\n",
       "      <th>3</th>\n",
       "      <td>ACL.JO</td>\n",
       "      <td>ArcelorMittal SA Limited</td>\n",
       "      <td>Basic Materials</td>\n",
       "      <td>1.058880e+12</td>\n",
       "      <td>2.326</td>\n",
       "      <td>408.42648</td>\n",
       "      <td>0.84142</td>\n",
       "      <td>230.07991</td>\n",
       "      <td>0.0</td>\n",
       "      <td>33.911274</td>\n",
       "      <td>1.944500e+09</td>\n",
       "      <td>NaN</td>\n",
       "      <td>148.718</td>\n",
       "      <td>NaN</td>\n",
       "    </tr>\n",
       "    <tr>\n",
       "      <th>4</th>\n",
       "      <td>ACS.JO</td>\n",
       "      <td>Acsion Limited</td>\n",
       "      <td>Real Estate</td>\n",
       "      <td>1.647768e+11</td>\n",
       "      <td>1.494</td>\n",
       "      <td>280.45517</td>\n",
       "      <td>0.08583</td>\n",
       "      <td>21.17124</td>\n",
       "      <td>0.0</td>\n",
       "      <td>225.91226</td>\n",
       "      <td>1.832291e+08</td>\n",
       "      <td>NaN</td>\n",
       "      <td>15.684</td>\n",
       "      <td>NaN</td>\n",
       "    </tr>\n",
       "  </tbody>\n",
       "</table>\n",
       "</div>"
      ],
      "text/plain": [
       "    ticker                      name              sector    market_cap  \\\n",
       "0   4SI.JO       4Sight Holdings Ltd          Technology  1.581677e+10   \n",
       "1   ABG.JO        Absa Group Limited  Financial Services  1.339503e+13   \n",
       "2  ABSP.JO        ABSA Bank Ltd Pref  Financial Services  3.631238e+11   \n",
       "3   ACL.JO  ArcelorMittal SA Limited     Basic Materials  1.058880e+12   \n",
       "4   ACS.JO            Acsion Limited         Real Estate  1.647768e+11   \n",
       "\n",
       "      EPS    PE_ratio      ROE   PB_ratio  div_payout_ratio   PS_ratio  \\\n",
       "0  -0.015         NaN  0.02316   51.72414               0.0   32.01226   \n",
       "1  16.349   987.15515  0.11218  110.10596               0.0  186.48239   \n",
       "2  17.941  4514.79830  0.09397  391.96520               NaN   7.510627   \n",
       "3   2.326   408.42648  0.84142  230.07991               0.0  33.911274   \n",
       "4   1.494   280.45517  0.08583   21.17124               0.0  225.91226   \n",
       "\n",
       "            FCF  divident_yield  debt_equity  earnings_growth  \n",
       "0  1.271870e+08             NaN        4.158              NaN  \n",
       "1           NaN          0.0190          NaN              NaN  \n",
       "2           NaN          0.0606          NaN              NaN  \n",
       "3  1.944500e+09             NaN      148.718              NaN  \n",
       "4  1.832291e+08             NaN       15.684              NaN  "
      ]
     },
     "execution_count": 14,
     "metadata": {},
     "output_type": "execute_result"
    }
   ],
   "source": [
    "# Create DataFrame\n",
    "df = pd.DataFrame(stock_fund)\n",
    "# Check few rows\n",
    "df.head()"
   ]
  },
  {
   "cell_type": "markdown",
   "id": "35be066e-6e86-46ee-95a4-49c8803d73f1",
   "metadata": {},
   "source": [
    "Let's save the data as a csv file `fundamentals.csv`. In the next stage of the process, we'll clean the data."
   ]
  },
  {
   "cell_type": "code",
   "execution_count": 15,
   "id": "cd71a017-129e-4c77-ac9f-1740a9b982f0",
   "metadata": {},
   "outputs": [],
   "source": [
    "df.to_csv('fundamentals.csv', index=False)"
   ]
  },
  {
   "cell_type": "code",
   "execution_count": null,
   "id": "6e116681-83dc-4b34-bc87-cc99ac73b2a6",
   "metadata": {},
   "outputs": [],
   "source": []
  }
 ],
 "metadata": {
  "kernelspec": {
   "display_name": "Python 3 (ipykernel)",
   "language": "python",
   "name": "python3"
  },
  "language_info": {
   "codemirror_mode": {
    "name": "ipython",
    "version": 3
   },
   "file_extension": ".py",
   "mimetype": "text/x-python",
   "name": "python",
   "nbconvert_exporter": "python",
   "pygments_lexer": "ipython3",
   "version": "3.8.12"
  }
 },
 "nbformat": 4,
 "nbformat_minor": 5
}
