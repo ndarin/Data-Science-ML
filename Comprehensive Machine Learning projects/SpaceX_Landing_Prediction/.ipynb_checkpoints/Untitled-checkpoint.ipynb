{
 "cells": [
  {
   "cell_type": "code",
   "execution_count": 1,
   "id": "8ebfb9bd-40b6-4645-be18-dc226cef09ab",
   "metadata": {},
   "outputs": [],
   "source": [
    "import sys\n",
    "\n",
    "import requests\n",
    "from bs4 import BeautifulSoup\n",
    "import re\n",
    "import unicodedata\n",
    "import pandas as pd"
   ]
  },
  {
   "cell_type": "code",
   "execution_count": 2,
   "id": "356e37ba-8a18-41e5-b02e-c591234a608f",
   "metadata": {},
   "outputs": [],
   "source": [
    "url = 'https://sashares.co.za/shares-list/#gs.jxh54k'"
   ]
  },
  {
   "cell_type": "code",
   "execution_count": 3,
   "id": "b4620bc5-95e1-4a99-8af2-4f9d2a902a41",
   "metadata": {},
   "outputs": [],
   "source": [
    "# Get stock data from Sashares\n",
    "data = requests.get(url).text"
   ]
  },
  {
   "cell_type": "code",
   "execution_count": 4,
   "id": "ae482403-c0fa-4b97-b352-4b6dcdeebd61",
   "metadata": {},
   "outputs": [],
   "source": [
    "# Create a soup object \n",
    "soup = BeautifulSoup(data, 'html.parser')"
   ]
  },
  {
   "cell_type": "code",
   "execution_count": 5,
   "id": "c0926962-db05-40ae-9400-cd858ac6cca3",
   "metadata": {},
   "outputs": [
    {
     "data": {
      "text/plain": [
       "2"
      ]
     },
     "execution_count": 5,
     "metadata": {},
     "output_type": "execute_result"
    }
   ],
   "source": [
    "# Find all the tables in the data\n",
    "html_tables = soup.find_all('table')\n",
    "# Count the tables\n",
    "len(html_tables)"
   ]
  },
  {
   "cell_type": "code",
   "execution_count": 6,
   "id": "57704702-bd24-4933-ab2d-f270ca30c0c5",
   "metadata": {},
   "outputs": [],
   "source": [
    "# We only want the first table containing stock data\n",
    "stock_table = html_tables[0]"
   ]
  },
  {
   "cell_type": "code",
   "execution_count": 7,
   "id": "bca9e43f-2950-45f2-9e13-ff59c5813b66",
   "metadata": {},
   "outputs": [],
   "source": [
    "# Instantiate lists to store stock data\n",
    "jse_code = []\n",
    "share = []\n",
    "company = []"
   ]
  },
  {
   "cell_type": "code",
   "execution_count": 8,
   "id": "b7625cf0-31af-4e5c-ab87-2505ff5df3d6",
   "metadata": {},
   "outputs": [],
   "source": [
    "# Get a list of rows, exclude table headings\n",
    "table_rows = stock_table.find_all('tr')[1:]"
   ]
  },
  {
   "cell_type": "code",
   "execution_count": 9,
   "id": "6c1bb24e-dedc-43c3-9568-880ec6f31705",
   "metadata": {},
   "outputs": [
    {
     "data": {
      "text/plain": [
       "<tr id=\"table_1_row_0\">\n",
       "<td style=\"\"><a data-wpel-link=\"internal\" href=\"https://sashares.co.za/4sight-holdings-shares/\">4SI</a></td>\n",
       "<td style=\"\"><a data-wpel-link=\"internal\" href=\"https://sashares.co.za/4sight-holdings-shares/\">4SIGHT</a></td>\n",
       "<td style=\"\"><a data-wpel-link=\"internal\" href=\"https://sashares.co.za/4sight-holdings-shares/\">4Sight Holdings Ltd.</a></td>\n",
       "<td style=\"\">0.23</td>\n",
       "<td style=\"\">0.01</td>\n",
       "<td style=\"\">4.55</td>\n",
       "<td style=\"\">145,170,000</td>\n",
       "<td style=\"\"><a data-wpel-link=\"internal\" href=\"https://sashares.co.za/4sight-holdings-shares/\" target=\"_self\"><button class=\"\">View</button></a></td>\n",
       "<td style=\"\">23/12/2021 11:41 AM</td>\n",
       "<td style=\"\">23/12/2021 12:00 PM</td>\n",
       "<td style=\"\">LISTED</td>\n",
       "</tr>"
      ]
     },
     "execution_count": 9,
     "metadata": {},
     "output_type": "execute_result"
    }
   ],
   "source": [
    "# Check row data - what does it look like?\n",
    "table_rows[0]"
   ]
  },
  {
   "cell_type": "code",
   "execution_count": 10,
   "id": "adca885d-70c6-4665-83a5-8f374cb79e68",
   "metadata": {},
   "outputs": [],
   "source": [
    "# Iterate over list of rows and extract the stock symbol, name and company name from each row\n",
    "for i, row in enumerate(table_rows):\n",
    "    cells = row.find_all('td')\n",
    "    jse_code.append(cells[0].string)\n",
    "    share.append(cells[1].string)\n",
    "    company.append(cells[2].string)"
   ]
  },
  {
   "cell_type": "code",
   "execution_count": 11,
   "id": "c8ed7dfa-bda4-4ebd-8a8f-84b0caa364e9",
   "metadata": {},
   "outputs": [],
   "source": [
    "# Create a DataFrame with the stock data\n",
    "stock_data = pd.DataFrame({\"JSE_code\": jse_code, \"Ticker\": share, \"Company\": company})"
   ]
  },
  {
   "cell_type": "code",
   "execution_count": 12,
   "id": "a4ac7832-beee-449a-b866-bc7c1b64d6ae",
   "metadata": {},
   "outputs": [
    {
     "data": {
      "text/html": [
       "<div>\n",
       "<style scoped>\n",
       "    .dataframe tbody tr th:only-of-type {\n",
       "        vertical-align: middle;\n",
       "    }\n",
       "\n",
       "    .dataframe tbody tr th {\n",
       "        vertical-align: top;\n",
       "    }\n",
       "\n",
       "    .dataframe thead th {\n",
       "        text-align: right;\n",
       "    }\n",
       "</style>\n",
       "<table border=\"1\" class=\"dataframe\">\n",
       "  <thead>\n",
       "    <tr style=\"text-align: right;\">\n",
       "      <th></th>\n",
       "      <th>JSE_code</th>\n",
       "      <th>Ticker</th>\n",
       "      <th>Company</th>\n",
       "    </tr>\n",
       "  </thead>\n",
       "  <tbody>\n",
       "    <tr>\n",
       "      <th>0</th>\n",
       "      <td>4SI</td>\n",
       "      <td>4SIGHT</td>\n",
       "      <td>4Sight Holdings Ltd.</td>\n",
       "    </tr>\n",
       "    <tr>\n",
       "      <th>1</th>\n",
       "      <td>ABETNC</td>\n",
       "      <td>FNBETNABC</td>\n",
       "      <td>Exchange Traded Notes</td>\n",
       "    </tr>\n",
       "    <tr>\n",
       "      <th>2</th>\n",
       "      <td>ABETNQ</td>\n",
       "      <td>FNBETNABQ</td>\n",
       "      <td>Exchange Traded Notes</td>\n",
       "    </tr>\n",
       "    <tr>\n",
       "      <th>3</th>\n",
       "      <td>ABG</td>\n",
       "      <td>ABSA</td>\n",
       "      <td>Absa Group Ltd.</td>\n",
       "    </tr>\n",
       "    <tr>\n",
       "      <th>4</th>\n",
       "      <td>ABSGEA</td>\n",
       "      <td>UBS ABSGE</td>\n",
       "      <td>Exchange Traded Notes</td>\n",
       "    </tr>\n",
       "  </tbody>\n",
       "</table>\n",
       "</div>"
      ],
      "text/plain": [
       "  JSE_code     Ticker                Company\n",
       "0      4SI     4SIGHT   4Sight Holdings Ltd.\n",
       "1   ABETNC  FNBETNABC  Exchange Traded Notes\n",
       "2   ABETNQ  FNBETNABQ  Exchange Traded Notes\n",
       "3      ABG       ABSA        Absa Group Ltd.\n",
       "4   ABSGEA  UBS ABSGE  Exchange Traded Notes"
      ]
     },
     "execution_count": 12,
     "metadata": {},
     "output_type": "execute_result"
    }
   ],
   "source": [
    "# Check first few rows\n",
    "stock_data.head()"
   ]
  },
  {
   "cell_type": "code",
   "execution_count": 13,
   "id": "c00e9182-ed17-4b6b-b9c9-efb02bddab08",
   "metadata": {},
   "outputs": [
    {
     "data": {
      "text/html": [
       "<div>\n",
       "<style scoped>\n",
       "    .dataframe tbody tr th:only-of-type {\n",
       "        vertical-align: middle;\n",
       "    }\n",
       "\n",
       "    .dataframe tbody tr th {\n",
       "        vertical-align: top;\n",
       "    }\n",
       "\n",
       "    .dataframe thead th {\n",
       "        text-align: right;\n",
       "    }\n",
       "</style>\n",
       "<table border=\"1\" class=\"dataframe\">\n",
       "  <thead>\n",
       "    <tr style=\"text-align: right;\">\n",
       "      <th></th>\n",
       "      <th>JSE_code</th>\n",
       "      <th>Ticker</th>\n",
       "      <th>Company</th>\n",
       "    </tr>\n",
       "  </thead>\n",
       "  <tbody>\n",
       "    <tr>\n",
       "      <th>523</th>\n",
       "      <td>WWETNQ</td>\n",
       "      <td>FNBETNWWQ</td>\n",
       "      <td>Exchange Traded Notes</td>\n",
       "    </tr>\n",
       "    <tr>\n",
       "      <th>524</th>\n",
       "      <td>YRK</td>\n",
       "      <td>YORK</td>\n",
       "      <td>York Timber Holdings Ltd.</td>\n",
       "    </tr>\n",
       "    <tr>\n",
       "      <th>525</th>\n",
       "      <td>YYLBEE</td>\n",
       "      <td>YEBOYETHU</td>\n",
       "      <td>YeboYethu Ltd.</td>\n",
       "    </tr>\n",
       "    <tr>\n",
       "      <th>526</th>\n",
       "      <td>ZED</td>\n",
       "      <td>ZEDER</td>\n",
       "      <td>Zeder Investments Ltd.</td>\n",
       "    </tr>\n",
       "    <tr>\n",
       "      <th>527</th>\n",
       "      <td>JSE Code</td>\n",
       "      <td>Share</td>\n",
       "      <td>Company Name</td>\n",
       "    </tr>\n",
       "  </tbody>\n",
       "</table>\n",
       "</div>"
      ],
      "text/plain": [
       "     JSE_code     Ticker                    Company\n",
       "523    WWETNQ  FNBETNWWQ      Exchange Traded Notes\n",
       "524       YRK       YORK  York Timber Holdings Ltd.\n",
       "525    YYLBEE  YEBOYETHU             YeboYethu Ltd.\n",
       "526       ZED      ZEDER     Zeder Investments Ltd.\n",
       "527  JSE Code      Share               Company Name"
      ]
     },
     "execution_count": 13,
     "metadata": {},
     "output_type": "execute_result"
    }
   ],
   "source": [
    "# Check last few rows\n",
    "stock_data.tail()"
   ]
  },
  {
   "cell_type": "markdown",
   "id": "3dca9117-0558-4cf2-a9a2-b2c3a89d3687",
   "metadata": {},
   "source": [
    "To clean the data we need to perform the following operations:\n",
    "* Drop the column Ticker - it doesn't provide any useful information\n",
    "* Drop the last row (527) which contains table headings\n",
    "* Select stocks only - exclude Exchange Traded Notes\n",
    "* Reset the index"
   ]
  },
  {
   "cell_type": "code",
   "execution_count": 14,
   "id": "bbf4de6d-cd93-4e9d-b02f-c272899cf2a5",
   "metadata": {},
   "outputs": [
    {
     "data": {
      "text/html": [
       "<div>\n",
       "<style scoped>\n",
       "    .dataframe tbody tr th:only-of-type {\n",
       "        vertical-align: middle;\n",
       "    }\n",
       "\n",
       "    .dataframe tbody tr th {\n",
       "        vertical-align: top;\n",
       "    }\n",
       "\n",
       "    .dataframe thead th {\n",
       "        text-align: right;\n",
       "    }\n",
       "</style>\n",
       "<table border=\"1\" class=\"dataframe\">\n",
       "  <thead>\n",
       "    <tr style=\"text-align: right;\">\n",
       "      <th></th>\n",
       "      <th>JSE_code</th>\n",
       "      <th>Company</th>\n",
       "    </tr>\n",
       "  </thead>\n",
       "  <tbody>\n",
       "    <tr>\n",
       "      <th>40</th>\n",
       "      <td>ART</td>\n",
       "      <td>Argent Industrial Ltd.</td>\n",
       "    </tr>\n",
       "    <tr>\n",
       "      <th>41</th>\n",
       "      <td>ASC</td>\n",
       "      <td>Ascendis Health Ltd.</td>\n",
       "    </tr>\n",
       "    <tr>\n",
       "      <th>42</th>\n",
       "      <td>ATI</td>\n",
       "      <td>Afristrat Investment Holdings Ltd.</td>\n",
       "    </tr>\n",
       "    <tr>\n",
       "      <th>43</th>\n",
       "      <td>ATID</td>\n",
       "      <td>Afristrat Investment Holdings Ltd.</td>\n",
       "    </tr>\n",
       "    <tr>\n",
       "      <th>44</th>\n",
       "      <td>ATIG</td>\n",
       "      <td>Afristrat Investment Holdings Ltd.</td>\n",
       "    </tr>\n",
       "    <tr>\n",
       "      <th>45</th>\n",
       "      <td>ATT</td>\n",
       "      <td>Attacq Ltd.</td>\n",
       "    </tr>\n",
       "    <tr>\n",
       "      <th>46</th>\n",
       "      <td>AVI</td>\n",
       "      <td>AVI Ltd.</td>\n",
       "    </tr>\n",
       "    <tr>\n",
       "      <th>47</th>\n",
       "      <td>AVL</td>\n",
       "      <td>Advanced Health Ltd.</td>\n",
       "    </tr>\n",
       "    <tr>\n",
       "      <th>48</th>\n",
       "      <td>AVV</td>\n",
       "      <td>Alviva Holdings Ltd.</td>\n",
       "    </tr>\n",
       "    <tr>\n",
       "      <th>49</th>\n",
       "      <td>AYO</td>\n",
       "      <td>AYO Technology Solutions Ltd.</td>\n",
       "    </tr>\n",
       "    <tr>\n",
       "      <th>50</th>\n",
       "      <td>BAT</td>\n",
       "      <td>Brait PLC</td>\n",
       "    </tr>\n",
       "    <tr>\n",
       "      <th>51</th>\n",
       "      <td>BAU</td>\n",
       "      <td>Bauba Resources Ltd.</td>\n",
       "    </tr>\n",
       "    <tr>\n",
       "      <th>52</th>\n",
       "      <td>BAW</td>\n",
       "      <td>Barloworld Ltd.</td>\n",
       "    </tr>\n",
       "    <tr>\n",
       "      <th>53</th>\n",
       "      <td>BAWP</td>\n",
       "      <td>Barloworld Ltd.</td>\n",
       "    </tr>\n",
       "    <tr>\n",
       "      <th>54</th>\n",
       "      <td>BCF</td>\n",
       "      <td>Bowler Metcalf Ltd.</td>\n",
       "    </tr>\n",
       "    <tr>\n",
       "      <th>55</th>\n",
       "      <td>BEL</td>\n",
       "      <td>Bell Equipment Ltd.</td>\n",
       "    </tr>\n",
       "    <tr>\n",
       "      <th>56</th>\n",
       "      <td>BHP</td>\n",
       "      <td>BHP Group plc</td>\n",
       "    </tr>\n",
       "    <tr>\n",
       "      <th>57</th>\n",
       "      <td>BID</td>\n",
       "      <td>Bid Corporation Ltd.</td>\n",
       "    </tr>\n",
       "    <tr>\n",
       "      <th>58</th>\n",
       "      <td>BIHLEB</td>\n",
       "      <td>Brait PLC</td>\n",
       "    </tr>\n",
       "    <tr>\n",
       "      <th>59</th>\n",
       "      <td>BIK</td>\n",
       "      <td>Brikor Ltd.</td>\n",
       "    </tr>\n",
       "  </tbody>\n",
       "</table>\n",
       "</div>"
      ],
      "text/plain": [
       "   JSE_code                             Company\n",
       "40      ART              Argent Industrial Ltd.\n",
       "41      ASC                Ascendis Health Ltd.\n",
       "42      ATI  Afristrat Investment Holdings Ltd.\n",
       "43     ATID  Afristrat Investment Holdings Ltd.\n",
       "44     ATIG  Afristrat Investment Holdings Ltd.\n",
       "45      ATT                         Attacq Ltd.\n",
       "46      AVI                            AVI Ltd.\n",
       "47      AVL                Advanced Health Ltd.\n",
       "48      AVV                Alviva Holdings Ltd.\n",
       "49      AYO       AYO Technology Solutions Ltd.\n",
       "50      BAT                           Brait PLC\n",
       "51      BAU                Bauba Resources Ltd.\n",
       "52      BAW                     Barloworld Ltd.\n",
       "53     BAWP                     Barloworld Ltd.\n",
       "54      BCF                 Bowler Metcalf Ltd.\n",
       "55      BEL                 Bell Equipment Ltd.\n",
       "56      BHP                       BHP Group plc\n",
       "57      BID                Bid Corporation Ltd.\n",
       "58   BIHLEB                           Brait PLC\n",
       "59      BIK                         Brikor Ltd."
      ]
     },
     "execution_count": 14,
     "metadata": {},
     "output_type": "execute_result"
    }
   ],
   "source": [
    "# Drop column Ticker, not really useful.\n",
    "stock_data.drop(columns=['Ticker'], inplace=True)\n",
    "# Drop the last row containing heading data\n",
    "stock_data.drop(index=527, inplace=True)\n",
    "# Remove Exchange Traded Notes\n",
    "stock_data = stock_data[stock_data['Company'] != 'Exchange Traded Notes']\n",
    "# Remove Exchange Traded Funds\n",
    "stock_data = stock_data[stock_data['Company'] != 'Exchange Traded Funds']\n",
    "# Reset the index\n",
    "stock_data.reset_index(inplace=True, drop=True)\n",
    "# Now let's take a look\n",
    "stock_data.iloc[40:60]"
   ]
  },
  {
   "cell_type": "code",
   "execution_count": 15,
   "id": "73ee0ade-8221-4ce1-bc92-1f17449b32a5",
   "metadata": {},
   "outputs": [
    {
     "data": {
      "text/plain": [
       "(355, 2)"
      ]
     },
     "execution_count": 15,
     "metadata": {},
     "output_type": "execute_result"
    }
   ],
   "source": [
    "stock_data.shape"
   ]
  },
  {
   "cell_type": "code",
   "execution_count": null,
   "id": "040db9ff-b514-4ef7-aa27-54efb470b185",
   "metadata": {},
   "outputs": [],
   "source": []
  }
 ],
 "metadata": {
  "kernelspec": {
   "display_name": "Python 3 (ipykernel)",
   "language": "python",
   "name": "python3"
  },
  "language_info": {
   "codemirror_mode": {
    "name": "ipython",
    "version": 3
   },
   "file_extension": ".py",
   "mimetype": "text/x-python",
   "name": "python",
   "nbconvert_exporter": "python",
   "pygments_lexer": "ipython3",
   "version": "3.8.12"
  }
 },
 "nbformat": 4,
 "nbformat_minor": 5
}
