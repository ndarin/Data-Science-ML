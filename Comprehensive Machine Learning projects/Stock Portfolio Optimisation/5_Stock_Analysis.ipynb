{
 "cells": [
  {
   "cell_type": "markdown",
   "id": "a71640f7-5c55-4929-b62e-553db50b33fd",
   "metadata": {},
   "source": [
    "# **Portfolio Optimisation and Backtesting**"
   ]
  },
  {
   "cell_type": "markdown",
   "id": "f079e519-b86e-4a6b-866d-e24a5d59483e",
   "metadata": {},
   "source": [
    "## Stock Analysis & Selection"
   ]
  },
  {
   "cell_type": "markdown",
   "id": "cafa87d9-55aa-4c51-8bab-9a2511e9adff",
   "metadata": {},
   "source": [
    "The aim of this stage of the project is to come up with a selection of stocks that can be included in the client's portfolio. This will be achieved by filtering out stocks that do not meet the criteria set out in the Investment Policy Statement. \n",
    "\n",
    "Prior to that, we will analyse the stock data to get a better understanding of the data and to identify groups which we can use to categorise the stocks."
   ]
  },
  {
   "cell_type": "markdown",
   "id": "656ff634-3282-4dd3-9174-dd82c23594eb",
   "metadata": {},
   "source": [
    "## Objectives\n",
    "\n",
    "In this notebook we will:\n",
    "* Identify outliers\n",
    "* Distribution analysis\n",
    "* Segmentation\n",
    "* Filtering\n",
    "* Stock selection"
   ]
  },
  {
   "cell_type": "markdown",
   "id": "5338c467-b41e-41c3-86ba-5a45e5e0aa27",
   "metadata": {},
   "source": [
    "Let's start by importing libraries."
   ]
  },
  {
   "cell_type": "markdown",
   "id": "093fde94-8493-4c0c-977d-95175fe89bd0",
   "metadata": {},
   "source": [
    "### Import libraries"
   ]
  },
  {
   "cell_type": "code",
   "execution_count": 1,
   "id": "cc7be4ea-1a83-4ce2-a4b8-a0792d94e132",
   "metadata": {},
   "outputs": [],
   "source": [
    "import pandas as pd\n",
    "import numpy as np\n",
    "import seaborn as sns\n",
    "import plotly.express as px\n",
    "import matplotlib as mpl\n",
    "import matplotlib.pyplot as plt\n",
    "%matplotlib inline"
   ]
  },
  {
   "cell_type": "markdown",
   "id": "bcf7a491-88e6-449f-814a-2bfb041bcdc6",
   "metadata": {},
   "source": [
    "### Load data"
   ]
  },
  {
   "cell_type": "markdown",
   "id": "879dd80d-7166-4367-adea-9a260f1bf4b8",
   "metadata": {},
   "source": [
    "Next, we'll load the data from a csv file `jse_stock_data_cleaned.csv`. The file contains cleaned fundamentals data of Johannesburg Stock Exchange (JSE) listed companies sourced from Yahoo! Finance. "
   ]
  },
  {
   "cell_type": "code",
   "execution_count": 2,
   "id": "6aec2c6c-5f12-44c0-8062-02945d981779",
   "metadata": {},
   "outputs": [
    {
     "data": {
      "text/html": [
       "<div>\n",
       "<style scoped>\n",
       "    .dataframe tbody tr th:only-of-type {\n",
       "        vertical-align: middle;\n",
       "    }\n",
       "\n",
       "    .dataframe tbody tr th {\n",
       "        vertical-align: top;\n",
       "    }\n",
       "\n",
       "    .dataframe thead th {\n",
       "        text-align: right;\n",
       "    }\n",
       "</style>\n",
       "<table border=\"1\" class=\"dataframe\">\n",
       "  <thead>\n",
       "    <tr style=\"text-align: right;\">\n",
       "      <th></th>\n",
       "      <th>Ticker</th>\n",
       "      <th>Name</th>\n",
       "      <th>Sector</th>\n",
       "      <th>Market_cap</th>\n",
       "      <th>EPS</th>\n",
       "      <th>PE_ratio</th>\n",
       "      <th>ROE</th>\n",
       "      <th>PB_ratio</th>\n",
       "      <th>Div_payout</th>\n",
       "      <th>PS_ratio</th>\n",
       "      <th>FCF</th>\n",
       "      <th>Debt_to_equity</th>\n",
       "    </tr>\n",
       "  </thead>\n",
       "  <tbody>\n",
       "    <tr>\n",
       "      <th>0</th>\n",
       "      <td>4SI.JO</td>\n",
       "      <td>4Sight Holdings Ltd</td>\n",
       "      <td>Technology</td>\n",
       "      <td>1.581677e+08</td>\n",
       "      <td>-0.015</td>\n",
       "      <td>1670.786848</td>\n",
       "      <td>0.02316</td>\n",
       "      <td>51.72414</td>\n",
       "      <td>0.000000</td>\n",
       "      <td>32.012260</td>\n",
       "      <td>1.271870e+06</td>\n",
       "      <td>4.158000</td>\n",
       "    </tr>\n",
       "    <tr>\n",
       "      <th>1</th>\n",
       "      <td>ABG.JO</td>\n",
       "      <td>Absa Group Limited</td>\n",
       "      <td>Financial Services</td>\n",
       "      <td>1.339503e+11</td>\n",
       "      <td>16.349</td>\n",
       "      <td>987.155150</td>\n",
       "      <td>0.11218</td>\n",
       "      <td>110.10596</td>\n",
       "      <td>0.000000</td>\n",
       "      <td>186.482390</td>\n",
       "      <td>-2.810094e+06</td>\n",
       "      <td>53.877206</td>\n",
       "    </tr>\n",
       "    <tr>\n",
       "      <th>2</th>\n",
       "      <td>ABSP.JO</td>\n",
       "      <td>ABSA Bank Ltd Pref</td>\n",
       "      <td>Financial Services</td>\n",
       "      <td>3.631238e+09</td>\n",
       "      <td>17.941</td>\n",
       "      <td>4514.798300</td>\n",
       "      <td>0.09397</td>\n",
       "      <td>391.96520</td>\n",
       "      <td>0.297079</td>\n",
       "      <td>7.510627</td>\n",
       "      <td>-2.810094e+06</td>\n",
       "      <td>53.877206</td>\n",
       "    </tr>\n",
       "    <tr>\n",
       "      <th>3</th>\n",
       "      <td>ACL.JO</td>\n",
       "      <td>ArcelorMittal SA Limited</td>\n",
       "      <td>Basic Materials</td>\n",
       "      <td>1.058880e+10</td>\n",
       "      <td>2.326</td>\n",
       "      <td>408.426480</td>\n",
       "      <td>0.84142</td>\n",
       "      <td>230.07991</td>\n",
       "      <td>0.000000</td>\n",
       "      <td>33.911274</td>\n",
       "      <td>1.944500e+07</td>\n",
       "      <td>148.718000</td>\n",
       "    </tr>\n",
       "    <tr>\n",
       "      <th>4</th>\n",
       "      <td>ACS.JO</td>\n",
       "      <td>Acsion Limited</td>\n",
       "      <td>Real Estate</td>\n",
       "      <td>1.647768e+09</td>\n",
       "      <td>1.494</td>\n",
       "      <td>280.455170</td>\n",
       "      <td>0.08583</td>\n",
       "      <td>21.17124</td>\n",
       "      <td>0.000000</td>\n",
       "      <td>225.912260</td>\n",
       "      <td>1.832291e+06</td>\n",
       "      <td>15.684000</td>\n",
       "    </tr>\n",
       "  </tbody>\n",
       "</table>\n",
       "</div>"
      ],
      "text/plain": [
       "    Ticker                      Name              Sector    Market_cap  \\\n",
       "0   4SI.JO       4Sight Holdings Ltd          Technology  1.581677e+08   \n",
       "1   ABG.JO        Absa Group Limited  Financial Services  1.339503e+11   \n",
       "2  ABSP.JO        ABSA Bank Ltd Pref  Financial Services  3.631238e+09   \n",
       "3   ACL.JO  ArcelorMittal SA Limited     Basic Materials  1.058880e+10   \n",
       "4   ACS.JO            Acsion Limited         Real Estate  1.647768e+09   \n",
       "\n",
       "      EPS     PE_ratio      ROE   PB_ratio  Div_payout    PS_ratio  \\\n",
       "0  -0.015  1670.786848  0.02316   51.72414    0.000000   32.012260   \n",
       "1  16.349   987.155150  0.11218  110.10596    0.000000  186.482390   \n",
       "2  17.941  4514.798300  0.09397  391.96520    0.297079    7.510627   \n",
       "3   2.326   408.426480  0.84142  230.07991    0.000000   33.911274   \n",
       "4   1.494   280.455170  0.08583   21.17124    0.000000  225.912260   \n",
       "\n",
       "            FCF  Debt_to_equity  \n",
       "0  1.271870e+06        4.158000  \n",
       "1 -2.810094e+06       53.877206  \n",
       "2 -2.810094e+06       53.877206  \n",
       "3  1.944500e+07      148.718000  \n",
       "4  1.832291e+06       15.684000  "
      ]
     },
     "execution_count": 2,
     "metadata": {},
     "output_type": "execute_result"
    }
   ],
   "source": [
    "df = pd.read_csv('jse_stock_data_cleaned.csv')\n",
    "# Take a look at the few rows \n",
    "df.head()"
   ]
  },
  {
   "cell_type": "markdown",
   "id": "b2fc3272-d657-4f2a-9ea1-24b87bd93635",
   "metadata": {},
   "source": [
    "We need to get a general idea of the dataset. We'll look at the Dataframe itself, its size and get a statistical summary of the data. "
   ]
  },
  {
   "cell_type": "code",
   "execution_count": 4,
   "id": "01558e4f-3aeb-4c61-b605-04d26123b22b",
   "metadata": {},
   "outputs": [
    {
     "data": {
      "text/plain": [
       "(328, 12)"
      ]
     },
     "execution_count": 4,
     "metadata": {},
     "output_type": "execute_result"
    }
   ],
   "source": [
    "# How big is the dataset\n",
    "df.shape"
   ]
  },
  {
   "cell_type": "markdown",
   "id": "bd35371d-3d66-4c8f-8e37-0a572ea8985a",
   "metadata": {},
   "source": [
    "A general description of the dataframe."
   ]
  },
  {
   "cell_type": "code",
   "execution_count": 5,
   "id": "6c74af00-c16d-4056-878d-3faa0be3862f",
   "metadata": {},
   "outputs": [
    {
     "name": "stdout",
     "output_type": "stream",
     "text": [
      "<class 'pandas.core.frame.DataFrame'>\n",
      "RangeIndex: 328 entries, 0 to 327\n",
      "Data columns (total 12 columns):\n",
      " #   Column          Non-Null Count  Dtype  \n",
      "---  ------          --------------  -----  \n",
      " 0   Ticker          328 non-null    object \n",
      " 1   Name            328 non-null    object \n",
      " 2   Sector          328 non-null    object \n",
      " 3   Market_cap      328 non-null    float64\n",
      " 4   EPS             328 non-null    float64\n",
      " 5   PE_ratio        328 non-null    float64\n",
      " 6   ROE             328 non-null    float64\n",
      " 7   PB_ratio        328 non-null    float64\n",
      " 8   Div_payout      328 non-null    float64\n",
      " 9   PS_ratio        328 non-null    float64\n",
      " 10  FCF             328 non-null    float64\n",
      " 11  Debt_to_equity  328 non-null    float64\n",
      "dtypes: float64(9), object(3)\n",
      "memory usage: 30.9+ KB\n"
     ]
    }
   ],
   "source": [
    "df.info()"
   ]
  },
  {
   "cell_type": "markdown",
   "id": "bfc85bda-fe96-42ff-aa3d-9eeb2be2b917",
   "metadata": {},
   "source": [
    "The dataset has 12 columns. Ticker and Name will only help us identify the 328 listed stocks. We'll use the rest of the attributes to filter the list of stocks to a small number from which we can pick relevant stocks for our portfolio. The data doesn't contain any null values and most of the columns excluding Ticker, Name and Sector are of data type float. We'll leave it as it is for now. "
   ]
  },
  {
   "cell_type": "markdown",
   "id": "044dd5eb-ed5e-487f-99cb-a33ba915b48d",
   "metadata": {},
   "source": [
    "Let's take a look at a summary of descriptive statistics."
   ]
  },
  {
   "cell_type": "code",
   "execution_count": 6,
   "id": "222a3e6a-66a5-49fb-b341-0f3eae51f87a",
   "metadata": {},
   "outputs": [
    {
     "data": {
      "text/html": [
       "<div>\n",
       "<style scoped>\n",
       "    .dataframe tbody tr th:only-of-type {\n",
       "        vertical-align: middle;\n",
       "    }\n",
       "\n",
       "    .dataframe tbody tr th {\n",
       "        vertical-align: top;\n",
       "    }\n",
       "\n",
       "    .dataframe thead th {\n",
       "        text-align: right;\n",
       "    }\n",
       "</style>\n",
       "<table border=\"1\" class=\"dataframe\">\n",
       "  <thead>\n",
       "    <tr style=\"text-align: right;\">\n",
       "      <th></th>\n",
       "      <th>Market_cap</th>\n",
       "      <th>EPS</th>\n",
       "      <th>PE_ratio</th>\n",
       "      <th>ROE</th>\n",
       "      <th>PB_ratio</th>\n",
       "      <th>Div_payout</th>\n",
       "      <th>PS_ratio</th>\n",
       "      <th>FCF</th>\n",
       "      <th>Debt_to_equity</th>\n",
       "    </tr>\n",
       "  </thead>\n",
       "  <tbody>\n",
       "    <tr>\n",
       "      <th>count</th>\n",
       "      <td>3.280000e+02</td>\n",
       "      <td>328.000000</td>\n",
       "      <td>328.000000</td>\n",
       "      <td>328.000000</td>\n",
       "      <td>328.000000</td>\n",
       "      <td>328.000000</td>\n",
       "      <td>3.280000e+02</td>\n",
       "      <td>3.280000e+02</td>\n",
       "      <td>328.000000</td>\n",
       "    </tr>\n",
       "    <tr>\n",
       "      <th>mean</th>\n",
       "      <td>5.553848e+10</td>\n",
       "      <td>8.657112</td>\n",
       "      <td>2375.810703</td>\n",
       "      <td>0.076351</td>\n",
       "      <td>957.851928</td>\n",
       "      <td>0.289123</td>\n",
       "      <td>inf</td>\n",
       "      <td>1.873121e+07</td>\n",
       "      <td>89.712970</td>\n",
       "    </tr>\n",
       "    <tr>\n",
       "      <th>std</th>\n",
       "      <td>2.340116e+11</td>\n",
       "      <td>38.243441</td>\n",
       "      <td>7203.239307</td>\n",
       "      <td>0.460573</td>\n",
       "      <td>4246.726577</td>\n",
       "      <td>0.652091</td>\n",
       "      <td>NaN</td>\n",
       "      <td>8.619264e+07</td>\n",
       "      <td>180.836023</td>\n",
       "    </tr>\n",
       "    <tr>\n",
       "      <th>min</th>\n",
       "      <td>2.189840e+06</td>\n",
       "      <td>-24.746000</td>\n",
       "      <td>26.985033</td>\n",
       "      <td>-5.433330</td>\n",
       "      <td>2.244709</td>\n",
       "      <td>0.000000</td>\n",
       "      <td>-4.203837e+06</td>\n",
       "      <td>-1.967200e+08</td>\n",
       "      <td>0.042000</td>\n",
       "    </tr>\n",
       "    <tr>\n",
       "      <th>25%</th>\n",
       "      <td>7.029253e+08</td>\n",
       "      <td>0.028500</td>\n",
       "      <td>814.620650</td>\n",
       "      <td>0.023955</td>\n",
       "      <td>73.285640</td>\n",
       "      <td>0.000000</td>\n",
       "      <td>3.697316e+01</td>\n",
       "      <td>-6.218000e+04</td>\n",
       "      <td>21.059500</td>\n",
       "    </tr>\n",
       "    <tr>\n",
       "      <th>50%</th>\n",
       "      <td>3.314154e+09</td>\n",
       "      <td>0.879000</td>\n",
       "      <td>1304.051000</td>\n",
       "      <td>0.093745</td>\n",
       "      <td>149.750015</td>\n",
       "      <td>0.093700</td>\n",
       "      <td>1.294027e+02</td>\n",
       "      <td>1.007132e+06</td>\n",
       "      <td>53.877206</td>\n",
       "    </tr>\n",
       "    <tr>\n",
       "      <th>75%</th>\n",
       "      <td>2.113671e+10</td>\n",
       "      <td>4.779250</td>\n",
       "      <td>2024.856675</td>\n",
       "      <td>0.166985</td>\n",
       "      <td>597.892621</td>\n",
       "      <td>0.397200</td>\n",
       "      <td>4.650257e+02</td>\n",
       "      <td>7.785312e+06</td>\n",
       "      <td>87.827750</td>\n",
       "    </tr>\n",
       "    <tr>\n",
       "      <th>max</th>\n",
       "      <td>2.634597e+12</td>\n",
       "      <td>561.077000</td>\n",
       "      <td>112272.730000</td>\n",
       "      <td>3.297800</td>\n",
       "      <td>69934.640000</td>\n",
       "      <td>8.068900</td>\n",
       "      <td>inf</td>\n",
       "      <td>8.581362e+08</td>\n",
       "      <td>1779.873000</td>\n",
       "    </tr>\n",
       "  </tbody>\n",
       "</table>\n",
       "</div>"
      ],
      "text/plain": [
       "         Market_cap         EPS       PE_ratio         ROE      PB_ratio  \\\n",
       "count  3.280000e+02  328.000000     328.000000  328.000000    328.000000   \n",
       "mean   5.553848e+10    8.657112    2375.810703    0.076351    957.851928   \n",
       "std    2.340116e+11   38.243441    7203.239307    0.460573   4246.726577   \n",
       "min    2.189840e+06  -24.746000      26.985033   -5.433330      2.244709   \n",
       "25%    7.029253e+08    0.028500     814.620650    0.023955     73.285640   \n",
       "50%    3.314154e+09    0.879000    1304.051000    0.093745    149.750015   \n",
       "75%    2.113671e+10    4.779250    2024.856675    0.166985    597.892621   \n",
       "max    2.634597e+12  561.077000  112272.730000    3.297800  69934.640000   \n",
       "\n",
       "       Div_payout      PS_ratio           FCF  Debt_to_equity  \n",
       "count  328.000000  3.280000e+02  3.280000e+02      328.000000  \n",
       "mean     0.289123           inf  1.873121e+07       89.712970  \n",
       "std      0.652091           NaN  8.619264e+07      180.836023  \n",
       "min      0.000000 -4.203837e+06 -1.967200e+08        0.042000  \n",
       "25%      0.000000  3.697316e+01 -6.218000e+04       21.059500  \n",
       "50%      0.093700  1.294027e+02  1.007132e+06       53.877206  \n",
       "75%      0.397200  4.650257e+02  7.785312e+06       87.827750  \n",
       "max      8.068900           inf  8.581362e+08     1779.873000  "
      ]
     },
     "execution_count": 6,
     "metadata": {},
     "output_type": "execute_result"
    }
   ],
   "source": [
    "df.describe()"
   ]
  },
  {
   "cell_type": "markdown",
   "id": "43e7a490-b39e-4030-b5b2-58c1b35635de",
   "metadata": {},
   "source": [
    "### Distribution Analysis"
   ]
  },
  {
   "cell_type": "markdown",
   "id": "9d550a94-02c3-4145-9bf2-e1590a13514c",
   "metadata": {},
   "source": [
    "#### Sector Concentration"
   ]
  },
  {
   "cell_type": "markdown",
   "id": "8123792f-0101-495b-8d3c-c336464c4c8d",
   "metadata": {},
   "source": [
    "Let's start by looking the distribution of our population by sector. Which sectors are well represented and which are under-represented. We'll use a histogram to view the distribution."
   ]
  },
  {
   "cell_type": "code",
   "execution_count": 71,
   "id": "12da090f-70be-4649-8367-51dc6e1736bf",
   "metadata": {},
   "outputs": [
    {
     "data": {
      "application/vnd.plotly.v1+json": {
       "config": {
        "plotlyServerURL": "https://plot.ly"
       },
       "data": [
        {
         "alignmentgroup": "True",
         "bingroup": "x",
         "hovertemplate": "Sector=%{x}<br>count=%{y}<extra></extra>",
         "legendgroup": "Technology",
         "marker": {
          "color": "#1F77B4",
          "pattern": {
           "shape": ""
          }
         },
         "name": "Technology",
         "offsetgroup": "Technology",
         "orientation": "v",
         "showlegend": true,
         "type": "histogram",
         "x": [
          "Technology",
          "Technology",
          "Technology",
          "Technology",
          "Technology",
          "Technology",
          "Technology",
          "Technology",
          "Technology",
          "Technology",
          "Technology",
          "Technology",
          "Technology",
          "Technology",
          "Technology",
          "Technology",
          "Technology",
          "Technology",
          "Technology",
          "Technology",
          "Technology",
          "Technology",
          "Technology"
         ],
         "xaxis": "x",
         "yaxis": "y"
        },
        {
         "alignmentgroup": "True",
         "bingroup": "x",
         "hovertemplate": "Sector=%{x}<br>count=%{y}<extra></extra>",
         "legendgroup": "Financial Services",
         "marker": {
          "color": "#FF7F0E",
          "pattern": {
           "shape": ""
          }
         },
         "name": "Financial Services",
         "offsetgroup": "Financial Services",
         "orientation": "v",
         "showlegend": true,
         "type": "histogram",
         "x": [
          "Financial Services",
          "Financial Services",
          "Financial Services",
          "Financial Services",
          "Financial Services",
          "Financial Services",
          "Financial Services",
          "Financial Services",
          "Financial Services",
          "Financial Services",
          "Financial Services",
          "Financial Services",
          "Financial Services",
          "Financial Services",
          "Financial Services",
          "Financial Services",
          "Financial Services",
          "Financial Services",
          "Financial Services",
          "Financial Services",
          "Financial Services",
          "Financial Services",
          "Financial Services",
          "Financial Services",
          "Financial Services",
          "Financial Services",
          "Financial Services",
          "Financial Services",
          "Financial Services",
          "Financial Services",
          "Financial Services",
          "Financial Services",
          "Financial Services",
          "Financial Services",
          "Financial Services",
          "Financial Services",
          "Financial Services",
          "Financial Services",
          "Financial Services",
          "Financial Services",
          "Financial Services",
          "Financial Services",
          "Financial Services",
          "Financial Services",
          "Financial Services",
          "Financial Services",
          "Financial Services",
          "Financial Services",
          "Financial Services",
          "Financial Services",
          "Financial Services",
          "Financial Services",
          "Financial Services",
          "Financial Services"
         ],
         "xaxis": "x",
         "yaxis": "y"
        },
        {
         "alignmentgroup": "True",
         "bingroup": "x",
         "hovertemplate": "Sector=%{x}<br>count=%{y}<extra></extra>",
         "legendgroup": "Basic Materials",
         "marker": {
          "color": "#2CA02C",
          "pattern": {
           "shape": ""
          }
         },
         "name": "Basic Materials",
         "offsetgroup": "Basic Materials",
         "orientation": "v",
         "showlegend": true,
         "type": "histogram",
         "x": [
          "Basic Materials",
          "Basic Materials",
          "Basic Materials",
          "Basic Materials",
          "Basic Materials",
          "Basic Materials",
          "Basic Materials",
          "Basic Materials",
          "Basic Materials",
          "Basic Materials",
          "Basic Materials",
          "Basic Materials",
          "Basic Materials",
          "Basic Materials",
          "Basic Materials",
          "Basic Materials",
          "Basic Materials",
          "Basic Materials",
          "Basic Materials",
          "Basic Materials",
          "Basic Materials",
          "Basic Materials",
          "Basic Materials",
          "Basic Materials",
          "Basic Materials",
          "Basic Materials",
          "Basic Materials",
          "Basic Materials",
          "Basic Materials",
          "Basic Materials",
          "Basic Materials",
          "Basic Materials",
          "Basic Materials",
          "Basic Materials",
          "Basic Materials",
          "Basic Materials",
          "Basic Materials",
          "Basic Materials",
          "Basic Materials",
          "Basic Materials",
          "Basic Materials"
         ],
         "xaxis": "x",
         "yaxis": "y"
        },
        {
         "alignmentgroup": "True",
         "bingroup": "x",
         "hovertemplate": "Sector=%{x}<br>count=%{y}<extra></extra>",
         "legendgroup": "Real Estate",
         "marker": {
          "color": "#D62728",
          "pattern": {
           "shape": ""
          }
         },
         "name": "Real Estate",
         "offsetgroup": "Real Estate",
         "orientation": "v",
         "showlegend": true,
         "type": "histogram",
         "x": [
          "Real Estate",
          "Real Estate",
          "Real Estate",
          "Real Estate",
          "Real Estate",
          "Real Estate",
          "Real Estate",
          "Real Estate",
          "Real Estate",
          "Real Estate",
          "Real Estate",
          "Real Estate",
          "Real Estate",
          "Real Estate",
          "Real Estate",
          "Real Estate",
          "Real Estate",
          "Real Estate",
          "Real Estate",
          "Real Estate",
          "Real Estate",
          "Real Estate",
          "Real Estate",
          "Real Estate",
          "Real Estate",
          "Real Estate",
          "Real Estate",
          "Real Estate",
          "Real Estate",
          "Real Estate",
          "Real Estate",
          "Real Estate",
          "Real Estate",
          "Real Estate",
          "Real Estate",
          "Real Estate",
          "Real Estate",
          "Real Estate",
          "Real Estate",
          "Real Estate",
          "Real Estate",
          "Real Estate",
          "Real Estate",
          "Real Estate",
          "Real Estate",
          "Real Estate",
          "Real Estate",
          "Real Estate",
          "Real Estate",
          "Real Estate",
          "Real Estate",
          "Real Estate"
         ],
         "xaxis": "x",
         "yaxis": "y"
        },
        {
         "alignmentgroup": "True",
         "bingroup": "x",
         "hovertemplate": "Sector=%{x}<br>count=%{y}<extra></extra>",
         "legendgroup": "Healthcare",
         "marker": {
          "color": "#9467BD",
          "pattern": {
           "shape": ""
          }
         },
         "name": "Healthcare",
         "offsetgroup": "Healthcare",
         "orientation": "v",
         "showlegend": true,
         "type": "histogram",
         "x": [
          "Healthcare",
          "Healthcare",
          "Healthcare",
          "Healthcare",
          "Healthcare",
          "Healthcare",
          "Healthcare",
          "Healthcare",
          "Healthcare",
          "Healthcare",
          "Healthcare",
          "Healthcare",
          "Healthcare"
         ],
         "xaxis": "x",
         "yaxis": "y"
        },
        {
         "alignmentgroup": "True",
         "bingroup": "x",
         "hovertemplate": "Sector=%{x}<br>count=%{y}<extra></extra>",
         "legendgroup": "Consumer Cyclical",
         "marker": {
          "color": "#8C564B",
          "pattern": {
           "shape": ""
          }
         },
         "name": "Consumer Cyclical",
         "offsetgroup": "Consumer Cyclical",
         "orientation": "v",
         "showlegend": true,
         "type": "histogram",
         "x": [
          "Consumer Cyclical",
          "Consumer Cyclical",
          "Consumer Cyclical",
          "Consumer Cyclical",
          "Consumer Cyclical",
          "Consumer Cyclical",
          "Consumer Cyclical",
          "Consumer Cyclical",
          "Consumer Cyclical",
          "Consumer Cyclical",
          "Consumer Cyclical",
          "Consumer Cyclical",
          "Consumer Cyclical",
          "Consumer Cyclical",
          "Consumer Cyclical",
          "Consumer Cyclical",
          "Consumer Cyclical",
          "Consumer Cyclical",
          "Consumer Cyclical",
          "Consumer Cyclical",
          "Consumer Cyclical",
          "Consumer Cyclical",
          "Consumer Cyclical",
          "Consumer Cyclical",
          "Consumer Cyclical",
          "Consumer Cyclical",
          "Consumer Cyclical",
          "Consumer Cyclical",
          "Consumer Cyclical",
          "Consumer Cyclical",
          "Consumer Cyclical",
          "Consumer Cyclical",
          "Consumer Cyclical",
          "Consumer Cyclical",
          "Consumer Cyclical",
          "Consumer Cyclical",
          "Consumer Cyclical",
          "Consumer Cyclical",
          "Consumer Cyclical",
          "Consumer Cyclical",
          "Consumer Cyclical"
         ],
         "xaxis": "x",
         "yaxis": "y"
        },
        {
         "alignmentgroup": "True",
         "bingroup": "x",
         "hovertemplate": "Sector=%{x}<br>count=%{y}<extra></extra>",
         "legendgroup": "Consumer Defensive",
         "marker": {
          "color": "#E377C2",
          "pattern": {
           "shape": ""
          }
         },
         "name": "Consumer Defensive",
         "offsetgroup": "Consumer Defensive",
         "orientation": "v",
         "showlegend": true,
         "type": "histogram",
         "x": [
          "Consumer Defensive",
          "Consumer Defensive",
          "Consumer Defensive",
          "Consumer Defensive",
          "Consumer Defensive",
          "Consumer Defensive",
          "Consumer Defensive",
          "Consumer Defensive",
          "Consumer Defensive",
          "Consumer Defensive",
          "Consumer Defensive",
          "Consumer Defensive",
          "Consumer Defensive",
          "Consumer Defensive",
          "Consumer Defensive",
          "Consumer Defensive",
          "Consumer Defensive",
          "Consumer Defensive",
          "Consumer Defensive",
          "Consumer Defensive",
          "Consumer Defensive",
          "Consumer Defensive",
          "Consumer Defensive",
          "Consumer Defensive",
          "Consumer Defensive",
          "Consumer Defensive",
          "Consumer Defensive",
          "Consumer Defensive"
         ],
         "xaxis": "x",
         "yaxis": "y"
        },
        {
         "alignmentgroup": "True",
         "bingroup": "x",
         "hovertemplate": "Sector=%{x}<br>count=%{y}<extra></extra>",
         "legendgroup": "Industrials",
         "marker": {
          "color": "#7F7F7F",
          "pattern": {
           "shape": ""
          }
         },
         "name": "Industrials",
         "offsetgroup": "Industrials",
         "orientation": "v",
         "showlegend": true,
         "type": "histogram",
         "x": [
          "Industrials",
          "Industrials",
          "Industrials",
          "Industrials",
          "Industrials",
          "Industrials",
          "Industrials",
          "Industrials",
          "Industrials",
          "Industrials",
          "Industrials",
          "Industrials",
          "Industrials",
          "Industrials",
          "Industrials",
          "Industrials",
          "Industrials",
          "Industrials",
          "Industrials",
          "Industrials",
          "Industrials",
          "Industrials",
          "Industrials",
          "Industrials",
          "Industrials",
          "Industrials",
          "Industrials",
          "Industrials",
          "Industrials",
          "Industrials",
          "Industrials",
          "Industrials",
          "Industrials",
          "Industrials",
          "Industrials",
          "Industrials",
          "Industrials",
          "Industrials",
          "Industrials",
          "Industrials",
          "Industrials",
          "Industrials",
          "Industrials",
          "Industrials",
          "Industrials",
          "Industrials",
          "Industrials"
         ],
         "xaxis": "x",
         "yaxis": "y"
        },
        {
         "alignmentgroup": "True",
         "bingroup": "x",
         "hovertemplate": "Sector=%{x}<br>count=%{y}<extra></extra>",
         "legendgroup": "Communication Services",
         "marker": {
          "color": "#BCBD22",
          "pattern": {
           "shape": ""
          }
         },
         "name": "Communication Services",
         "offsetgroup": "Communication Services",
         "orientation": "v",
         "showlegend": true,
         "type": "histogram",
         "x": [
          "Communication Services",
          "Communication Services",
          "Communication Services",
          "Communication Services",
          "Communication Services",
          "Communication Services",
          "Communication Services",
          "Communication Services",
          "Communication Services",
          "Communication Services",
          "Communication Services",
          "Communication Services",
          "Communication Services",
          "Communication Services",
          "Communication Services"
         ],
         "xaxis": "x",
         "yaxis": "y"
        },
        {
         "alignmentgroup": "True",
         "bingroup": "x",
         "hovertemplate": "Sector=%{x}<br>count=%{y}<extra></extra>",
         "legendgroup": "Energy",
         "marker": {
          "color": "#17BECF",
          "pattern": {
           "shape": ""
          }
         },
         "name": "Energy",
         "offsetgroup": "Energy",
         "orientation": "v",
         "showlegend": true,
         "type": "histogram",
         "x": [
          "Energy",
          "Energy",
          "Energy",
          "Energy",
          "Energy",
          "Energy",
          "Energy",
          "Energy",
          "Energy",
          "Energy",
          "Energy",
          "Energy"
         ],
         "xaxis": "x",
         "yaxis": "y"
        },
        {
         "alignmentgroup": "True",
         "bingroup": "x",
         "hovertemplate": "Sector=%{x}<br>count=%{y}<extra></extra>",
         "legendgroup": "Utilities",
         "marker": {
          "color": "#1F77B4",
          "pattern": {
           "shape": ""
          }
         },
         "name": "Utilities",
         "offsetgroup": "Utilities",
         "orientation": "v",
         "showlegend": true,
         "type": "histogram",
         "x": [
          "Utilities",
          "Utilities"
         ],
         "xaxis": "x",
         "yaxis": "y"
        }
       ],
       "layout": {
        "autosize": true,
        "barmode": "relative",
        "legend": {
         "title": {
          "text": "Sector"
         },
         "tracegroupgap": 0
        },
        "template": {
         "data": {
          "bar": [
           {
            "error_x": {
             "color": "rgb(36,36,36)"
            },
            "error_y": {
             "color": "rgb(36,36,36)"
            },
            "marker": {
             "line": {
              "color": "white",
              "width": 0.5
             },
             "pattern": {
              "fillmode": "overlay",
              "size": 10,
              "solidity": 0.2
             }
            },
            "type": "bar"
           }
          ],
          "barpolar": [
           {
            "marker": {
             "line": {
              "color": "white",
              "width": 0.5
             },
             "pattern": {
              "fillmode": "overlay",
              "size": 10,
              "solidity": 0.2
             }
            },
            "type": "barpolar"
           }
          ],
          "carpet": [
           {
            "aaxis": {
             "endlinecolor": "rgb(36,36,36)",
             "gridcolor": "white",
             "linecolor": "white",
             "minorgridcolor": "white",
             "startlinecolor": "rgb(36,36,36)"
            },
            "baxis": {
             "endlinecolor": "rgb(36,36,36)",
             "gridcolor": "white",
             "linecolor": "white",
             "minorgridcolor": "white",
             "startlinecolor": "rgb(36,36,36)"
            },
            "type": "carpet"
           }
          ],
          "choropleth": [
           {
            "colorbar": {
             "outlinewidth": 1,
             "tickcolor": "rgb(36,36,36)",
             "ticks": "outside"
            },
            "type": "choropleth"
           }
          ],
          "contour": [
           {
            "colorbar": {
             "outlinewidth": 1,
             "tickcolor": "rgb(36,36,36)",
             "ticks": "outside"
            },
            "colorscale": [
             [
              0,
              "#440154"
             ],
             [
              0.1111111111111111,
              "#482878"
             ],
             [
              0.2222222222222222,
              "#3e4989"
             ],
             [
              0.3333333333333333,
              "#31688e"
             ],
             [
              0.4444444444444444,
              "#26828e"
             ],
             [
              0.5555555555555556,
              "#1f9e89"
             ],
             [
              0.6666666666666666,
              "#35b779"
             ],
             [
              0.7777777777777778,
              "#6ece58"
             ],
             [
              0.8888888888888888,
              "#b5de2b"
             ],
             [
              1,
              "#fde725"
             ]
            ],
            "type": "contour"
           }
          ],
          "contourcarpet": [
           {
            "colorbar": {
             "outlinewidth": 1,
             "tickcolor": "rgb(36,36,36)",
             "ticks": "outside"
            },
            "type": "contourcarpet"
           }
          ],
          "heatmap": [
           {
            "colorbar": {
             "outlinewidth": 1,
             "tickcolor": "rgb(36,36,36)",
             "ticks": "outside"
            },
            "colorscale": [
             [
              0,
              "#440154"
             ],
             [
              0.1111111111111111,
              "#482878"
             ],
             [
              0.2222222222222222,
              "#3e4989"
             ],
             [
              0.3333333333333333,
              "#31688e"
             ],
             [
              0.4444444444444444,
              "#26828e"
             ],
             [
              0.5555555555555556,
              "#1f9e89"
             ],
             [
              0.6666666666666666,
              "#35b779"
             ],
             [
              0.7777777777777778,
              "#6ece58"
             ],
             [
              0.8888888888888888,
              "#b5de2b"
             ],
             [
              1,
              "#fde725"
             ]
            ],
            "type": "heatmap"
           }
          ],
          "heatmapgl": [
           {
            "colorbar": {
             "outlinewidth": 1,
             "tickcolor": "rgb(36,36,36)",
             "ticks": "outside"
            },
            "colorscale": [
             [
              0,
              "#440154"
             ],
             [
              0.1111111111111111,
              "#482878"
             ],
             [
              0.2222222222222222,
              "#3e4989"
             ],
             [
              0.3333333333333333,
              "#31688e"
             ],
             [
              0.4444444444444444,
              "#26828e"
             ],
             [
              0.5555555555555556,
              "#1f9e89"
             ],
             [
              0.6666666666666666,
              "#35b779"
             ],
             [
              0.7777777777777778,
              "#6ece58"
             ],
             [
              0.8888888888888888,
              "#b5de2b"
             ],
             [
              1,
              "#fde725"
             ]
            ],
            "type": "heatmapgl"
           }
          ],
          "histogram": [
           {
            "marker": {
             "line": {
              "color": "white",
              "width": 0.6
             }
            },
            "type": "histogram"
           }
          ],
          "histogram2d": [
           {
            "colorbar": {
             "outlinewidth": 1,
             "tickcolor": "rgb(36,36,36)",
             "ticks": "outside"
            },
            "colorscale": [
             [
              0,
              "#440154"
             ],
             [
              0.1111111111111111,
              "#482878"
             ],
             [
              0.2222222222222222,
              "#3e4989"
             ],
             [
              0.3333333333333333,
              "#31688e"
             ],
             [
              0.4444444444444444,
              "#26828e"
             ],
             [
              0.5555555555555556,
              "#1f9e89"
             ],
             [
              0.6666666666666666,
              "#35b779"
             ],
             [
              0.7777777777777778,
              "#6ece58"
             ],
             [
              0.8888888888888888,
              "#b5de2b"
             ],
             [
              1,
              "#fde725"
             ]
            ],
            "type": "histogram2d"
           }
          ],
          "histogram2dcontour": [
           {
            "colorbar": {
             "outlinewidth": 1,
             "tickcolor": "rgb(36,36,36)",
             "ticks": "outside"
            },
            "colorscale": [
             [
              0,
              "#440154"
             ],
             [
              0.1111111111111111,
              "#482878"
             ],
             [
              0.2222222222222222,
              "#3e4989"
             ],
             [
              0.3333333333333333,
              "#31688e"
             ],
             [
              0.4444444444444444,
              "#26828e"
             ],
             [
              0.5555555555555556,
              "#1f9e89"
             ],
             [
              0.6666666666666666,
              "#35b779"
             ],
             [
              0.7777777777777778,
              "#6ece58"
             ],
             [
              0.8888888888888888,
              "#b5de2b"
             ],
             [
              1,
              "#fde725"
             ]
            ],
            "type": "histogram2dcontour"
           }
          ],
          "mesh3d": [
           {
            "colorbar": {
             "outlinewidth": 1,
             "tickcolor": "rgb(36,36,36)",
             "ticks": "outside"
            },
            "type": "mesh3d"
           }
          ],
          "parcoords": [
           {
            "line": {
             "colorbar": {
              "outlinewidth": 1,
              "tickcolor": "rgb(36,36,36)",
              "ticks": "outside"
             }
            },
            "type": "parcoords"
           }
          ],
          "pie": [
           {
            "automargin": true,
            "type": "pie"
           }
          ],
          "scatter": [
           {
            "marker": {
             "colorbar": {
              "outlinewidth": 1,
              "tickcolor": "rgb(36,36,36)",
              "ticks": "outside"
             }
            },
            "type": "scatter"
           }
          ],
          "scatter3d": [
           {
            "line": {
             "colorbar": {
              "outlinewidth": 1,
              "tickcolor": "rgb(36,36,36)",
              "ticks": "outside"
             }
            },
            "marker": {
             "colorbar": {
              "outlinewidth": 1,
              "tickcolor": "rgb(36,36,36)",
              "ticks": "outside"
             }
            },
            "type": "scatter3d"
           }
          ],
          "scattercarpet": [
           {
            "marker": {
             "colorbar": {
              "outlinewidth": 1,
              "tickcolor": "rgb(36,36,36)",
              "ticks": "outside"
             }
            },
            "type": "scattercarpet"
           }
          ],
          "scattergeo": [
           {
            "marker": {
             "colorbar": {
              "outlinewidth": 1,
              "tickcolor": "rgb(36,36,36)",
              "ticks": "outside"
             }
            },
            "type": "scattergeo"
           }
          ],
          "scattergl": [
           {
            "marker": {
             "colorbar": {
              "outlinewidth": 1,
              "tickcolor": "rgb(36,36,36)",
              "ticks": "outside"
             }
            },
            "type": "scattergl"
           }
          ],
          "scattermapbox": [
           {
            "marker": {
             "colorbar": {
              "outlinewidth": 1,
              "tickcolor": "rgb(36,36,36)",
              "ticks": "outside"
             }
            },
            "type": "scattermapbox"
           }
          ],
          "scatterpolar": [
           {
            "marker": {
             "colorbar": {
              "outlinewidth": 1,
              "tickcolor": "rgb(36,36,36)",
              "ticks": "outside"
             }
            },
            "type": "scatterpolar"
           }
          ],
          "scatterpolargl": [
           {
            "marker": {
             "colorbar": {
              "outlinewidth": 1,
              "tickcolor": "rgb(36,36,36)",
              "ticks": "outside"
             }
            },
            "type": "scatterpolargl"
           }
          ],
          "scatterternary": [
           {
            "marker": {
             "colorbar": {
              "outlinewidth": 1,
              "tickcolor": "rgb(36,36,36)",
              "ticks": "outside"
             }
            },
            "type": "scatterternary"
           }
          ],
          "surface": [
           {
            "colorbar": {
             "outlinewidth": 1,
             "tickcolor": "rgb(36,36,36)",
             "ticks": "outside"
            },
            "colorscale": [
             [
              0,
              "#440154"
             ],
             [
              0.1111111111111111,
              "#482878"
             ],
             [
              0.2222222222222222,
              "#3e4989"
             ],
             [
              0.3333333333333333,
              "#31688e"
             ],
             [
              0.4444444444444444,
              "#26828e"
             ],
             [
              0.5555555555555556,
              "#1f9e89"
             ],
             [
              0.6666666666666666,
              "#35b779"
             ],
             [
              0.7777777777777778,
              "#6ece58"
             ],
             [
              0.8888888888888888,
              "#b5de2b"
             ],
             [
              1,
              "#fde725"
             ]
            ],
            "type": "surface"
           }
          ],
          "table": [
           {
            "cells": {
             "fill": {
              "color": "rgb(237,237,237)"
             },
             "line": {
              "color": "white"
             }
            },
            "header": {
             "fill": {
              "color": "rgb(217,217,217)"
             },
             "line": {
              "color": "white"
             }
            },
            "type": "table"
           }
          ]
         },
         "layout": {
          "annotationdefaults": {
           "arrowhead": 0,
           "arrowwidth": 1
          },
          "autotypenumbers": "strict",
          "coloraxis": {
           "colorbar": {
            "outlinewidth": 1,
            "tickcolor": "rgb(36,36,36)",
            "ticks": "outside"
           }
          },
          "colorscale": {
           "diverging": [
            [
             0,
             "rgb(103,0,31)"
            ],
            [
             0.1,
             "rgb(178,24,43)"
            ],
            [
             0.2,
             "rgb(214,96,77)"
            ],
            [
             0.3,
             "rgb(244,165,130)"
            ],
            [
             0.4,
             "rgb(253,219,199)"
            ],
            [
             0.5,
             "rgb(247,247,247)"
            ],
            [
             0.6,
             "rgb(209,229,240)"
            ],
            [
             0.7,
             "rgb(146,197,222)"
            ],
            [
             0.8,
             "rgb(67,147,195)"
            ],
            [
             0.9,
             "rgb(33,102,172)"
            ],
            [
             1,
             "rgb(5,48,97)"
            ]
           ],
           "sequential": [
            [
             0,
             "#440154"
            ],
            [
             0.1111111111111111,
             "#482878"
            ],
            [
             0.2222222222222222,
             "#3e4989"
            ],
            [
             0.3333333333333333,
             "#31688e"
            ],
            [
             0.4444444444444444,
             "#26828e"
            ],
            [
             0.5555555555555556,
             "#1f9e89"
            ],
            [
             0.6666666666666666,
             "#35b779"
            ],
            [
             0.7777777777777778,
             "#6ece58"
            ],
            [
             0.8888888888888888,
             "#b5de2b"
            ],
            [
             1,
             "#fde725"
            ]
           ],
           "sequentialminus": [
            [
             0,
             "#440154"
            ],
            [
             0.1111111111111111,
             "#482878"
            ],
            [
             0.2222222222222222,
             "#3e4989"
            ],
            [
             0.3333333333333333,
             "#31688e"
            ],
            [
             0.4444444444444444,
             "#26828e"
            ],
            [
             0.5555555555555556,
             "#1f9e89"
            ],
            [
             0.6666666666666666,
             "#35b779"
            ],
            [
             0.7777777777777778,
             "#6ece58"
            ],
            [
             0.8888888888888888,
             "#b5de2b"
            ],
            [
             1,
             "#fde725"
            ]
           ]
          },
          "colorway": [
           "#1F77B4",
           "#FF7F0E",
           "#2CA02C",
           "#D62728",
           "#9467BD",
           "#8C564B",
           "#E377C2",
           "#7F7F7F",
           "#BCBD22",
           "#17BECF"
          ],
          "font": {
           "color": "rgb(36,36,36)"
          },
          "geo": {
           "bgcolor": "white",
           "lakecolor": "white",
           "landcolor": "white",
           "showlakes": true,
           "showland": true,
           "subunitcolor": "white"
          },
          "hoverlabel": {
           "align": "left"
          },
          "hovermode": "closest",
          "mapbox": {
           "style": "light"
          },
          "paper_bgcolor": "white",
          "plot_bgcolor": "white",
          "polar": {
           "angularaxis": {
            "gridcolor": "rgb(232,232,232)",
            "linecolor": "rgb(36,36,36)",
            "showgrid": false,
            "showline": true,
            "ticks": "outside"
           },
           "bgcolor": "white",
           "radialaxis": {
            "gridcolor": "rgb(232,232,232)",
            "linecolor": "rgb(36,36,36)",
            "showgrid": false,
            "showline": true,
            "ticks": "outside"
           }
          },
          "scene": {
           "xaxis": {
            "backgroundcolor": "white",
            "gridcolor": "rgb(232,232,232)",
            "gridwidth": 2,
            "linecolor": "rgb(36,36,36)",
            "showbackground": true,
            "showgrid": false,
            "showline": true,
            "ticks": "outside",
            "zeroline": false,
            "zerolinecolor": "rgb(36,36,36)"
           },
           "yaxis": {
            "backgroundcolor": "white",
            "gridcolor": "rgb(232,232,232)",
            "gridwidth": 2,
            "linecolor": "rgb(36,36,36)",
            "showbackground": true,
            "showgrid": false,
            "showline": true,
            "ticks": "outside",
            "zeroline": false,
            "zerolinecolor": "rgb(36,36,36)"
           },
           "zaxis": {
            "backgroundcolor": "white",
            "gridcolor": "rgb(232,232,232)",
            "gridwidth": 2,
            "linecolor": "rgb(36,36,36)",
            "showbackground": true,
            "showgrid": false,
            "showline": true,
            "ticks": "outside",
            "zeroline": false,
            "zerolinecolor": "rgb(36,36,36)"
           }
          },
          "shapedefaults": {
           "fillcolor": "black",
           "line": {
            "width": 0
           },
           "opacity": 0.3
          },
          "ternary": {
           "aaxis": {
            "gridcolor": "rgb(232,232,232)",
            "linecolor": "rgb(36,36,36)",
            "showgrid": false,
            "showline": true,
            "ticks": "outside"
           },
           "baxis": {
            "gridcolor": "rgb(232,232,232)",
            "linecolor": "rgb(36,36,36)",
            "showgrid": false,
            "showline": true,
            "ticks": "outside"
           },
           "bgcolor": "white",
           "caxis": {
            "gridcolor": "rgb(232,232,232)",
            "linecolor": "rgb(36,36,36)",
            "showgrid": false,
            "showline": true,
            "ticks": "outside"
           }
          },
          "title": {
           "x": 0.05
          },
          "xaxis": {
           "automargin": true,
           "gridcolor": "rgb(232,232,232)",
           "linecolor": "rgb(36,36,36)",
           "showgrid": false,
           "showline": true,
           "ticks": "outside",
           "title": {
            "standoff": 15
           },
           "zeroline": false,
           "zerolinecolor": "rgb(36,36,36)"
          },
          "yaxis": {
           "automargin": true,
           "gridcolor": "rgb(232,232,232)",
           "linecolor": "rgb(36,36,36)",
           "showgrid": false,
           "showline": true,
           "ticks": "outside",
           "title": {
            "standoff": 15
           },
           "zeroline": false,
           "zerolinecolor": "rgb(36,36,36)"
          }
         }
        },
        "title": {
         "text": "Distribution by Sector"
        },
        "xaxis": {
         "anchor": "y",
         "autorange": true,
         "categoryarray": [
          "Technology",
          "Financial Services",
          "Basic Materials",
          "Real Estate",
          "Healthcare",
          "Consumer Cyclical",
          "Consumer Defensive",
          "Industrials",
          "Communication Services",
          "Energy",
          "Utilities"
         ],
         "categoryorder": "array",
         "domain": [
          0,
          1
         ],
         "range": [
          -0.5,
          10.5
         ],
         "title": {
          "text": "Sector"
         },
         "type": "category"
        },
        "yaxis": {
         "anchor": "x",
         "autorange": true,
         "domain": [
          0,
          1
         ],
         "range": [
          0,
          56.8421052631579
         ],
         "title": {
          "text": "count"
         }
        }
       }
      },
      "image/png": "[encoded data removed]",
      "text/html": [
       "<div>                            <div id=\"96ee9fa4-b00b-4dff-85d0-fdb8d2d75af4\" class=\"plotly-graph-div\" style=\"height:480px; width:100%;\"></div>            <script type=\"text/javascript\">                require([\"plotly\"], function(Plotly) {                    window.PLOTLYENV=window.PLOTLYENV || {};                                    if (document.getElementById(\"96ee9fa4-b00b-4dff-85d0-fdb8d2d75af4\")) {                    Plotly.newPlot(                        \"96ee9fa4-b00b-4dff-85d0-fdb8d2d75af4\",                        [{\"alignmentgroup\":\"True\",\"bingroup\":\"x\",\"hovertemplate\":\"Sector=%{x}<br>count=%{y}<extra></extra>\",\"legendgroup\":\"Technology\",\"marker\":{\"color\":\"#1F77B4\",\"pattern\":{\"shape\":\"\"}},\"name\":\"Technology\",\"offsetgroup\":\"Technology\",\"orientation\":\"v\",\"showlegend\":true,\"x\":[\"Technology\",\"Technology\",\"Technology\",\"Technology\",\"Technology\",\"Technology\",\"Technology\",\"Technology\",\"Technology\",\"Technology\",\"Technology\",\"Technology\",\"Technology\",\"Technology\",\"Technology\",\"Technology\",\"Technology\",\"Technology\",\"Technology\",\"Technology\",\"Technology\",\"Technology\",\"Technology\"],\"xaxis\":\"x\",\"yaxis\":\"y\",\"type\":\"histogram\"},{\"alignmentgroup\":\"True\",\"bingroup\":\"x\",\"hovertemplate\":\"Sector=%{x}<br>count=%{y}<extra></extra>\",\"legendgroup\":\"Financial Services\",\"marker\":{\"color\":\"#FF7F0E\",\"pattern\":{\"shape\":\"\"}},\"name\":\"Financial Services\",\"offsetgroup\":\"Financial Services\",\"orientation\":\"v\",\"showlegend\":true,\"x\":[\"Financial Services\",\"Financial Services\",\"Financial Services\",\"Financial Services\",\"Financial Services\",\"Financial Services\",\"Financial Services\",\"Financial Services\",\"Financial Services\",\"Financial Services\",\"Financial Services\",\"Financial Services\",\"Financial Services\",\"Financial Services\",\"Financial Services\",\"Financial Services\",\"Financial Services\",\"Financial Services\",\"Financial Services\",\"Financial Services\",\"Financial Services\",\"Financial Services\",\"Financial Services\",\"Financial Services\",\"Financial Services\",\"Financial Services\",\"Financial Services\",\"Financial Services\",\"Financial Services\",\"Financial Services\",\"Financial Services\",\"Financial Services\",\"Financial Services\",\"Financial Services\",\"Financial Services\",\"Financial Services\",\"Financial Services\",\"Financial Services\",\"Financial Services\",\"Financial Services\",\"Financial Services\",\"Financial Services\",\"Financial Services\",\"Financial Services\",\"Financial Services\",\"Financial Services\",\"Financial Services\",\"Financial Services\",\"Financial Services\",\"Financial Services\",\"Financial Services\",\"Financial Services\",\"Financial Services\",\"Financial Services\"],\"xaxis\":\"x\",\"yaxis\":\"y\",\"type\":\"histogram\"},{\"alignmentgroup\":\"True\",\"bingroup\":\"x\",\"hovertemplate\":\"Sector=%{x}<br>count=%{y}<extra></extra>\",\"legendgroup\":\"Basic Materials\",\"marker\":{\"color\":\"#2CA02C\",\"pattern\":{\"shape\":\"\"}},\"name\":\"Basic Materials\",\"offsetgroup\":\"Basic Materials\",\"orientation\":\"v\",\"showlegend\":true,\"x\":[\"Basic Materials\",\"Basic Materials\",\"Basic Materials\",\"Basic Materials\",\"Basic Materials\",\"Basic Materials\",\"Basic Materials\",\"Basic Materials\",\"Basic Materials\",\"Basic Materials\",\"Basic Materials\",\"Basic Materials\",\"Basic Materials\",\"Basic Materials\",\"Basic Materials\",\"Basic Materials\",\"Basic Materials\",\"Basic Materials\",\"Basic Materials\",\"Basic Materials\",\"Basic Materials\",\"Basic Materials\",\"Basic Materials\",\"Basic Materials\",\"Basic Materials\",\"Basic Materials\",\"Basic Materials\",\"Basic Materials\",\"Basic Materials\",\"Basic Materials\",\"Basic Materials\",\"Basic Materials\",\"Basic Materials\",\"Basic Materials\",\"Basic Materials\",\"Basic Materials\",\"Basic Materials\",\"Basic Materials\",\"Basic Materials\",\"Basic Materials\",\"Basic Materials\"],\"xaxis\":\"x\",\"yaxis\":\"y\",\"type\":\"histogram\"},{\"alignmentgroup\":\"True\",\"bingroup\":\"x\",\"hovertemplate\":\"Sector=%{x}<br>count=%{y}<extra></extra>\",\"legendgroup\":\"Real Estate\",\"marker\":{\"color\":\"#D62728\",\"pattern\":{\"shape\":\"\"}},\"name\":\"Real Estate\",\"offsetgroup\":\"Real Estate\",\"orientation\":\"v\",\"showlegend\":true,\"x\":[\"Real Estate\",\"Real Estate\",\"Real Estate\",\"Real Estate\",\"Real Estate\",\"Real Estate\",\"Real Estate\",\"Real Estate\",\"Real Estate\",\"Real Estate\",\"Real Estate\",\"Real Estate\",\"Real Estate\",\"Real Estate\",\"Real Estate\",\"Real Estate\",\"Real Estate\",\"Real Estate\",\"Real Estate\",\"Real Estate\",\"Real Estate\",\"Real Estate\",\"Real Estate\",\"Real Estate\",\"Real Estate\",\"Real Estate\",\"Real Estate\",\"Real Estate\",\"Real Estate\",\"Real Estate\",\"Real Estate\",\"Real Estate\",\"Real Estate\",\"Real Estate\",\"Real Estate\",\"Real Estate\",\"Real Estate\",\"Real Estate\",\"Real Estate\",\"Real Estate\",\"Real Estate\",\"Real Estate\",\"Real Estate\",\"Real Estate\",\"Real Estate\",\"Real Estate\",\"Real Estate\",\"Real Estate\",\"Real Estate\",\"Real Estate\",\"Real Estate\",\"Real Estate\"],\"xaxis\":\"x\",\"yaxis\":\"y\",\"type\":\"histogram\"},{\"alignmentgroup\":\"True\",\"bingroup\":\"x\",\"hovertemplate\":\"Sector=%{x}<br>count=%{y}<extra></extra>\",\"legendgroup\":\"Healthcare\",\"marker\":{\"color\":\"#9467BD\",\"pattern\":{\"shape\":\"\"}},\"name\":\"Healthcare\",\"offsetgroup\":\"Healthcare\",\"orientation\":\"v\",\"showlegend\":true,\"x\":[\"Healthcare\",\"Healthcare\",\"Healthcare\",\"Healthcare\",\"Healthcare\",\"Healthcare\",\"Healthcare\",\"Healthcare\",\"Healthcare\",\"Healthcare\",\"Healthcare\",\"Healthcare\",\"Healthcare\"],\"xaxis\":\"x\",\"yaxis\":\"y\",\"type\":\"histogram\"},{\"alignmentgroup\":\"True\",\"bingroup\":\"x\",\"hovertemplate\":\"Sector=%{x}<br>count=%{y}<extra></extra>\",\"legendgroup\":\"Consumer Cyclical\",\"marker\":{\"color\":\"#8C564B\",\"pattern\":{\"shape\":\"\"}},\"name\":\"Consumer Cyclical\",\"offsetgroup\":\"Consumer Cyclical\",\"orientation\":\"v\",\"showlegend\":true,\"x\":[\"Consumer Cyclical\",\"Consumer Cyclical\",\"Consumer Cyclical\",\"Consumer Cyclical\",\"Consumer Cyclical\",\"Consumer Cyclical\",\"Consumer Cyclical\",\"Consumer Cyclical\",\"Consumer Cyclical\",\"Consumer Cyclical\",\"Consumer Cyclical\",\"Consumer Cyclical\",\"Consumer Cyclical\",\"Consumer Cyclical\",\"Consumer Cyclical\",\"Consumer Cyclical\",\"Consumer Cyclical\",\"Consumer Cyclical\",\"Consumer Cyclical\",\"Consumer Cyclical\",\"Consumer Cyclical\",\"Consumer Cyclical\",\"Consumer Cyclical\",\"Consumer Cyclical\",\"Consumer Cyclical\",\"Consumer Cyclical\",\"Consumer Cyclical\",\"Consumer Cyclical\",\"Consumer Cyclical\",\"Consumer Cyclical\",\"Consumer Cyclical\",\"Consumer Cyclical\",\"Consumer Cyclical\",\"Consumer Cyclical\",\"Consumer Cyclical\",\"Consumer Cyclical\",\"Consumer Cyclical\",\"Consumer Cyclical\",\"Consumer Cyclical\",\"Consumer Cyclical\",\"Consumer Cyclical\"],\"xaxis\":\"x\",\"yaxis\":\"y\",\"type\":\"histogram\"},{\"alignmentgroup\":\"True\",\"bingroup\":\"x\",\"hovertemplate\":\"Sector=%{x}<br>count=%{y}<extra></extra>\",\"legendgroup\":\"Consumer Defensive\",\"marker\":{\"color\":\"#E377C2\",\"pattern\":{\"shape\":\"\"}},\"name\":\"Consumer Defensive\",\"offsetgroup\":\"Consumer Defensive\",\"orientation\":\"v\",\"showlegend\":true,\"x\":[\"Consumer Defensive\",\"Consumer Defensive\",\"Consumer Defensive\",\"Consumer Defensive\",\"Consumer Defensive\",\"Consumer Defensive\",\"Consumer Defensive\",\"Consumer Defensive\",\"Consumer Defensive\",\"Consumer Defensive\",\"Consumer Defensive\",\"Consumer Defensive\",\"Consumer Defensive\",\"Consumer Defensive\",\"Consumer Defensive\",\"Consumer Defensive\",\"Consumer Defensive\",\"Consumer Defensive\",\"Consumer Defensive\",\"Consumer Defensive\",\"Consumer Defensive\",\"Consumer Defensive\",\"Consumer Defensive\",\"Consumer Defensive\",\"Consumer Defensive\",\"Consumer Defensive\",\"Consumer Defensive\",\"Consumer Defensive\"],\"xaxis\":\"x\",\"yaxis\":\"y\",\"type\":\"histogram\"},{\"alignmentgroup\":\"True\",\"bingroup\":\"x\",\"hovertemplate\":\"Sector=%{x}<br>count=%{y}<extra></extra>\",\"legendgroup\":\"Industrials\",\"marker\":{\"color\":\"#7F7F7F\",\"pattern\":{\"shape\":\"\"}},\"name\":\"Industrials\",\"offsetgroup\":\"Industrials\",\"orientation\":\"v\",\"showlegend\":true,\"x\":[\"Industrials\",\"Industrials\",\"Industrials\",\"Industrials\",\"Industrials\",\"Industrials\",\"Industrials\",\"Industrials\",\"Industrials\",\"Industrials\",\"Industrials\",\"Industrials\",\"Industrials\",\"Industrials\",\"Industrials\",\"Industrials\",\"Industrials\",\"Industrials\",\"Industrials\",\"Industrials\",\"Industrials\",\"Industrials\",\"Industrials\",\"Industrials\",\"Industrials\",\"Industrials\",\"Industrials\",\"Industrials\",\"Industrials\",\"Industrials\",\"Industrials\",\"Industrials\",\"Industrials\",\"Industrials\",\"Industrials\",\"Industrials\",\"Industrials\",\"Industrials\",\"Industrials\",\"Industrials\",\"Industrials\",\"Industrials\",\"Industrials\",\"Industrials\",\"Industrials\",\"Industrials\",\"Industrials\"],\"xaxis\":\"x\",\"yaxis\":\"y\",\"type\":\"histogram\"},{\"alignmentgroup\":\"True\",\"bingroup\":\"x\",\"hovertemplate\":\"Sector=%{x}<br>count=%{y}<extra></extra>\",\"legendgroup\":\"Communication Services\",\"marker\":{\"color\":\"#BCBD22\",\"pattern\":{\"shape\":\"\"}},\"name\":\"Communication Services\",\"offsetgroup\":\"Communication Services\",\"orientation\":\"v\",\"showlegend\":true,\"x\":[\"Communication Services\",\"Communication Services\",\"Communication Services\",\"Communication Services\",\"Communication Services\",\"Communication Services\",\"Communication Services\",\"Communication Services\",\"Communication Services\",\"Communication Services\",\"Communication Services\",\"Communication Services\",\"Communication Services\",\"Communication Services\",\"Communication Services\"],\"xaxis\":\"x\",\"yaxis\":\"y\",\"type\":\"histogram\"},{\"alignmentgroup\":\"True\",\"bingroup\":\"x\",\"hovertemplate\":\"Sector=%{x}<br>count=%{y}<extra></extra>\",\"legendgroup\":\"Energy\",\"marker\":{\"color\":\"#17BECF\",\"pattern\":{\"shape\":\"\"}},\"name\":\"Energy\",\"offsetgroup\":\"Energy\",\"orientation\":\"v\",\"showlegend\":true,\"x\":[\"Energy\",\"Energy\",\"Energy\",\"Energy\",\"Energy\",\"Energy\",\"Energy\",\"Energy\",\"Energy\",\"Energy\",\"Energy\",\"Energy\"],\"xaxis\":\"x\",\"yaxis\":\"y\",\"type\":\"histogram\"},{\"alignmentgroup\":\"True\",\"bingroup\":\"x\",\"hovertemplate\":\"Sector=%{x}<br>count=%{y}<extra></extra>\",\"legendgroup\":\"Utilities\",\"marker\":{\"color\":\"#1F77B4\",\"pattern\":{\"shape\":\"\"}},\"name\":\"Utilities\",\"offsetgroup\":\"Utilities\",\"orientation\":\"v\",\"showlegend\":true,\"x\":[\"Utilities\",\"Utilities\"],\"xaxis\":\"x\",\"yaxis\":\"y\",\"type\":\"histogram\"}],                        {\"template\":{\"data\":{\"barpolar\":[{\"marker\":{\"line\":{\"color\":\"white\",\"width\":0.5},\"pattern\":{\"fillmode\":\"overlay\",\"size\":10,\"solidity\":0.2}},\"type\":\"barpolar\"}],\"bar\":[{\"error_x\":{\"color\":\"rgb(36,36,36)\"},\"error_y\":{\"color\":\"rgb(36,36,36)\"},\"marker\":{\"line\":{\"color\":\"white\",\"width\":0.5},\"pattern\":{\"fillmode\":\"overlay\",\"size\":10,\"solidity\":0.2}},\"type\":\"bar\"}],\"carpet\":[{\"aaxis\":{\"endlinecolor\":\"rgb(36,36,36)\",\"gridcolor\":\"white\",\"linecolor\":\"white\",\"minorgridcolor\":\"white\",\"startlinecolor\":\"rgb(36,36,36)\"},\"baxis\":{\"endlinecolor\":\"rgb(36,36,36)\",\"gridcolor\":\"white\",\"linecolor\":\"white\",\"minorgridcolor\":\"white\",\"startlinecolor\":\"rgb(36,36,36)\"},\"type\":\"carpet\"}],\"choropleth\":[{\"colorbar\":{\"outlinewidth\":1,\"tickcolor\":\"rgb(36,36,36)\",\"ticks\":\"outside\"},\"type\":\"choropleth\"}],\"contourcarpet\":[{\"colorbar\":{\"outlinewidth\":1,\"tickcolor\":\"rgb(36,36,36)\",\"ticks\":\"outside\"},\"type\":\"contourcarpet\"}],\"contour\":[{\"colorbar\":{\"outlinewidth\":1,\"tickcolor\":\"rgb(36,36,36)\",\"ticks\":\"outside\"},\"colorscale\":[[0.0,\"#440154\"],[0.1111111111111111,\"#482878\"],[0.2222222222222222,\"#3e4989\"],[0.3333333333333333,\"#31688e\"],[0.4444444444444444,\"#26828e\"],[0.5555555555555556,\"#1f9e89\"],[0.6666666666666666,\"#35b779\"],[0.7777777777777778,\"#6ece58\"],[0.8888888888888888,\"#b5de2b\"],[1.0,\"#fde725\"]],\"type\":\"contour\"}],\"heatmapgl\":[{\"colorbar\":{\"outlinewidth\":1,\"tickcolor\":\"rgb(36,36,36)\",\"ticks\":\"outside\"},\"colorscale\":[[0.0,\"#440154\"],[0.1111111111111111,\"#482878\"],[0.2222222222222222,\"#3e4989\"],[0.3333333333333333,\"#31688e\"],[0.4444444444444444,\"#26828e\"],[0.5555555555555556,\"#1f9e89\"],[0.6666666666666666,\"#35b779\"],[0.7777777777777778,\"#6ece58\"],[0.8888888888888888,\"#b5de2b\"],[1.0,\"#fde725\"]],\"type\":\"heatmapgl\"}],\"heatmap\":[{\"colorbar\":{\"outlinewidth\":1,\"tickcolor\":\"rgb(36,36,36)\",\"ticks\":\"outside\"},\"colorscale\":[[0.0,\"#440154\"],[0.1111111111111111,\"#482878\"],[0.2222222222222222,\"#3e4989\"],[0.3333333333333333,\"#31688e\"],[0.4444444444444444,\"#26828e\"],[0.5555555555555556,\"#1f9e89\"],[0.6666666666666666,\"#35b779\"],[0.7777777777777778,\"#6ece58\"],[0.8888888888888888,\"#b5de2b\"],[1.0,\"#fde725\"]],\"type\":\"heatmap\"}],\"histogram2dcontour\":[{\"colorbar\":{\"outlinewidth\":1,\"tickcolor\":\"rgb(36,36,36)\",\"ticks\":\"outside\"},\"colorscale\":[[0.0,\"#440154\"],[0.1111111111111111,\"#482878\"],[0.2222222222222222,\"#3e4989\"],[0.3333333333333333,\"#31688e\"],[0.4444444444444444,\"#26828e\"],[0.5555555555555556,\"#1f9e89\"],[0.6666666666666666,\"#35b779\"],[0.7777777777777778,\"#6ece58\"],[0.8888888888888888,\"#b5de2b\"],[1.0,\"#fde725\"]],\"type\":\"histogram2dcontour\"}],\"histogram2d\":[{\"colorbar\":{\"outlinewidth\":1,\"tickcolor\":\"rgb(36,36,36)\",\"ticks\":\"outside\"},\"colorscale\":[[0.0,\"#440154\"],[0.1111111111111111,\"#482878\"],[0.2222222222222222,\"#3e4989\"],[0.3333333333333333,\"#31688e\"],[0.4444444444444444,\"#26828e\"],[0.5555555555555556,\"#1f9e89\"],[0.6666666666666666,\"#35b779\"],[0.7777777777777778,\"#6ece58\"],[0.8888888888888888,\"#b5de2b\"],[1.0,\"#fde725\"]],\"type\":\"histogram2d\"}],\"histogram\":[{\"marker\":{\"line\":{\"color\":\"white\",\"width\":0.6}},\"type\":\"histogram\"}],\"mesh3d\":[{\"colorbar\":{\"outlinewidth\":1,\"tickcolor\":\"rgb(36,36,36)\",\"ticks\":\"outside\"},\"type\":\"mesh3d\"}],\"parcoords\":[{\"line\":{\"colorbar\":{\"outlinewidth\":1,\"tickcolor\":\"rgb(36,36,36)\",\"ticks\":\"outside\"}},\"type\":\"parcoords\"}],\"pie\":[{\"automargin\":true,\"type\":\"pie\"}],\"scatter3d\":[{\"line\":{\"colorbar\":{\"outlinewidth\":1,\"tickcolor\":\"rgb(36,36,36)\",\"ticks\":\"outside\"}},\"marker\":{\"colorbar\":{\"outlinewidth\":1,\"tickcolor\":\"rgb(36,36,36)\",\"ticks\":\"outside\"}},\"type\":\"scatter3d\"}],\"scattercarpet\":[{\"marker\":{\"colorbar\":{\"outlinewidth\":1,\"tickcolor\":\"rgb(36,36,36)\",\"ticks\":\"outside\"}},\"type\":\"scattercarpet\"}],\"scattergeo\":[{\"marker\":{\"colorbar\":{\"outlinewidth\":1,\"tickcolor\":\"rgb(36,36,36)\",\"ticks\":\"outside\"}},\"type\":\"scattergeo\"}],\"scattergl\":[{\"marker\":{\"colorbar\":{\"outlinewidth\":1,\"tickcolor\":\"rgb(36,36,36)\",\"ticks\":\"outside\"}},\"type\":\"scattergl\"}],\"scattermapbox\":[{\"marker\":{\"colorbar\":{\"outlinewidth\":1,\"tickcolor\":\"rgb(36,36,36)\",\"ticks\":\"outside\"}},\"type\":\"scattermapbox\"}],\"scatterpolargl\":[{\"marker\":{\"colorbar\":{\"outlinewidth\":1,\"tickcolor\":\"rgb(36,36,36)\",\"ticks\":\"outside\"}},\"type\":\"scatterpolargl\"}],\"scatterpolar\":[{\"marker\":{\"colorbar\":{\"outlinewidth\":1,\"tickcolor\":\"rgb(36,36,36)\",\"ticks\":\"outside\"}},\"type\":\"scatterpolar\"}],\"scatter\":[{\"marker\":{\"colorbar\":{\"outlinewidth\":1,\"tickcolor\":\"rgb(36,36,36)\",\"ticks\":\"outside\"}},\"type\":\"scatter\"}],\"scatterternary\":[{\"marker\":{\"colorbar\":{\"outlinewidth\":1,\"tickcolor\":\"rgb(36,36,36)\",\"ticks\":\"outside\"}},\"type\":\"scatterternary\"}],\"surface\":[{\"colorbar\":{\"outlinewidth\":1,\"tickcolor\":\"rgb(36,36,36)\",\"ticks\":\"outside\"},\"colorscale\":[[0.0,\"#440154\"],[0.1111111111111111,\"#482878\"],[0.2222222222222222,\"#3e4989\"],[0.3333333333333333,\"#31688e\"],[0.4444444444444444,\"#26828e\"],[0.5555555555555556,\"#1f9e89\"],[0.6666666666666666,\"#35b779\"],[0.7777777777777778,\"#6ece58\"],[0.8888888888888888,\"#b5de2b\"],[1.0,\"#fde725\"]],\"type\":\"surface\"}],\"table\":[{\"cells\":{\"fill\":{\"color\":\"rgb(237,237,237)\"},\"line\":{\"color\":\"white\"}},\"header\":{\"fill\":{\"color\":\"rgb(217,217,217)\"},\"line\":{\"color\":\"white\"}},\"type\":\"table\"}]},\"layout\":{\"annotationdefaults\":{\"arrowhead\":0,\"arrowwidth\":1},\"autotypenumbers\":\"strict\",\"coloraxis\":{\"colorbar\":{\"outlinewidth\":1,\"tickcolor\":\"rgb(36,36,36)\",\"ticks\":\"outside\"}},\"colorscale\":{\"diverging\":[[0.0,\"rgb(103,0,31)\"],[0.1,\"rgb(178,24,43)\"],[0.2,\"rgb(214,96,77)\"],[0.3,\"rgb(244,165,130)\"],[0.4,\"rgb(253,219,199)\"],[0.5,\"rgb(247,247,247)\"],[0.6,\"rgb(209,229,240)\"],[0.7,\"rgb(146,197,222)\"],[0.8,\"rgb(67,147,195)\"],[0.9,\"rgb(33,102,172)\"],[1.0,\"rgb(5,48,97)\"]],\"sequential\":[[0.0,\"#440154\"],[0.1111111111111111,\"#482878\"],[0.2222222222222222,\"#3e4989\"],[0.3333333333333333,\"#31688e\"],[0.4444444444444444,\"#26828e\"],[0.5555555555555556,\"#1f9e89\"],[0.6666666666666666,\"#35b779\"],[0.7777777777777778,\"#6ece58\"],[0.8888888888888888,\"#b5de2b\"],[1.0,\"#fde725\"]],\"sequentialminus\":[[0.0,\"#440154\"],[0.1111111111111111,\"#482878\"],[0.2222222222222222,\"#3e4989\"],[0.3333333333333333,\"#31688e\"],[0.4444444444444444,\"#26828e\"],[0.5555555555555556,\"#1f9e89\"],[0.6666666666666666,\"#35b779\"],[0.7777777777777778,\"#6ece58\"],[0.8888888888888888,\"#b5de2b\"],[1.0,\"#fde725\"]]},\"colorway\":[\"#1F77B4\",\"#FF7F0E\",\"#2CA02C\",\"#D62728\",\"#9467BD\",\"#8C564B\",\"#E377C2\",\"#7F7F7F\",\"#BCBD22\",\"#17BECF\"],\"font\":{\"color\":\"rgb(36,36,36)\"},\"geo\":{\"bgcolor\":\"white\",\"lakecolor\":\"white\",\"landcolor\":\"white\",\"showlakes\":true,\"showland\":true,\"subunitcolor\":\"white\"},\"hoverlabel\":{\"align\":\"left\"},\"hovermode\":\"closest\",\"mapbox\":{\"style\":\"light\"},\"paper_bgcolor\":\"white\",\"plot_bgcolor\":\"white\",\"polar\":{\"angularaxis\":{\"gridcolor\":\"rgb(232,232,232)\",\"linecolor\":\"rgb(36,36,36)\",\"showgrid\":false,\"showline\":true,\"ticks\":\"outside\"},\"bgcolor\":\"white\",\"radialaxis\":{\"gridcolor\":\"rgb(232,232,232)\",\"linecolor\":\"rgb(36,36,36)\",\"showgrid\":false,\"showline\":true,\"ticks\":\"outside\"}},\"scene\":{\"xaxis\":{\"backgroundcolor\":\"white\",\"gridcolor\":\"rgb(232,232,232)\",\"gridwidth\":2,\"linecolor\":\"rgb(36,36,36)\",\"showbackground\":true,\"showgrid\":false,\"showline\":true,\"ticks\":\"outside\",\"zeroline\":false,\"zerolinecolor\":\"rgb(36,36,36)\"},\"yaxis\":{\"backgroundcolor\":\"white\",\"gridcolor\":\"rgb(232,232,232)\",\"gridwidth\":2,\"linecolor\":\"rgb(36,36,36)\",\"showbackground\":true,\"showgrid\":false,\"showline\":true,\"ticks\":\"outside\",\"zeroline\":false,\"zerolinecolor\":\"rgb(36,36,36)\"},\"zaxis\":{\"backgroundcolor\":\"white\",\"gridcolor\":\"rgb(232,232,232)\",\"gridwidth\":2,\"linecolor\":\"rgb(36,36,36)\",\"showbackground\":true,\"showgrid\":false,\"showline\":true,\"ticks\":\"outside\",\"zeroline\":false,\"zerolinecolor\":\"rgb(36,36,36)\"}},\"shapedefaults\":{\"fillcolor\":\"black\",\"line\":{\"width\":0},\"opacity\":0.3},\"ternary\":{\"aaxis\":{\"gridcolor\":\"rgb(232,232,232)\",\"linecolor\":\"rgb(36,36,36)\",\"showgrid\":false,\"showline\":true,\"ticks\":\"outside\"},\"baxis\":{\"gridcolor\":\"rgb(232,232,232)\",\"linecolor\":\"rgb(36,36,36)\",\"showgrid\":false,\"showline\":true,\"ticks\":\"outside\"},\"bgcolor\":\"white\",\"caxis\":{\"gridcolor\":\"rgb(232,232,232)\",\"linecolor\":\"rgb(36,36,36)\",\"showgrid\":false,\"showline\":true,\"ticks\":\"outside\"}},\"title\":{\"x\":0.05},\"xaxis\":{\"automargin\":true,\"gridcolor\":\"rgb(232,232,232)\",\"linecolor\":\"rgb(36,36,36)\",\"showgrid\":false,\"showline\":true,\"ticks\":\"outside\",\"title\":{\"standoff\":15},\"zeroline\":false,\"zerolinecolor\":\"rgb(36,36,36)\"},\"yaxis\":{\"automargin\":true,\"gridcolor\":\"rgb(232,232,232)\",\"linecolor\":\"rgb(36,36,36)\",\"showgrid\":false,\"showline\":true,\"ticks\":\"outside\",\"title\":{\"standoff\":15},\"zeroline\":false,\"zerolinecolor\":\"rgb(36,36,36)\"}}},\"xaxis\":{\"anchor\":\"y\",\"domain\":[0.0,1.0],\"title\":{\"text\":\"Sector\"},\"categoryorder\":\"array\",\"categoryarray\":[\"Technology\",\"Financial Services\",\"Basic Materials\",\"Real Estate\",\"Healthcare\",\"Consumer Cyclical\",\"Consumer Defensive\",\"Industrials\",\"Communication Services\",\"Energy\",\"Utilities\"]},\"yaxis\":{\"anchor\":\"x\",\"domain\":[0.0,1.0],\"title\":{\"text\":\"count\"}},\"legend\":{\"title\":{\"text\":\"Sector\"},\"tracegroupgap\":0},\"title\":{\"text\":\"Distribution by Sector\"},\"barmode\":\"relative\",\"height\":480},                        {\"responsive\": true}                    ).then(function(){\n",
       "                            \n",
       "var gd = document.getElementById('96ee9fa4-b00b-4dff-85d0-fdb8d2d75af4');\n",
       "var x = new MutationObserver(function (mutations, observer) {{\n",
       "        var display = window.getComputedStyle(gd).display;\n",
       "        if (!display || display === 'none') {{\n",
       "            console.log([gd, 'removed!']);\n",
       "            Plotly.purge(gd);\n",
       "            observer.disconnect();\n",
       "        }}\n",
       "}});\n",
       "\n",
       "// Listen for the removal of the full notebook cells\n",
       "var notebookContainer = gd.closest('#notebook-container');\n",
       "if (notebookContainer) {{\n",
       "    x.observe(notebookContainer, {childList: true});\n",
       "}}\n",
       "\n",
       "// Listen for the clearing of the current output cell\n",
       "var outputEl = gd.closest('.output');\n",
       "if (outputEl) {{\n",
       "    x.observe(outputEl, {childList: true});\n",
       "}}\n",
       "\n",
       "                        })                };                });            </script>        </div>"
      ]
     },
     "metadata": {},
     "output_type": "display_data"
    }
   ],
   "source": [
    "fig = px.histogram(df, \n",
    "                   x='Sector', \n",
    "                   color='Sector',\n",
    "                   title=\"Distribution by Sector\",\n",
    "                   height=480,\n",
    "                   template=\"simple_white\")\n",
    "fig.show();"
   ]
  },
  {
   "cell_type": "markdown",
   "id": "45c51f4d-7a62-4bca-9e1b-7ab28cc7e7d3",
   "metadata": {},
   "source": [
    "The data is concentrated in five sectors; \n",
    "* Financial Services (54)\n",
    "* Real Estate (52)\n",
    "* Industrials (47)\n",
    "* Basic Materials (41)\n",
    "* Consumer Cyclical (41)\n",
    "\n",
    "Approximately 72% of JSE listed companies fall into one of these sectors. This has to be taken into account in our stock selection process to avoid concentrating our portfolio in any single sector."
   ]
  },
  {
   "cell_type": "markdown",
   "id": "076b7014-47ef-48ff-b8c2-758500971cef",
   "metadata": {},
   "source": [
    "#### Outliers: Large, mid and small cap"
   ]
  },
  {
   "cell_type": "markdown",
   "id": "05828d5a-f29d-43f8-8a28-f19b1b92f510",
   "metadata": {},
   "source": [
    "Next, we consider outliers in the data that can skew the results of our analysis. We'll look at the distributions of market cap."
   ]
  },
  {
   "cell_type": "code",
   "execution_count": 89,
   "id": "f35cef23-53b3-40d7-bcb9-ad8091cb999b",
   "metadata": {},
   "outputs": [
    {
     "data": {
      "application/vnd.plotly.v1+json": {
       "config": {
        "plotlyServerURL": "https://plot.ly"
       },
       "data": [
        {
         "alignmentgroup": "True",
         "boxpoints": "outliers",
         "hovertemplate": "<b>%{hovertext}</b><br><br>Market_cap=%{y}<extra></extra>",
         "hovertext": [
          "4Sight Holdings Ltd",
          "Absa Group Limited",
          "ABSA Bank Ltd Pref",
          "ArcelorMittal SA Limited",
          "Acsion Limited",
          "AfroCentric Inv Corp Ltd",
          "Arden Capital Limited",
          "ADvTECH Ltd",
          "Adapt IT Holdings Ltd",
          "Adcorp Holdings Limited",
          "African Dawn Capital Ltd",
          "African Equity Emp Inv Ltd",
          "Aveng Group Limited",
          "Altron Limited A",
          "AECI Limited",
          "AECI Limited 5,5% Pref",
          "Alexander Forbes Grp Hldgs",
          "Afrimat Limited",
          "Anglo American plc",
          "Arrowhead Prop Ltd A",
          "Arrowhead Prop Ltd B",
          "AH-Vest Limited",
          "African Rainbow Cap Inv",
          "Adcock Ingram Hldgs Ltd",
          "Alaris Holdings Ltd",
          "African Media Ent Ltd",
          "Anglo American Plat Ltd",
          "Anglogold Ashanti Ltd",
          "Anheuser-Busch InBev SA NV",
          "Afine Investments Ltd",
          "African & Over Ent Ltd -N",
          "African & Over Ent Ltd",
          "Accelerate Prop Fund Ltd",
          "Alphamin Resources Corp",
          "Aspen Pharmacare Hldgs Ltd",
          "Astoria Investments Ltd",
          "ARB Holdings Limited",
          "African Rainbow Min Ltd",
          "Astral Foods Ltd",
          "Argent Industrial Ltd",
          "Ascendis Health Ltd",
          "Afristrat Inv Hldgs Ltd",
          "Attacq Limited",
          "AVI Ltd",
          "Advanced Health Ltd",
          "Alviva Holdings Ltd",
          "Ayo Tech Solutions Ltd",
          "Brait PLC",
          "Bauba Resources Limited",
          "Barloworld Ltd",
          "Bowler Metcalf Ltd",
          "Bell Equipment Ltd",
          "BHP Group Plc",
          "BID Corporation Ltd",
          "Brikor Ltd",
          "Blue Label Telecoms Ltd",
          "Brimstone Inv Corp Ltd-N",
          "Brimstone Inv Corp Ltd",
          "British American Tob plc",
          "Buffalo Coal Corp",
          "Bidvest Ltd",
          "Balwin Properties Ltd",
          "Bytes Technology Group",
          "Cafca Limited",
          "Caxton CTP Publish Print",
          "Caxton CTP Publish 6%Pf",
          "Capital&Counties Prop plc",
          "Compagnie Fin Richemont",
          "Cognition Holdings Ltd",
          "Calgro M3 Hldgs Ltd",
          "Choppies Enterprises Ltd",
          "Crookes Brothers Ltd",
          "City Lodge Hotels Ltd",
          "Clientele Ltd",
          "Clicks Group Ltd",
          "Combined Motor Hldgs Ltd",
          "Coronation Fund Mngrs Ld",
          "Chrometco Ltd",
          "Conduit Capital Ltd",
          "Curro Holdings Limited",
          "Capitec Bank Hldgs Ltd",
          "Capitec Bank Hldgs Pref",
          "Capital & Regional Plc",
          "Cashbuild Ltd",
          "CSG Holdings Ltd",
          "CAPITAL APPRECIATION LTD",
          "Dis-Chem Pharmacies Ltd",
          "Distell Group Hldgs Ltd",
          "Dipula Income Fund A",
          "Dipula Income Fund B",
          "Deutsche Konsum REIT-AG",
          "Delta Property Fund Ltd",
          "Deneb Investments Ltd",
          "DRA Global Ltd",
          "DRD Gold Ltd",
          "Discovery Ltd B pref",
          "Discovery Ltd",
          "Datatec Ltd",
          "Efora Energy Limited",
          "Ellies Holdings Ltd",
          "E Media Holdings Ltd",
          "Emira Property Fund Ltd",
          "E Media Holdings Ltd -N-",
          "enX Group LImited",
          "EOH Holdings Ltd",
          "EPE Capital Partners Ltd",
          "EPP N.V.",
          "Eastern Platinum Ltd",
          "Equites Prop Fund Ltd",
          "Etion Limited",
          "Europa Metals Limited",
          "Exemplar REITail Ltd",
          "Exxaro Resources Ltd",
          "Famous Brands Ltd",
          "Fortress REIT Ltd A",
          "Fortress REIT Ltd B",
          "Finbond Group Ltd",
          "Firstrand Ltd",
          "Frontier Transport Hldg Ld",
          "Fairvest Property Hldgs",
          "Gold Fields Ltd",
          "Go Life International Ld",
          "Glencore plc",
          "Gemfields Group Limited",
          "Grindrod Ltd",
          "Grindrod Ltd Pref",
          "Grand Parade Inv Ltd",
          "Growthpoint Prop Ltd",
          "Grindrod Shipping Hldg Ltd",
          "Globe Trade Centre S.A.",
          "Harmony GM Co Ltd",
          "Hosken Cons Inv Ltd",
          "Hudaco Industries Ltd",
          "Heriot REIT Limited",
          "Homechoice Int plc",
          "Hulamin Ltd",
          "Hammerson plc",
          "Huge Group Ltd",
          "Hulisani Limited",
          "Hyprop Inv Ltd",
          "Irongate Group",
          "Imbalie Beauty Limited",
          "Indluplace Properties Ltd",
          "Impala Platinum Hlgs Ltd",
          "Investec Ltd",
          "Investec Bank Ltd Pref",
          "Investec plc",
          "Investec plc Pref",
          "Investec plc Pref (Rand)",
          "Investec Property Fund Ltd",
          "Imperial Logistics Ltd",
          "ISA Holdings Limited",
          "Insimbi Ind Hldgs Ltd",
          "Italtile Ltd",
          "Invicta Holdings Ltd",
          "Invicta Hldgs Ltd pref",
          "Jubilee Metals Group plc",
          "Jasco Electron Hldgs Ltd",
          "JSE Ltd",
          "Kaap Agri Limited",
          "KAP Industrial Hldgs Ltd",
          "Kibo Energy plc",
          "Kumba Iron Ore Ltd",
          "Kore Potash plc",
          "Karooooo Ltd",
          "PSG Konsult Limited",
          "Liberty Two Degrees LTD",
          "Long 4 Life Limited",
          "Labat Africa Ltd",
          "Liberty Holdings Ltd",
          "Libstar Holdings Ltd",
          "Lewis Group Ltd",
          "Life Healthc Grp Hldgs Ltd",
          "London Fin Inv Group plc",
          "Lighthouse Capital Ltd",
          "Luxe Holdings Limited",
          "MultiChoice Group Ltd",
          "MC Mining Limited",
          "Master Drilling Grp Ltd",
          "Mediclinic Int plc",
          "Metrofile Holdings Ltd",
          "Mahube Infrastructure Ltd",
          "Mix Telematics Ltd",
          "Montauk Renewables Inc",
          "Industrials REIT Limited",
          "Marshall Monteagle plc",
          "Mondi plc",
          "Mpact Limited",
          "Merafe Resources Ltd",
          "Mr Price Group Ltd",
          "Massmart Holdings Ltd",
          "MAS P.L.C",
          "Mustek Ltd",
          "Metair Investments Ltd",
          "Motus Holdings Ltd",
          "Momentum Met Hldgs Ltd",
          "MTN Group Ltd",
          "MTN Zakhele Futhi",
          "Murray & Roberts Hldgs",
          "Ninety One Plc",
          "Nictus Ltd",
          "Nedbank Group Ltd",
          "New Frontier Prop Ltd",
          "Northam Platinum Hldgs Ltd",
          "Nampak Ltd",
          "Nampak Ltd 6%Pref",
          "Naspers Ltd -N-",
          "Newpark REIT Ltd",
          "NEPI Rockcastle Plc",
          "Net 1 UEPS Tech Inc",
          "Netcare Limited",
          "Netcare Limited Pref",
          "Nutritional Holdings Ltd",
          "NVest Financial Hldgs Ltd",
          "Novus Holdings Limited",
          "Nu-World Hldgs Ltd",
          "Ninety One Limited",
          "Oando plc",
          "Oasis Crescent Prop Fund",
          "Oceana Group Ltd",
          "Octodec Invest Ltd",
          "Onelogix Group Ltd",
          "Omnia Holdings Ltd",
          "Old Mutual Limited",
          "Orion Minerals Limited",
          "Pan African Resource plc",
          "PBT Group Limited",
          "Pembury Lifestyle Grp Lt",
          "Premier Fishing Brands Ltd",
          "Pick n Pay Stores Ltd",
          "Primeserv Group Ltd",
          "PPC Limited",
          "Purple Group Ltd",
          "Pepkor Holdings Ltd",
          "Putprop Ltd",
          "Prosus N.V.",
          "PSG Group Ltd",
          "PSV Holdings Ltd",
          "Quantum Foods Hldgs Ltd",
          "Quilter Plc",
          "RECM and Calibre Limited",
          "Raven Property Group Ltd",
          "Royal Bafokeng Platinum Ltd",
          "Raubex Group Ltd",
          "RCL Foods Limited",
          "Redefine Properties Ltd",
          "Rebosis Property Fund Ltd A",
          "Rebosis Property Fund Ltd",
          "Remgro Ltd",
          "Renergen Limited",
          "RFG Holdings Limited",
          "RH Bophelo Limited",
          "Reunert Ltd",
          "RMB Holdings Ltd",
          "Rand Merchant Inv Hldgs Ltd",
          "Randgold & Expl Co Ltd",
          "Reinet Investments S.C.A",
          "Resource Generation Ltd",
          "Rex Trueform Group -N-",
          "Rex Trueform Group Ltd",
          "Rex Trueform Grp 6%Pref",
          "South32 Limited",
          "Sappi Ltd",
          "Safari Investments RSA Ltd",
          "Standard Bank Group Ltd",
          "Sabvest Capital Limited",
          "Schroder Eur REIT plc",
          "Stadio Holdings Limited",
          "Sebata Holdings Ltd",
          "Sephaku Holdings Ltd",
          "Sasfin Holdings Ltd",
          "Steinhoff Inv Hldgs Pref",
          "Sea Harvest Group Ltd",
          "Shoprite Holdings Ltd",
          "Sanlam Limited",
          "Steinhoff Int Hldgs N.V.",
          "Santam Limited",
          "Santova Logistics Ltd",
          "South Ocean Holdings Ltd",
          "Sasol Limited",
          "BEE - Sasol Limited",
          "Spanjaard Limited",
          "Super Group Ltd",
          "The Spar Group Ltd",
          "Sirius Real Estate Ltd",
          "Stefanutti Stck Hldgs Ltd",
          "Stor-Age Prop REIT Ltd",
          "Sibanye Stillwater Ltd",
          "Sun International Ltd",
          "Spur Corporation Ltd",
          "Silverbridge Holdings",
          "Sygnia Limited",
          "SAB Zenzele Kabili",
          "Tiger Brands Ltd",
          "Transaction Capital Ltd",
          "Tradehold Ltd",
          "The Foschini Group Limited",
          "Foschini Ltd 6,5%Pref",
          "Thungela Resources Ltd",
          "Tsogo Sun Hotels LTD",
          "Tharisa plc",
          "Telkom SA SOC Ltd",
          "Telemaster Holdings Ltd",
          "Trematon Capital Inv Ltd",
          "Tongaat Hulett Ltd",
          "Transpaco Ltd",
          "Transcend Res Prop Fd Ld",
          "Trencor Ltd",
          "Trellidor Hldgs Ltd",
          "Truworths Int Ltd",
          "Tsogo Sun Gaming Ltd",
          "Trustco Group Hldgs Ltd",
          "Tower Property Fund Ltd",
          "Textainer Group Hldgs Ltd",
          "Universal Partners Ltd",
          "Visual International Hldgs Ltd",
          "Vukile Property Fund Ltd",
          "Vodacom Group Ltd",
          "Vunani Ltd",
          "Vivo Energy plc",
          "Wilson Bayly Hlm-Ovc Ltd",
          "Wesizwe Platinum Ltd",
          "Woolworths Holdings Ltd",
          "Workforce Holdings Ltd",
          "Wescoal Holdings Ltd",
          "York Timber Holdings Ltd",
          "YeboYethu (RF) Ltd",
          "Zeder Inv Ltd"
         ],
         "legendgroup": "",
         "marker": {
          "color": "#1F77B4"
         },
         "name": "",
         "notched": false,
         "offsetgroup": "",
         "orientation": "v",
         "showlegend": false,
         "type": "box",
         "x0": " ",
         "xaxis": "x",
         "y": [
          158167674.88,
          133950309662.72,
          3631238021.12,
          10588795699.2,
          1647767879.68,
          2917781340.16,
          2189840,
          9619250216.96,
          967697121.28,
          575664005.12,
          20367008,
          540124200.96,
          3364397056,
          3177200025.6,
          12912922460.16,
          106856232.96,
          5778469027.84,
          8410679869.44,
          950317550141.44,
          965868011.52,
          3805687971.84,
          53025960.96,
          9619720765.44,
          8134810009.6,
          504206417.92,
          283612672,
          456042647388.16,
          123479858872.32,
          1811218578800.64,
          272000000,
          74210995.2,
          21200000,
          1131652956.16,
          21694486937.6,
          98966521774.08,
          283852001.28,
          1739000053.76,
          45473018675.2,
          6487169433.6,
          764347760.64,
          399640043.52,
          594458992.64,
          5408300728.32,
          25086611947.52,
          274331750.4,
          2051374940.16,
          1359289794.56,
          6045554442.24,
          277432299.52,
          27314967019.52,
          845058867.2,
          1233619271.68,
          1062519040901.12,
          110923968675.84,
          322576793.6,
          4627702415.36,
          1371019018.24,
          239610142.72,
          1512820357201.92,
          320228270.08,
          65853299097.6,
          1544191180.8,
          25624573378.56,
          905251225.6,
          3163906703.36,
          30469944.32,
          31931252080.64,
          1286507541299.2,
          171954749.44,
          485600010.24,
          994555084.8,
          610419343.36,
          3179313561.6,
          3520880967.68,
          75543153213.44,
          1855089541.12,
          18280496496.64,
          152545792,
          468027637.76,
          7384830443.52,
          243163579023.36,
          1698454568.96,
          2084040048.64,
          6131287982.08,
          176400506.88,
          2433260093.44,
          30265979699.2,
          37279005409.28,
          2461161226.24,
          1058563932.16,
          720695951.36,
          449964892.16,
          779854643.2,
          1817269370.88,
          10928356720.64,
          992515194.88,
          94494387077.12,
          8016598138.88,
          132459601.92,
          281889996.8,
          270618752514.9257,
          5093265571.84,
          1450217963.52,
          1414662717.44,
          1130678599.68,
          1305524961.28,
          10486788259.84,
          537501859.84,
          16655887892.48,
          242696724.48,
          87043655.68,
          3189993635.84,
          61649599856.64,
          7865856819.2,
          14931838894.08,
          3389324328.96,
          854124953.6,
          361273774571.52,
          1450000056.32,
          2188075991.04,
          139282800967.68,
          9000000,
          1151985642373.12,
          4359475036.16,
          3257973145.6,
          47612743.68,
          1236582973.44,
          49716223016.96,
          5167672197.12,
          9711100231.68,
          34699487477.76,
          6226181488.64,
          3982148894.72,
          2937053839.36,
          3249907630.08,
          1419081646.08,
          33220628316.16,
          597280317.44,
          215000002.56,
          12841726771.2,
          12009255731.2,
          27680798.72,
          1067882250.24,
          176589929185.28,
          23271519027.2,
          38201763.84,
          61150891868.16,
          1050442792.96,
          844431441.92,
          10182212976.64,
          12768086589.44,
          132915998.72,
          413880975.36,
          19467040194.56,
          3403045273.6,
          5634581071.805218,
          8090767196.16,
          79846917.12,
          9507310796.8,
          3701694791.68,
          11036031713.28,
          205146214.4,
          159913481338.88,
          742607831.04,
          17329520640,
          18461800529.92,
          4169308897.28,
          3690719805.44,
          148736399.36,
          25631939624.96,
          3980023889.92,
          3138367651.84,
          33171214172.16,
          218452500.48,
          14575084503.04,
          53255280.64,
          51150045839.36,
          191480791.04,
          1800029798.4,
          51127873699.84,
          1448557936.64,
          289542758.4,
          4281431162.88,
          22139355791.36,
          12154854440.96,
          860580003.84,
          187603500400.64,
          5146065633.28,
          3263910051.84,
          52855261102.08,
          13915327037.44,
          15069127639.04,
          855219978.24,
          5297789992.96,
          20528737812.48,
          28534948495.36,
          294134858383.36,
          3829629583.36,
          5507150643.2,
          34597883084.8,
          48099148.8,
          88570939310.08,
          32352650.24,
          74576654499.84,
          2453827256.32,
          48013419476.26667,
          542266422722.56,
          379000012.8,
          65040668426.24,
          4531198033.92,
          20950789652.48,
          247235215.36,
          5461349.76,
          452535132.16,
          766365614.08,
          677672099.84,
          50238602608.64,
          2610593955.84,
          1346849751.04,
          6330022625.28,
          2315922636.8,
          640414023.68,
          9765580963.84,
          66302724014.08,
          1473179156.48,
          7211954339.84,
          821304688.64,
          40628500.48,
          194999992.32,
          25911783587.84,
          102051471.36,
          8131265822.72,
          3853090816,
          86657676083.2,
          159034501.12,
          2634597363875.84,
          18100535951.36,
          32553118.72,
          1145772605.44,
          53336216698.88,
          568800010.24,
          5381683281.92,
          44506624819.2,
          6691228221.44,
          12854457794.56,
          23577614090.24,
          195491942.4,
          188148142.08,
          69740176343.04,
          4611593011.2,
          3532099420.16,
          323456491.52,
          8121670041.6,
          2315187978.24,
          69750462873.6,
          85901998.08,
          56864832225.28,
          389524561.92,
          179072614.4,
          49398599.68,
          3956064,
          217523735756.8,
          25184260587.52,
          1296864788.48,
          230490049085.44,
          2385656053.76,
          3042471116.8,
          2924564971.52,
          273415004.16,
          486068264.96,
          890872545.28,
          48013419476.26667,
          3974650920.96,
          113429457141.76,
          127755500912.64,
          22313432514.56,
          29957685248,
          794833960.96,
          315079331.84,
          194733062225.92,
          1789529948.16,
          31105687.04,
          12921759334.4,
          33072907550.72,
          32663297064.96,
          81949557.76,
          6484557168.64,
          155960737792,
          6400066191.36,
          1977557975.04,
          37476628.48,
          2723320463.36,
          2748884582.4,
          32845240729.6,
          32835774709.76,
          2660014817.28,
          42879200788.48,
          42770070241.28,
          12112684646.4,
          4921440337.92,
          7597044531.2,
          24678550732.8,
          83008650.24,
          711343063.04,
          714747740.16,
          557191249.92,
          818093752.32,
          780750028.8,
          309431848.96,
          22471610204.16,
          11643092992,
          2355360071.68,
          1264664985.6,
          30444940165.12,
          1310151639.04,
          24075960.32,
          11665968988.16,
          228954094960.64,
          481189642.24,
          35144917319.68,
          6083065282.56,
          2604528107.52,
          52310022553.6,
          297649438.72,
          797842309.12,
          1200006103.04,
          2645000028.16,
          4936979906.56
         ],
         "y0": " ",
         "yaxis": "y"
        }
       ],
       "layout": {
        "boxmode": "group",
        "height": 500,
        "legend": {
         "tracegroupgap": 0
        },
        "template": {
         "data": {
          "bar": [
           {
            "error_x": {
             "color": "rgb(36,36,36)"
            },
            "error_y": {
             "color": "rgb(36,36,36)"
            },
            "marker": {
             "line": {
              "color": "white",
              "width": 0.5
             },
             "pattern": {
              "fillmode": "overlay",
              "size": 10,
              "solidity": 0.2
             }
            },
            "type": "bar"
           }
          ],
          "barpolar": [
           {
            "marker": {
             "line": {
              "color": "white",
              "width": 0.5
             },
             "pattern": {
              "fillmode": "overlay",
              "size": 10,
              "solidity": 0.2
             }
            },
            "type": "barpolar"
           }
          ],
          "carpet": [
           {
            "aaxis": {
             "endlinecolor": "rgb(36,36,36)",
             "gridcolor": "white",
             "linecolor": "white",
             "minorgridcolor": "white",
             "startlinecolor": "rgb(36,36,36)"
            },
            "baxis": {
             "endlinecolor": "rgb(36,36,36)",
             "gridcolor": "white",
             "linecolor": "white",
             "minorgridcolor": "white",
             "startlinecolor": "rgb(36,36,36)"
            },
            "type": "carpet"
           }
          ],
          "choropleth": [
           {
            "colorbar": {
             "outlinewidth": 1,
             "tickcolor": "rgb(36,36,36)",
             "ticks": "outside"
            },
            "type": "choropleth"
           }
          ],
          "contour": [
           {
            "colorbar": {
             "outlinewidth": 1,
             "tickcolor": "rgb(36,36,36)",
             "ticks": "outside"
            },
            "colorscale": [
             [
              0,
              "#440154"
             ],
             [
              0.1111111111111111,
              "#482878"
             ],
             [
              0.2222222222222222,
              "#3e4989"
             ],
             [
              0.3333333333333333,
              "#31688e"
             ],
             [
              0.4444444444444444,
              "#26828e"
             ],
             [
              0.5555555555555556,
              "#1f9e89"
             ],
             [
              0.6666666666666666,
              "#35b779"
             ],
             [
              0.7777777777777778,
              "#6ece58"
             ],
             [
              0.8888888888888888,
              "#b5de2b"
             ],
             [
              1,
              "#fde725"
             ]
            ],
            "type": "contour"
           }
          ],
          "contourcarpet": [
           {
            "colorbar": {
             "outlinewidth": 1,
             "tickcolor": "rgb(36,36,36)",
             "ticks": "outside"
            },
            "type": "contourcarpet"
           }
          ],
          "heatmap": [
           {
            "colorbar": {
             "outlinewidth": 1,
             "tickcolor": "rgb(36,36,36)",
             "ticks": "outside"
            },
            "colorscale": [
             [
              0,
              "#440154"
             ],
             [
              0.1111111111111111,
              "#482878"
             ],
             [
              0.2222222222222222,
              "#3e4989"
             ],
             [
              0.3333333333333333,
              "#31688e"
             ],
             [
              0.4444444444444444,
              "#26828e"
             ],
             [
              0.5555555555555556,
              "#1f9e89"
             ],
             [
              0.6666666666666666,
              "#35b779"
             ],
             [
              0.7777777777777778,
              "#6ece58"
             ],
             [
              0.8888888888888888,
              "#b5de2b"
             ],
             [
              1,
              "#fde725"
             ]
            ],
            "type": "heatmap"
           }
          ],
          "heatmapgl": [
           {
            "colorbar": {
             "outlinewidth": 1,
             "tickcolor": "rgb(36,36,36)",
             "ticks": "outside"
            },
            "colorscale": [
             [
              0,
              "#440154"
             ],
             [
              0.1111111111111111,
              "#482878"
             ],
             [
              0.2222222222222222,
              "#3e4989"
             ],
             [
              0.3333333333333333,
              "#31688e"
             ],
             [
              0.4444444444444444,
              "#26828e"
             ],
             [
              0.5555555555555556,
              "#1f9e89"
             ],
             [
              0.6666666666666666,
              "#35b779"
             ],
             [
              0.7777777777777778,
              "#6ece58"
             ],
             [
              0.8888888888888888,
              "#b5de2b"
             ],
             [
              1,
              "#fde725"
             ]
            ],
            "type": "heatmapgl"
           }
          ],
          "histogram": [
           {
            "marker": {
             "line": {
              "color": "white",
              "width": 0.6
             }
            },
            "type": "histogram"
           }
          ],
          "histogram2d": [
           {
            "colorbar": {
             "outlinewidth": 1,
             "tickcolor": "rgb(36,36,36)",
             "ticks": "outside"
            },
            "colorscale": [
             [
              0,
              "#440154"
             ],
             [
              0.1111111111111111,
              "#482878"
             ],
             [
              0.2222222222222222,
              "#3e4989"
             ],
             [
              0.3333333333333333,
              "#31688e"
             ],
             [
              0.4444444444444444,
              "#26828e"
             ],
             [
              0.5555555555555556,
              "#1f9e89"
             ],
             [
              0.6666666666666666,
              "#35b779"
             ],
             [
              0.7777777777777778,
              "#6ece58"
             ],
             [
              0.8888888888888888,
              "#b5de2b"
             ],
             [
              1,
              "#fde725"
             ]
            ],
            "type": "histogram2d"
           }
          ],
          "histogram2dcontour": [
           {
            "colorbar": {
             "outlinewidth": 1,
             "tickcolor": "rgb(36,36,36)",
             "ticks": "outside"
            },
            "colorscale": [
             [
              0,
              "#440154"
             ],
             [
              0.1111111111111111,
              "#482878"
             ],
             [
              0.2222222222222222,
              "#3e4989"
             ],
             [
              0.3333333333333333,
              "#31688e"
             ],
             [
              0.4444444444444444,
              "#26828e"
             ],
             [
              0.5555555555555556,
              "#1f9e89"
             ],
             [
              0.6666666666666666,
              "#35b779"
             ],
             [
              0.7777777777777778,
              "#6ece58"
             ],
             [
              0.8888888888888888,
              "#b5de2b"
             ],
             [
              1,
              "#fde725"
             ]
            ],
            "type": "histogram2dcontour"
           }
          ],
          "mesh3d": [
           {
            "colorbar": {
             "outlinewidth": 1,
             "tickcolor": "rgb(36,36,36)",
             "ticks": "outside"
            },
            "type": "mesh3d"
           }
          ],
          "parcoords": [
           {
            "line": {
             "colorbar": {
              "outlinewidth": 1,
              "tickcolor": "rgb(36,36,36)",
              "ticks": "outside"
             }
            },
            "type": "parcoords"
           }
          ],
          "pie": [
           {
            "automargin": true,
            "type": "pie"
           }
          ],
          "scatter": [
           {
            "marker": {
             "colorbar": {
              "outlinewidth": 1,
              "tickcolor": "rgb(36,36,36)",
              "ticks": "outside"
             }
            },
            "type": "scatter"
           }
          ],
          "scatter3d": [
           {
            "line": {
             "colorbar": {
              "outlinewidth": 1,
              "tickcolor": "rgb(36,36,36)",
              "ticks": "outside"
             }
            },
            "marker": {
             "colorbar": {
              "outlinewidth": 1,
              "tickcolor": "rgb(36,36,36)",
              "ticks": "outside"
             }
            },
            "type": "scatter3d"
           }
          ],
          "scattercarpet": [
           {
            "marker": {
             "colorbar": {
              "outlinewidth": 1,
              "tickcolor": "rgb(36,36,36)",
              "ticks": "outside"
             }
            },
            "type": "scattercarpet"
           }
          ],
          "scattergeo": [
           {
            "marker": {
             "colorbar": {
              "outlinewidth": 1,
              "tickcolor": "rgb(36,36,36)",
              "ticks": "outside"
             }
            },
            "type": "scattergeo"
           }
          ],
          "scattergl": [
           {
            "marker": {
             "colorbar": {
              "outlinewidth": 1,
              "tickcolor": "rgb(36,36,36)",
              "ticks": "outside"
             }
            },
            "type": "scattergl"
           }
          ],
          "scattermapbox": [
           {
            "marker": {
             "colorbar": {
              "outlinewidth": 1,
              "tickcolor": "rgb(36,36,36)",
              "ticks": "outside"
             }
            },
            "type": "scattermapbox"
           }
          ],
          "scatterpolar": [
           {
            "marker": {
             "colorbar": {
              "outlinewidth": 1,
              "tickcolor": "rgb(36,36,36)",
              "ticks": "outside"
             }
            },
            "type": "scatterpolar"
           }
          ],
          "scatterpolargl": [
           {
            "marker": {
             "colorbar": {
              "outlinewidth": 1,
              "tickcolor": "rgb(36,36,36)",
              "ticks": "outside"
             }
            },
            "type": "scatterpolargl"
           }
          ],
          "scatterternary": [
           {
            "marker": {
             "colorbar": {
              "outlinewidth": 1,
              "tickcolor": "rgb(36,36,36)",
              "ticks": "outside"
             }
            },
            "type": "scatterternary"
           }
          ],
          "surface": [
           {
            "colorbar": {
             "outlinewidth": 1,
             "tickcolor": "rgb(36,36,36)",
             "ticks": "outside"
            },
            "colorscale": [
             [
              0,
              "#440154"
             ],
             [
              0.1111111111111111,
              "#482878"
             ],
             [
              0.2222222222222222,
              "#3e4989"
             ],
             [
              0.3333333333333333,
              "#31688e"
             ],
             [
              0.4444444444444444,
              "#26828e"
             ],
             [
              0.5555555555555556,
              "#1f9e89"
             ],
             [
              0.6666666666666666,
              "#35b779"
             ],
             [
              0.7777777777777778,
              "#6ece58"
             ],
             [
              0.8888888888888888,
              "#b5de2b"
             ],
             [
              1,
              "#fde725"
             ]
            ],
            "type": "surface"
           }
          ],
          "table": [
           {
            "cells": {
             "fill": {
              "color": "rgb(237,237,237)"
             },
             "line": {
              "color": "white"
             }
            },
            "header": {
             "fill": {
              "color": "rgb(217,217,217)"
             },
             "line": {
              "color": "white"
             }
            },
            "type": "table"
           }
          ]
         },
         "layout": {
          "annotationdefaults": {
           "arrowhead": 0,
           "arrowwidth": 1
          },
          "autotypenumbers": "strict",
          "coloraxis": {
           "colorbar": {
            "outlinewidth": 1,
            "tickcolor": "rgb(36,36,36)",
            "ticks": "outside"
           }
          },
          "colorscale": {
           "diverging": [
            [
             0,
             "rgb(103,0,31)"
            ],
            [
             0.1,
             "rgb(178,24,43)"
            ],
            [
             0.2,
             "rgb(214,96,77)"
            ],
            [
             0.3,
             "rgb(244,165,130)"
            ],
            [
             0.4,
             "rgb(253,219,199)"
            ],
            [
             0.5,
             "rgb(247,247,247)"
            ],
            [
             0.6,
             "rgb(209,229,240)"
            ],
            [
             0.7,
             "rgb(146,197,222)"
            ],
            [
             0.8,
             "rgb(67,147,195)"
            ],
            [
             0.9,
             "rgb(33,102,172)"
            ],
            [
             1,
             "rgb(5,48,97)"
            ]
           ],
           "sequential": [
            [
             0,
             "#440154"
            ],
            [
             0.1111111111111111,
             "#482878"
            ],
            [
             0.2222222222222222,
             "#3e4989"
            ],
            [
             0.3333333333333333,
             "#31688e"
            ],
            [
             0.4444444444444444,
             "#26828e"
            ],
            [
             0.5555555555555556,
             "#1f9e89"
            ],
            [
             0.6666666666666666,
             "#35b779"
            ],
            [
             0.7777777777777778,
             "#6ece58"
            ],
            [
             0.8888888888888888,
             "#b5de2b"
            ],
            [
             1,
             "#fde725"
            ]
           ],
           "sequentialminus": [
            [
             0,
             "#440154"
            ],
            [
             0.1111111111111111,
             "#482878"
            ],
            [
             0.2222222222222222,
             "#3e4989"
            ],
            [
             0.3333333333333333,
             "#31688e"
            ],
            [
             0.4444444444444444,
             "#26828e"
            ],
            [
             0.5555555555555556,
             "#1f9e89"
            ],
            [
             0.6666666666666666,
             "#35b779"
            ],
            [
             0.7777777777777778,
             "#6ece58"
            ],
            [
             0.8888888888888888,
             "#b5de2b"
            ],
            [
             1,
             "#fde725"
            ]
           ]
          },
          "colorway": [
           "#1F77B4",
           "#FF7F0E",
           "#2CA02C",
           "#D62728",
           "#9467BD",
           "#8C564B",
           "#E377C2",
           "#7F7F7F",
           "#BCBD22",
           "#17BECF"
          ],
          "font": {
           "color": "rgb(36,36,36)"
          },
          "geo": {
           "bgcolor": "white",
           "lakecolor": "white",
           "landcolor": "white",
           "showlakes": true,
           "showland": true,
           "subunitcolor": "white"
          },
          "hoverlabel": {
           "align": "left"
          },
          "hovermode": "closest",
          "mapbox": {
           "style": "light"
          },
          "paper_bgcolor": "white",
          "plot_bgcolor": "white",
          "polar": {
           "angularaxis": {
            "gridcolor": "rgb(232,232,232)",
            "linecolor": "rgb(36,36,36)",
            "showgrid": false,
            "showline": true,
            "ticks": "outside"
           },
           "bgcolor": "white",
           "radialaxis": {
            "gridcolor": "rgb(232,232,232)",
            "linecolor": "rgb(36,36,36)",
            "showgrid": false,
            "showline": true,
            "ticks": "outside"
           }
          },
          "scene": {
           "xaxis": {
            "backgroundcolor": "white",
            "gridcolor": "rgb(232,232,232)",
            "gridwidth": 2,
            "linecolor": "rgb(36,36,36)",
            "showbackground": true,
            "showgrid": false,
            "showline": true,
            "ticks": "outside",
            "zeroline": false,
            "zerolinecolor": "rgb(36,36,36)"
           },
           "yaxis": {
            "backgroundcolor": "white",
            "gridcolor": "rgb(232,232,232)",
            "gridwidth": 2,
            "linecolor": "rgb(36,36,36)",
            "showbackground": true,
            "showgrid": false,
            "showline": true,
            "ticks": "outside",
            "zeroline": false,
            "zerolinecolor": "rgb(36,36,36)"
           },
           "zaxis": {
            "backgroundcolor": "white",
            "gridcolor": "rgb(232,232,232)",
            "gridwidth": 2,
            "linecolor": "rgb(36,36,36)",
            "showbackground": true,
            "showgrid": false,
            "showline": true,
            "ticks": "outside",
            "zeroline": false,
            "zerolinecolor": "rgb(36,36,36)"
           }
          },
          "shapedefaults": {
           "fillcolor": "black",
           "line": {
            "width": 0
           },
           "opacity": 0.3
          },
          "ternary": {
           "aaxis": {
            "gridcolor": "rgb(232,232,232)",
            "linecolor": "rgb(36,36,36)",
            "showgrid": false,
            "showline": true,
            "ticks": "outside"
           },
           "baxis": {
            "gridcolor": "rgb(232,232,232)",
            "linecolor": "rgb(36,36,36)",
            "showgrid": false,
            "showline": true,
            "ticks": "outside"
           },
           "bgcolor": "white",
           "caxis": {
            "gridcolor": "rgb(232,232,232)",
            "linecolor": "rgb(36,36,36)",
            "showgrid": false,
            "showline": true,
            "ticks": "outside"
           }
          },
          "title": {
           "x": 0.05
          },
          "xaxis": {
           "automargin": true,
           "gridcolor": "rgb(232,232,232)",
           "linecolor": "rgb(36,36,36)",
           "showgrid": false,
           "showline": true,
           "ticks": "outside",
           "title": {
            "standoff": 15
           },
           "zeroline": false,
           "zerolinecolor": "rgb(36,36,36)"
          },
          "yaxis": {
           "automargin": true,
           "gridcolor": "rgb(232,232,232)",
           "linecolor": "rgb(36,36,36)",
           "showgrid": false,
           "showline": true,
           "ticks": "outside",
           "title": {
            "standoff": 15
           },
           "zeroline": false,
           "zerolinecolor": "rgb(36,36,36)"
          }
         }
        },
        "title": {
         "text": "Distribution of Market Capitalisation of the JSE"
        },
        "width": 700,
        "xaxis": {
         "anchor": "y",
         "autorange": true,
         "domain": [
          0,
          1
         ],
         "range": [
          -0.5,
          0.5
         ],
         "type": "category"
        },
        "yaxis": {
         "anchor": "x",
         "autorange": true,
         "domain": [
          0,
          1
         ],
         "range": [
          -146364208717.54666,
          2780963762433.3867
         ],
         "title": {
          "text": "Market_cap"
         },
         "type": "linear"
        }
       }
      },
      "image/png": "[encoded data removed]",
      "text/html": [
       "<div>                            <div id=\"8707905c-0126-4db7-ace0-eb84b5c85197\" class=\"plotly-graph-div\" style=\"height:500px; width:700px;\"></div>            <script type=\"text/javascript\">                require([\"plotly\"], function(Plotly) {                    window.PLOTLYENV=window.PLOTLYENV || {};                                    if (document.getElementById(\"8707905c-0126-4db7-ace0-eb84b5c85197\")) {                    Plotly.newPlot(                        \"8707905c-0126-4db7-ace0-eb84b5c85197\",                        [{\"alignmentgroup\":\"True\",\"boxpoints\":\"outliers\",\"hovertemplate\":\"<b>%{hovertext}</b><br><br>Market_cap=%{y}<extra></extra>\",\"hovertext\":[\"4Sight Holdings Ltd\",\"Absa Group Limited\",\"ABSA Bank Ltd Pref\",\"ArcelorMittal SA Limited\",\"Acsion Limited\",\"AfroCentric Inv Corp Ltd\",\"Arden Capital Limited\",\"ADvTECH Ltd\",\"Adapt IT Holdings Ltd\",\"Adcorp Holdings Limited\",\"African Dawn Capital Ltd\",\"African Equity Emp Inv Ltd\",\"Aveng Group Limited\",\"Altron Limited A\",\"AECI Limited\",\"AECI Limited 5,5% Pref\",\"Alexander Forbes Grp Hldgs\",\"Afrimat Limited\",\"Anglo American plc\",\"Arrowhead Prop Ltd A\",\"Arrowhead Prop Ltd B\",\"AH-Vest Limited\",\"African Rainbow Cap Inv\",\"Adcock Ingram Hldgs Ltd\",\"Alaris Holdings Ltd\",\"African Media Ent Ltd\",\"Anglo American Plat Ltd\",\"Anglogold Ashanti Ltd\",\"Anheuser-Busch InBev SA NV\",\"Afine Investments Ltd\",\"African & Over Ent Ltd -N\",\"African & Over Ent Ltd\",\"Accelerate Prop Fund Ltd\",\"Alphamin Resources Corp\",\"Aspen Pharmacare Hldgs Ltd\",\"Astoria Investments Ltd\",\"ARB Holdings Limited\",\"African Rainbow Min Ltd\",\"Astral Foods Ltd\",\"Argent Industrial Ltd\",\"Ascendis Health Ltd\",\"Afristrat Inv Hldgs Ltd\",\"Attacq Limited\",\"AVI Ltd\",\"Advanced Health Ltd\",\"Alviva Holdings Ltd\",\"Ayo Tech Solutions Ltd\",\"Brait PLC\",\"Bauba Resources Limited\",\"Barloworld Ltd\",\"Bowler Metcalf Ltd\",\"Bell Equipment Ltd\",\"BHP Group Plc\",\"BID Corporation Ltd\",\"Brikor Ltd\",\"Blue Label Telecoms Ltd\",\"Brimstone Inv Corp Ltd-N\",\"Brimstone Inv Corp Ltd\",\"British American Tob plc\",\"Buffalo Coal Corp\",\"Bidvest Ltd\",\"Balwin Properties Ltd\",\"Bytes Technology Group\",\"Cafca Limited\",\"Caxton CTP Publish Print\",\"Caxton CTP Publish 6%Pf\",\"Capital&Counties Prop plc\",\"Compagnie Fin Richemont\",\"Cognition Holdings Ltd\",\"Calgro M3 Hldgs Ltd\",\"Choppies Enterprises Ltd\",\"Crookes Brothers Ltd\",\"City Lodge Hotels Ltd\",\"Clientele Ltd\",\"Clicks Group Ltd\",\"Combined Motor Hldgs Ltd\",\"Coronation Fund Mngrs Ld\",\"Chrometco Ltd\",\"Conduit Capital Ltd\",\"Curro Holdings Limited\",\"Capitec Bank Hldgs Ltd\",\"Capitec Bank Hldgs Pref\",\"Capital & Regional Plc\",\"Cashbuild Ltd\",\"CSG Holdings Ltd\",\"CAPITAL APPRECIATION LTD\",\"Dis-Chem Pharmacies Ltd\",\"Distell Group Hldgs Ltd\",\"Dipula Income Fund A\",\"Dipula Income Fund B\",\"Deutsche Konsum REIT-AG\",\"Delta Property Fund Ltd\",\"Deneb Investments Ltd\",\"DRA Global Ltd\",\"DRD Gold Ltd\",\"Discovery Ltd B pref\",\"Discovery Ltd\",\"Datatec Ltd\",\"Efora Energy Limited\",\"Ellies Holdings Ltd\",\"E Media Holdings Ltd\",\"Emira Property Fund Ltd\",\"E Media Holdings Ltd -N-\",\"enX Group LImited\",\"EOH Holdings Ltd\",\"EPE Capital Partners Ltd\",\"EPP N.V.\",\"Eastern Platinum Ltd\",\"Equites Prop Fund Ltd\",\"Etion Limited\",\"Europa Metals Limited\",\"Exemplar REITail Ltd\",\"Exxaro Resources Ltd\",\"Famous Brands Ltd\",\"Fortress REIT Ltd A\",\"Fortress REIT Ltd B\",\"Finbond Group Ltd\",\"Firstrand Ltd\",\"Frontier Transport Hldg Ld\",\"Fairvest Property Hldgs\",\"Gold Fields Ltd\",\"Go Life International Ld\",\"Glencore plc\",\"Gemfields Group Limited\",\"Grindrod Ltd\",\"Grindrod Ltd Pref\",\"Grand Parade Inv Ltd\",\"Growthpoint Prop Ltd\",\"Grindrod Shipping Hldg Ltd\",\"Globe Trade Centre S.A.\",\"Harmony GM Co Ltd\",\"Hosken Cons Inv Ltd\",\"Hudaco Industries Ltd\",\"Heriot REIT Limited\",\"Homechoice Int plc\",\"Hulamin Ltd\",\"Hammerson plc\",\"Huge Group Ltd\",\"Hulisani Limited\",\"Hyprop Inv Ltd\",\"Irongate Group\",\"Imbalie Beauty Limited\",\"Indluplace Properties Ltd\",\"Impala Platinum Hlgs Ltd\",\"Investec Ltd\",\"Investec Bank Ltd Pref\",\"Investec plc\",\"Investec plc Pref\",\"Investec plc Pref (Rand)\",\"Investec Property Fund Ltd\",\"Imperial Logistics Ltd\",\"ISA Holdings Limited\",\"Insimbi Ind Hldgs Ltd\",\"Italtile Ltd\",\"Invicta Holdings Ltd\",\"Invicta Hldgs Ltd pref\",\"Jubilee Metals Group plc\",\"Jasco Electron Hldgs Ltd\",\"JSE Ltd\",\"Kaap Agri Limited\",\"KAP Industrial Hldgs Ltd\",\"Kibo Energy plc\",\"Kumba Iron Ore Ltd\",\"Kore Potash plc\",\"Karooooo Ltd\",\"PSG Konsult Limited\",\"Liberty Two Degrees LTD\",\"Long 4 Life Limited\",\"Labat Africa Ltd\",\"Liberty Holdings Ltd\",\"Libstar Holdings Ltd\",\"Lewis Group Ltd\",\"Life Healthc Grp Hldgs Ltd\",\"London Fin Inv Group plc\",\"Lighthouse Capital Ltd\",\"Luxe Holdings Limited\",\"MultiChoice Group Ltd\",\"MC Mining Limited\",\"Master Drilling Grp Ltd\",\"Mediclinic Int plc\",\"Metrofile Holdings Ltd\",\"Mahube Infrastructure Ltd\",\"Mix Telematics Ltd\",\"Montauk Renewables Inc\",\"Industrials REIT Limited\",\"Marshall Monteagle plc\",\"Mondi plc\",\"Mpact Limited\",\"Merafe Resources Ltd\",\"Mr Price Group Ltd\",\"Massmart Holdings Ltd\",\"MAS P.L.C\",\"Mustek Ltd\",\"Metair Investments Ltd\",\"Motus Holdings Ltd\",\"Momentum Met Hldgs Ltd\",\"MTN Group Ltd\",\"MTN Zakhele Futhi\",\"Murray & Roberts Hldgs\",\"Ninety One Plc\",\"Nictus Ltd\",\"Nedbank Group Ltd\",\"New Frontier Prop Ltd\",\"Northam Platinum Hldgs Ltd\",\"Nampak Ltd\",\"Nampak Ltd 6%Pref\",\"Naspers Ltd -N-\",\"Newpark REIT Ltd\",\"NEPI Rockcastle Plc\",\"Net 1 UEPS Tech Inc\",\"Netcare Limited\",\"Netcare Limited Pref\",\"Nutritional Holdings Ltd\",\"NVest Financial Hldgs Ltd\",\"Novus Holdings Limited\",\"Nu-World Hldgs Ltd\",\"Ninety One Limited\",\"Oando plc\",\"Oasis Crescent Prop Fund\",\"Oceana Group Ltd\",\"Octodec Invest Ltd\",\"Onelogix Group Ltd\",\"Omnia Holdings Ltd\",\"Old Mutual Limited\",\"Orion Minerals Limited\",\"Pan African Resource plc\",\"PBT Group Limited\",\"Pembury Lifestyle Grp Lt\",\"Premier Fishing Brands Ltd\",\"Pick n Pay Stores Ltd\",\"Primeserv Group Ltd\",\"PPC Limited\",\"Purple Group Ltd\",\"Pepkor Holdings Ltd\",\"Putprop Ltd\",\"Prosus N.V.\",\"PSG Group Ltd\",\"PSV Holdings Ltd\",\"Quantum Foods Hldgs Ltd\",\"Quilter Plc\",\"RECM and Calibre Limited\",\"Raven Property Group Ltd\",\"Royal Bafokeng Platinum Ltd\",\"Raubex Group Ltd\",\"RCL Foods Limited\",\"Redefine Properties Ltd\",\"Rebosis Property Fund Ltd A\",\"Rebosis Property Fund Ltd\",\"Remgro Ltd\",\"Renergen Limited\",\"RFG Holdings Limited\",\"RH Bophelo Limited\",\"Reunert Ltd\",\"RMB Holdings Ltd\",\"Rand Merchant Inv Hldgs Ltd\",\"Randgold & Expl Co Ltd\",\"Reinet Investments S.C.A\",\"Resource Generation Ltd\",\"Rex Trueform Group -N-\",\"Rex Trueform Group Ltd\",\"Rex Trueform Grp 6%Pref\",\"South32 Limited\",\"Sappi Ltd\",\"Safari Investments RSA Ltd\",\"Standard Bank Group Ltd\",\"Sabvest Capital Limited\",\"Schroder Eur REIT plc\",\"Stadio Holdings Limited\",\"Sebata Holdings Ltd\",\"Sephaku Holdings Ltd\",\"Sasfin Holdings Ltd\",\"Steinhoff Inv Hldgs Pref\",\"Sea Harvest Group Ltd\",\"Shoprite Holdings Ltd\",\"Sanlam Limited\",\"Steinhoff Int Hldgs N.V.\",\"Santam Limited\",\"Santova Logistics Ltd\",\"South Ocean Holdings Ltd\",\"Sasol Limited\",\"BEE - Sasol Limited\",\"Spanjaard Limited\",\"Super Group Ltd\",\"The Spar Group Ltd\",\"Sirius Real Estate Ltd\",\"Stefanutti Stck Hldgs Ltd\",\"Stor-Age Prop REIT Ltd\",\"Sibanye Stillwater Ltd\",\"Sun International Ltd\",\"Spur Corporation Ltd\",\"Silverbridge Holdings\",\"Sygnia Limited\",\"SAB Zenzele Kabili\",\"Tiger Brands Ltd\",\"Transaction Capital Ltd\",\"Tradehold Ltd\",\"The Foschini Group Limited\",\"Foschini Ltd 6,5%Pref\",\"Thungela Resources Ltd\",\"Tsogo Sun Hotels LTD\",\"Tharisa plc\",\"Telkom SA SOC Ltd\",\"Telemaster Holdings Ltd\",\"Trematon Capital Inv Ltd\",\"Tongaat Hulett Ltd\",\"Transpaco Ltd\",\"Transcend Res Prop Fd Ld\",\"Trencor Ltd\",\"Trellidor Hldgs Ltd\",\"Truworths Int Ltd\",\"Tsogo Sun Gaming Ltd\",\"Trustco Group Hldgs Ltd\",\"Tower Property Fund Ltd\",\"Textainer Group Hldgs Ltd\",\"Universal Partners Ltd\",\"Visual International Hldgs Ltd\",\"Vukile Property Fund Ltd\",\"Vodacom Group Ltd\",\"Vunani Ltd\",\"Vivo Energy plc\",\"Wilson Bayly Hlm-Ovc Ltd\",\"Wesizwe Platinum Ltd\",\"Woolworths Holdings Ltd\",\"Workforce Holdings Ltd\",\"Wescoal Holdings Ltd\",\"York Timber Holdings Ltd\",\"YeboYethu (RF) Ltd\",\"Zeder Inv Ltd\"],\"legendgroup\":\"\",\"marker\":{\"color\":\"#1F77B4\"},\"name\":\"\",\"notched\":false,\"offsetgroup\":\"\",\"orientation\":\"v\",\"showlegend\":false,\"x0\":\" \",\"xaxis\":\"x\",\"y\":[158167674.88,133950309662.72,3631238021.12,10588795699.2,1647767879.68,2917781340.16,2189840.0,9619250216.96,967697121.28,575664005.12,20367008.0,540124200.96,3364397056.0,3177200025.6,12912922460.16,106856232.96,5778469027.84,8410679869.44,950317550141.44,965868011.52,3805687971.84,53025960.96,9619720765.44,8134810009.6,504206417.92,283612672.0,456042647388.16,123479858872.32,1811218578800.64,272000000.0,74210995.2,21200000.0,1131652956.16,21694486937.6,98966521774.08,283852001.28,1739000053.76,45473018675.2,6487169433.6,764347760.64,399640043.52,594458992.64,5408300728.32,25086611947.52,274331750.4,2051374940.16,1359289794.56,6045554442.24,277432299.52,27314967019.52,845058867.2,1233619271.68,1062519040901.12,110923968675.84,322576793.6,4627702415.36,1371019018.24,239610142.72,1512820357201.92,320228270.08,65853299097.6,1544191180.8,25624573378.56,905251225.6,3163906703.36,30469944.32,31931252080.64,1286507541299.2,171954749.44,485600010.24,994555084.8,610419343.36,3179313561.6,3520880967.68,75543153213.44,1855089541.12,18280496496.64,152545792.0,468027637.76,7384830443.52,243163579023.36,1698454568.96,2084040048.64,6131287982.08,176400506.88,2433260093.44,30265979699.2,37279005409.28,2461161226.24,1058563932.16,720695951.36,449964892.16,779854643.2,1817269370.88,10928356720.64,992515194.88,94494387077.12,8016598138.88,132459601.92,281889996.8,270618752514.9257,5093265571.84,1450217963.52,1414662717.44,1130678599.68,1305524961.28,10486788259.84,537501859.84,16655887892.48,242696724.48,87043655.68,3189993635.84,61649599856.64,7865856819.2,14931838894.08,3389324328.96,854124953.6,361273774571.52,1450000056.32,2188075991.04,139282800967.68,9000000.0,1151985642373.12,4359475036.16,3257973145.6,47612743.68,1236582973.44,49716223016.96,5167672197.12,9711100231.68,34699487477.76,6226181488.64,3982148894.72,2937053839.36,3249907630.08,1419081646.08,33220628316.16,597280317.44,215000002.56,12841726771.2,12009255731.2,27680798.72,1067882250.24,176589929185.28,23271519027.2,38201763.84,61150891868.16,1050442792.96,844431441.92,10182212976.64,12768086589.44,132915998.72,413880975.36,19467040194.56,3403045273.6,5634581071.805218,8090767196.16,79846917.12,9507310796.8,3701694791.68,11036031713.28,205146214.4,159913481338.88,742607831.04,17329520640.0,18461800529.92,4169308897.28,3690719805.44,148736399.36,25631939624.96,3980023889.92,3138367651.84,33171214172.16,218452500.48,14575084503.04,53255280.64,51150045839.36,191480791.04,1800029798.4,51127873699.84,1448557936.64,289542758.4,4281431162.88,22139355791.36,12154854440.96,860580003.84,187603500400.64,5146065633.28,3263910051.84,52855261102.08,13915327037.44,15069127639.04,855219978.24,5297789992.96,20528737812.48,28534948495.36,294134858383.36,3829629583.36,5507150643.2,34597883084.8,48099148.8,88570939310.08,32352650.24,74576654499.84,2453827256.32,48013419476.26667,542266422722.56,379000012.8,65040668426.24,4531198033.92,20950789652.48,247235215.36,5461349.76,452535132.16,766365614.08,677672099.84,50238602608.64,2610593955.84,1346849751.04,6330022625.28,2315922636.8,640414023.68,9765580963.84,66302724014.08,1473179156.48,7211954339.84,821304688.64,40628500.48,194999992.32,25911783587.84,102051471.36,8131265822.72,3853090816.0,86657676083.2,159034501.12,2634597363875.84,18100535951.36,32553118.72,1145772605.44,53336216698.88,568800010.24,5381683281.92,44506624819.2,6691228221.44,12854457794.56,23577614090.24,195491942.4,188148142.08,69740176343.04,4611593011.2,3532099420.16,323456491.52,8121670041.6,2315187978.24,69750462873.6,85901998.08,56864832225.28,389524561.92,179072614.4,49398599.68,3956064.0,217523735756.8,25184260587.52,1296864788.48,230490049085.44,2385656053.76,3042471116.8,2924564971.52,273415004.16,486068264.96,890872545.28,48013419476.26667,3974650920.96,113429457141.76,127755500912.64,22313432514.56,29957685248.0,794833960.96,315079331.84,194733062225.92,1789529948.16,31105687.04,12921759334.4,33072907550.72,32663297064.96,81949557.76,6484557168.64,155960737792.0,6400066191.36,1977557975.04,37476628.48,2723320463.36,2748884582.4,32845240729.6,32835774709.76,2660014817.28,42879200788.48,42770070241.28,12112684646.4,4921440337.92,7597044531.2,24678550732.8,83008650.24,711343063.04,714747740.16,557191249.92,818093752.32,780750028.8,309431848.96,22471610204.16,11643092992.0,2355360071.68,1264664985.6,30444940165.12,1310151639.04,24075960.32,11665968988.16,228954094960.64,481189642.24,35144917319.68,6083065282.56,2604528107.52,52310022553.6,297649438.72,797842309.12,1200006103.04,2645000028.16,4936979906.56],\"y0\":\" \",\"yaxis\":\"y\",\"type\":\"box\"}],                        {\"template\":{\"data\":{\"barpolar\":[{\"marker\":{\"line\":{\"color\":\"white\",\"width\":0.5},\"pattern\":{\"fillmode\":\"overlay\",\"size\":10,\"solidity\":0.2}},\"type\":\"barpolar\"}],\"bar\":[{\"error_x\":{\"color\":\"rgb(36,36,36)\"},\"error_y\":{\"color\":\"rgb(36,36,36)\"},\"marker\":{\"line\":{\"color\":\"white\",\"width\":0.5},\"pattern\":{\"fillmode\":\"overlay\",\"size\":10,\"solidity\":0.2}},\"type\":\"bar\"}],\"carpet\":[{\"aaxis\":{\"endlinecolor\":\"rgb(36,36,36)\",\"gridcolor\":\"white\",\"linecolor\":\"white\",\"minorgridcolor\":\"white\",\"startlinecolor\":\"rgb(36,36,36)\"},\"baxis\":{\"endlinecolor\":\"rgb(36,36,36)\",\"gridcolor\":\"white\",\"linecolor\":\"white\",\"minorgridcolor\":\"white\",\"startlinecolor\":\"rgb(36,36,36)\"},\"type\":\"carpet\"}],\"choropleth\":[{\"colorbar\":{\"outlinewidth\":1,\"tickcolor\":\"rgb(36,36,36)\",\"ticks\":\"outside\"},\"type\":\"choropleth\"}],\"contourcarpet\":[{\"colorbar\":{\"outlinewidth\":1,\"tickcolor\":\"rgb(36,36,36)\",\"ticks\":\"outside\"},\"type\":\"contourcarpet\"}],\"contour\":[{\"colorbar\":{\"outlinewidth\":1,\"tickcolor\":\"rgb(36,36,36)\",\"ticks\":\"outside\"},\"colorscale\":[[0.0,\"#440154\"],[0.1111111111111111,\"#482878\"],[0.2222222222222222,\"#3e4989\"],[0.3333333333333333,\"#31688e\"],[0.4444444444444444,\"#26828e\"],[0.5555555555555556,\"#1f9e89\"],[0.6666666666666666,\"#35b779\"],[0.7777777777777778,\"#6ece58\"],[0.8888888888888888,\"#b5de2b\"],[1.0,\"#fde725\"]],\"type\":\"contour\"}],\"heatmapgl\":[{\"colorbar\":{\"outlinewidth\":1,\"tickcolor\":\"rgb(36,36,36)\",\"ticks\":\"outside\"},\"colorscale\":[[0.0,\"#440154\"],[0.1111111111111111,\"#482878\"],[0.2222222222222222,\"#3e4989\"],[0.3333333333333333,\"#31688e\"],[0.4444444444444444,\"#26828e\"],[0.5555555555555556,\"#1f9e89\"],[0.6666666666666666,\"#35b779\"],[0.7777777777777778,\"#6ece58\"],[0.8888888888888888,\"#b5de2b\"],[1.0,\"#fde725\"]],\"type\":\"heatmapgl\"}],\"heatmap\":[{\"colorbar\":{\"outlinewidth\":1,\"tickcolor\":\"rgb(36,36,36)\",\"ticks\":\"outside\"},\"colorscale\":[[0.0,\"#440154\"],[0.1111111111111111,\"#482878\"],[0.2222222222222222,\"#3e4989\"],[0.3333333333333333,\"#31688e\"],[0.4444444444444444,\"#26828e\"],[0.5555555555555556,\"#1f9e89\"],[0.6666666666666666,\"#35b779\"],[0.7777777777777778,\"#6ece58\"],[0.8888888888888888,\"#b5de2b\"],[1.0,\"#fde725\"]],\"type\":\"heatmap\"}],\"histogram2dcontour\":[{\"colorbar\":{\"outlinewidth\":1,\"tickcolor\":\"rgb(36,36,36)\",\"ticks\":\"outside\"},\"colorscale\":[[0.0,\"#440154\"],[0.1111111111111111,\"#482878\"],[0.2222222222222222,\"#3e4989\"],[0.3333333333333333,\"#31688e\"],[0.4444444444444444,\"#26828e\"],[0.5555555555555556,\"#1f9e89\"],[0.6666666666666666,\"#35b779\"],[0.7777777777777778,\"#6ece58\"],[0.8888888888888888,\"#b5de2b\"],[1.0,\"#fde725\"]],\"type\":\"histogram2dcontour\"}],\"histogram2d\":[{\"colorbar\":{\"outlinewidth\":1,\"tickcolor\":\"rgb(36,36,36)\",\"ticks\":\"outside\"},\"colorscale\":[[0.0,\"#440154\"],[0.1111111111111111,\"#482878\"],[0.2222222222222222,\"#3e4989\"],[0.3333333333333333,\"#31688e\"],[0.4444444444444444,\"#26828e\"],[0.5555555555555556,\"#1f9e89\"],[0.6666666666666666,\"#35b779\"],[0.7777777777777778,\"#6ece58\"],[0.8888888888888888,\"#b5de2b\"],[1.0,\"#fde725\"]],\"type\":\"histogram2d\"}],\"histogram\":[{\"marker\":{\"line\":{\"color\":\"white\",\"width\":0.6}},\"type\":\"histogram\"}],\"mesh3d\":[{\"colorbar\":{\"outlinewidth\":1,\"tickcolor\":\"rgb(36,36,36)\",\"ticks\":\"outside\"},\"type\":\"mesh3d\"}],\"parcoords\":[{\"line\":{\"colorbar\":{\"outlinewidth\":1,\"tickcolor\":\"rgb(36,36,36)\",\"ticks\":\"outside\"}},\"type\":\"parcoords\"}],\"pie\":[{\"automargin\":true,\"type\":\"pie\"}],\"scatter3d\":[{\"line\":{\"colorbar\":{\"outlinewidth\":1,\"tickcolor\":\"rgb(36,36,36)\",\"ticks\":\"outside\"}},\"marker\":{\"colorbar\":{\"outlinewidth\":1,\"tickcolor\":\"rgb(36,36,36)\",\"ticks\":\"outside\"}},\"type\":\"scatter3d\"}],\"scattercarpet\":[{\"marker\":{\"colorbar\":{\"outlinewidth\":1,\"tickcolor\":\"rgb(36,36,36)\",\"ticks\":\"outside\"}},\"type\":\"scattercarpet\"}],\"scattergeo\":[{\"marker\":{\"colorbar\":{\"outlinewidth\":1,\"tickcolor\":\"rgb(36,36,36)\",\"ticks\":\"outside\"}},\"type\":\"scattergeo\"}],\"scattergl\":[{\"marker\":{\"colorbar\":{\"outlinewidth\":1,\"tickcolor\":\"rgb(36,36,36)\",\"ticks\":\"outside\"}},\"type\":\"scattergl\"}],\"scattermapbox\":[{\"marker\":{\"colorbar\":{\"outlinewidth\":1,\"tickcolor\":\"rgb(36,36,36)\",\"ticks\":\"outside\"}},\"type\":\"scattermapbox\"}],\"scatterpolargl\":[{\"marker\":{\"colorbar\":{\"outlinewidth\":1,\"tickcolor\":\"rgb(36,36,36)\",\"ticks\":\"outside\"}},\"type\":\"scatterpolargl\"}],\"scatterpolar\":[{\"marker\":{\"colorbar\":{\"outlinewidth\":1,\"tickcolor\":\"rgb(36,36,36)\",\"ticks\":\"outside\"}},\"type\":\"scatterpolar\"}],\"scatter\":[{\"marker\":{\"colorbar\":{\"outlinewidth\":1,\"tickcolor\":\"rgb(36,36,36)\",\"ticks\":\"outside\"}},\"type\":\"scatter\"}],\"scatterternary\":[{\"marker\":{\"colorbar\":{\"outlinewidth\":1,\"tickcolor\":\"rgb(36,36,36)\",\"ticks\":\"outside\"}},\"type\":\"scatterternary\"}],\"surface\":[{\"colorbar\":{\"outlinewidth\":1,\"tickcolor\":\"rgb(36,36,36)\",\"ticks\":\"outside\"},\"colorscale\":[[0.0,\"#440154\"],[0.1111111111111111,\"#482878\"],[0.2222222222222222,\"#3e4989\"],[0.3333333333333333,\"#31688e\"],[0.4444444444444444,\"#26828e\"],[0.5555555555555556,\"#1f9e89\"],[0.6666666666666666,\"#35b779\"],[0.7777777777777778,\"#6ece58\"],[0.8888888888888888,\"#b5de2b\"],[1.0,\"#fde725\"]],\"type\":\"surface\"}],\"table\":[{\"cells\":{\"fill\":{\"color\":\"rgb(237,237,237)\"},\"line\":{\"color\":\"white\"}},\"header\":{\"fill\":{\"color\":\"rgb(217,217,217)\"},\"line\":{\"color\":\"white\"}},\"type\":\"table\"}]},\"layout\":{\"annotationdefaults\":{\"arrowhead\":0,\"arrowwidth\":1},\"autotypenumbers\":\"strict\",\"coloraxis\":{\"colorbar\":{\"outlinewidth\":1,\"tickcolor\":\"rgb(36,36,36)\",\"ticks\":\"outside\"}},\"colorscale\":{\"diverging\":[[0.0,\"rgb(103,0,31)\"],[0.1,\"rgb(178,24,43)\"],[0.2,\"rgb(214,96,77)\"],[0.3,\"rgb(244,165,130)\"],[0.4,\"rgb(253,219,199)\"],[0.5,\"rgb(247,247,247)\"],[0.6,\"rgb(209,229,240)\"],[0.7,\"rgb(146,197,222)\"],[0.8,\"rgb(67,147,195)\"],[0.9,\"rgb(33,102,172)\"],[1.0,\"rgb(5,48,97)\"]],\"sequential\":[[0.0,\"#440154\"],[0.1111111111111111,\"#482878\"],[0.2222222222222222,\"#3e4989\"],[0.3333333333333333,\"#31688e\"],[0.4444444444444444,\"#26828e\"],[0.5555555555555556,\"#1f9e89\"],[0.6666666666666666,\"#35b779\"],[0.7777777777777778,\"#6ece58\"],[0.8888888888888888,\"#b5de2b\"],[1.0,\"#fde725\"]],\"sequentialminus\":[[0.0,\"#440154\"],[0.1111111111111111,\"#482878\"],[0.2222222222222222,\"#3e4989\"],[0.3333333333333333,\"#31688e\"],[0.4444444444444444,\"#26828e\"],[0.5555555555555556,\"#1f9e89\"],[0.6666666666666666,\"#35b779\"],[0.7777777777777778,\"#6ece58\"],[0.8888888888888888,\"#b5de2b\"],[1.0,\"#fde725\"]]},\"colorway\":[\"#1F77B4\",\"#FF7F0E\",\"#2CA02C\",\"#D62728\",\"#9467BD\",\"#8C564B\",\"#E377C2\",\"#7F7F7F\",\"#BCBD22\",\"#17BECF\"],\"font\":{\"color\":\"rgb(36,36,36)\"},\"geo\":{\"bgcolor\":\"white\",\"lakecolor\":\"white\",\"landcolor\":\"white\",\"showlakes\":true,\"showland\":true,\"subunitcolor\":\"white\"},\"hoverlabel\":{\"align\":\"left\"},\"hovermode\":\"closest\",\"mapbox\":{\"style\":\"light\"},\"paper_bgcolor\":\"white\",\"plot_bgcolor\":\"white\",\"polar\":{\"angularaxis\":{\"gridcolor\":\"rgb(232,232,232)\",\"linecolor\":\"rgb(36,36,36)\",\"showgrid\":false,\"showline\":true,\"ticks\":\"outside\"},\"bgcolor\":\"white\",\"radialaxis\":{\"gridcolor\":\"rgb(232,232,232)\",\"linecolor\":\"rgb(36,36,36)\",\"showgrid\":false,\"showline\":true,\"ticks\":\"outside\"}},\"scene\":{\"xaxis\":{\"backgroundcolor\":\"white\",\"gridcolor\":\"rgb(232,232,232)\",\"gridwidth\":2,\"linecolor\":\"rgb(36,36,36)\",\"showbackground\":true,\"showgrid\":false,\"showline\":true,\"ticks\":\"outside\",\"zeroline\":false,\"zerolinecolor\":\"rgb(36,36,36)\"},\"yaxis\":{\"backgroundcolor\":\"white\",\"gridcolor\":\"rgb(232,232,232)\",\"gridwidth\":2,\"linecolor\":\"rgb(36,36,36)\",\"showbackground\":true,\"showgrid\":false,\"showline\":true,\"ticks\":\"outside\",\"zeroline\":false,\"zerolinecolor\":\"rgb(36,36,36)\"},\"zaxis\":{\"backgroundcolor\":\"white\",\"gridcolor\":\"rgb(232,232,232)\",\"gridwidth\":2,\"linecolor\":\"rgb(36,36,36)\",\"showbackground\":true,\"showgrid\":false,\"showline\":true,\"ticks\":\"outside\",\"zeroline\":false,\"zerolinecolor\":\"rgb(36,36,36)\"}},\"shapedefaults\":{\"fillcolor\":\"black\",\"line\":{\"width\":0},\"opacity\":0.3},\"ternary\":{\"aaxis\":{\"gridcolor\":\"rgb(232,232,232)\",\"linecolor\":\"rgb(36,36,36)\",\"showgrid\":false,\"showline\":true,\"ticks\":\"outside\"},\"baxis\":{\"gridcolor\":\"rgb(232,232,232)\",\"linecolor\":\"rgb(36,36,36)\",\"showgrid\":false,\"showline\":true,\"ticks\":\"outside\"},\"bgcolor\":\"white\",\"caxis\":{\"gridcolor\":\"rgb(232,232,232)\",\"linecolor\":\"rgb(36,36,36)\",\"showgrid\":false,\"showline\":true,\"ticks\":\"outside\"}},\"title\":{\"x\":0.05},\"xaxis\":{\"automargin\":true,\"gridcolor\":\"rgb(232,232,232)\",\"linecolor\":\"rgb(36,36,36)\",\"showgrid\":false,\"showline\":true,\"ticks\":\"outside\",\"title\":{\"standoff\":15},\"zeroline\":false,\"zerolinecolor\":\"rgb(36,36,36)\"},\"yaxis\":{\"automargin\":true,\"gridcolor\":\"rgb(232,232,232)\",\"linecolor\":\"rgb(36,36,36)\",\"showgrid\":false,\"showline\":true,\"ticks\":\"outside\",\"title\":{\"standoff\":15},\"zeroline\":false,\"zerolinecolor\":\"rgb(36,36,36)\"}}},\"xaxis\":{\"anchor\":\"y\",\"domain\":[0.0,1.0]},\"yaxis\":{\"anchor\":\"x\",\"domain\":[0.0,1.0],\"title\":{\"text\":\"Market_cap\"}},\"legend\":{\"tracegroupgap\":0},\"title\":{\"text\":\"Distribution of Market Capitalisation of the JSE\"},\"boxmode\":\"group\",\"height\":500,\"width\":700},                        {\"responsive\": true}                    ).then(function(){\n",
       "                            \n",
       "var gd = document.getElementById('8707905c-0126-4db7-ace0-eb84b5c85197');\n",
       "var x = new MutationObserver(function (mutations, observer) {{\n",
       "        var display = window.getComputedStyle(gd).display;\n",
       "        if (!display || display === 'none') {{\n",
       "            console.log([gd, 'removed!']);\n",
       "            Plotly.purge(gd);\n",
       "            observer.disconnect();\n",
       "        }}\n",
       "}});\n",
       "\n",
       "// Listen for the removal of the full notebook cells\n",
       "var notebookContainer = gd.closest('#notebook-container');\n",
       "if (notebookContainer) {{\n",
       "    x.observe(notebookContainer, {childList: true});\n",
       "}}\n",
       "\n",
       "// Listen for the clearing of the current output cell\n",
       "var outputEl = gd.closest('.output');\n",
       "if (outputEl) {{\n",
       "    x.observe(outputEl, {childList: true});\n",
       "}}\n",
       "\n",
       "                        })                };                });            </script>        </div>"
      ]
     },
     "metadata": {},
     "output_type": "display_data"
    }
   ],
   "source": [
    "fig = px.box(df,\n",
    "             y = \"Market_cap\",\n",
    "             points = \"outliers\",\n",
    "             title = \"Distribution of Market Capitalisation on the JSE\",\n",
    "             hover_name='Name',\n",
    "             template='simple_white', \n",
    "             height = 500,\n",
    "             width = 700)\n",
    "\n",
    "fig.show();"
   ]
  },
  {
   "cell_type": "markdown",
   "id": "9526cd57-fdc9-44db-887e-8dbe554049d9",
   "metadata": {},
   "source": [
    "Our boxplot is not clearly visible because of outliers which skew the distribution. Let's come up with a list of the outliers. We'll need to calculate lower and upper boundaries. In order to do that we need values for the quartiles Q1 and Q3. We can use the describe method."
   ]
  },
  {
   "cell_type": "code",
   "execution_count": 92,
   "id": "4349de3f-4982-4183-9031-09774fdde816",
   "metadata": {},
   "outputs": [
    {
     "data": {
      "text/plain": [
       "count    3.280000e+02\n",
       "mean     5.553848e+10\n",
       "std      2.340116e+11\n",
       "min      2.189840e+06\n",
       "25%      7.029253e+08\n",
       "50%      3.314154e+09\n",
       "75%      2.113671e+10\n",
       "max      2.634597e+12\n",
       "Name: Market_cap, dtype: float64"
      ]
     },
     "execution_count": 92,
     "metadata": {},
     "output_type": "execute_result"
    }
   ],
   "source": [
    "stats = df['Market_cap'].describe()\n",
    "\n",
    "stats"
   ]
  },
  {
   "cell_type": "code",
   "execution_count": 93,
   "id": "a4a3f93b-5272-419e-919d-2ab2ca6da5f9",
   "metadata": {},
   "outputs": [],
   "source": [
    "# Get values for the first quartile Q1 and third quartile Q3\n",
    "Q1 = stats.loc['25%']\n",
    "Q3 = stats.loc['75%']\n",
    "# Calulate interquartile range IQR \n",
    "IQR = Q3 - Q1\n",
    "# Calculate outlier boundaries\n",
    "lower_bound = Q1 - (1.5 * IQR)\n",
    "upper_bound = Q3 + (1.5 * IQR)"
   ]
  },
  {
   "cell_type": "markdown",
   "id": "eea24e10-1741-481c-a8a8-a81a42c00548",
   "metadata": {},
   "source": [
    "Outliers will be any value that falls outside of the boundaries, either below the lower boundary or above the upper boundaries. Lets get a list of companies which fall into this category."
   ]
  },
  {
   "cell_type": "code",
   "execution_count": 101,
   "id": "ca976010-98fc-4f0a-8d25-dc96be149a6d",
   "metadata": {},
   "outputs": [
    {
     "name": "stdout",
     "output_type": "stream",
     "text": [
      "Number of outliers: 44\n"
     ]
    },
    {
     "data": {
      "text/html": [
       "<div>\n",
       "<style scoped>\n",
       "    .dataframe tbody tr th:only-of-type {\n",
       "        vertical-align: middle;\n",
       "    }\n",
       "\n",
       "    .dataframe tbody tr th {\n",
       "        vertical-align: top;\n",
       "    }\n",
       "\n",
       "    .dataframe thead th {\n",
       "        text-align: right;\n",
       "    }\n",
       "</style>\n",
       "<table border=\"1\" class=\"dataframe\">\n",
       "  <thead>\n",
       "    <tr style=\"text-align: right;\">\n",
       "      <th></th>\n",
       "      <th>Ticker</th>\n",
       "      <th>Name</th>\n",
       "      <th>Market_cap</th>\n",
       "    </tr>\n",
       "  </thead>\n",
       "  <tbody>\n",
       "    <tr>\n",
       "      <th>235</th>\n",
       "      <td>PRX.JO</td>\n",
       "      <td>Prosus N.V.</td>\n",
       "      <td>2.634597e+12</td>\n",
       "    </tr>\n",
       "    <tr>\n",
       "      <th>28</th>\n",
       "      <td>ANH.JO</td>\n",
       "      <td>Anheuser-Busch InBev SA NV</td>\n",
       "      <td>1.811219e+12</td>\n",
       "    </tr>\n",
       "    <tr>\n",
       "      <th>58</th>\n",
       "      <td>BTI.JO</td>\n",
       "      <td>British American Tob plc</td>\n",
       "      <td>1.512820e+12</td>\n",
       "    </tr>\n",
       "    <tr>\n",
       "      <th>67</th>\n",
       "      <td>CFR.JO</td>\n",
       "      <td>Compagnie Fin Richemont</td>\n",
       "      <td>1.286508e+12</td>\n",
       "    </tr>\n",
       "    <tr>\n",
       "      <th>122</th>\n",
       "      <td>GLN.JO</td>\n",
       "      <td>Glencore plc</td>\n",
       "      <td>1.151986e+12</td>\n",
       "    </tr>\n",
       "    <tr>\n",
       "      <th>52</th>\n",
       "      <td>BHP.JO</td>\n",
       "      <td>BHP Group Plc</td>\n",
       "      <td>1.062519e+12</td>\n",
       "    </tr>\n",
       "    <tr>\n",
       "      <th>18</th>\n",
       "      <td>AGL.JO</td>\n",
       "      <td>Anglo American plc</td>\n",
       "      <td>9.503176e+11</td>\n",
       "    </tr>\n",
       "    <tr>\n",
       "      <th>206</th>\n",
       "      <td>NPN.JO</td>\n",
       "      <td>Naspers Ltd -N-</td>\n",
       "      <td>5.422664e+11</td>\n",
       "    </tr>\n",
       "    <tr>\n",
       "      <th>26</th>\n",
       "      <td>AMS.JO</td>\n",
       "      <td>Anglo American Plat Ltd</td>\n",
       "      <td>4.560426e+11</td>\n",
       "    </tr>\n",
       "    <tr>\n",
       "      <th>117</th>\n",
       "      <td>FSR.JO</td>\n",
       "      <td>Firstrand Ltd</td>\n",
       "      <td>3.612738e+11</td>\n",
       "    </tr>\n",
       "    <tr>\n",
       "      <th>196</th>\n",
       "      <td>MTN.JO</td>\n",
       "      <td>MTN Group Ltd</td>\n",
       "      <td>2.941349e+11</td>\n",
       "    </tr>\n",
       "    <tr>\n",
       "      <th>100</th>\n",
       "      <td>EMH.JO</td>\n",
       "      <td>E Media Holdings Ltd</td>\n",
       "      <td>2.706188e+11</td>\n",
       "    </tr>\n",
       "    <tr>\n",
       "      <th>80</th>\n",
       "      <td>CPI.JO</td>\n",
       "      <td>Capitec Bank Hldgs Ltd</td>\n",
       "      <td>2.431636e+11</td>\n",
       "    </tr>\n",
       "    <tr>\n",
       "      <th>264</th>\n",
       "      <td>SBK.JO</td>\n",
       "      <td>Standard Bank Group Ltd</td>\n",
       "      <td>2.304900e+11</td>\n",
       "    </tr>\n",
       "    <tr>\n",
       "      <th>317</th>\n",
       "      <td>VOD.JO</td>\n",
       "      <td>Vodacom Group Ltd</td>\n",
       "      <td>2.289541e+11</td>\n",
       "    </tr>\n",
       "    <tr>\n",
       "      <th>261</th>\n",
       "      <td>S32.JO</td>\n",
       "      <td>South32 Limited</td>\n",
       "      <td>2.175237e+11</td>\n",
       "    </tr>\n",
       "    <tr>\n",
       "      <th>279</th>\n",
       "      <td>SOL.JO</td>\n",
       "      <td>Sasol Limited</td>\n",
       "      <td>1.947331e+11</td>\n",
       "    </tr>\n",
       "    <tr>\n",
       "      <th>186</th>\n",
       "      <td>MNP.JO</td>\n",
       "      <td>Mondi plc</td>\n",
       "      <td>1.876035e+11</td>\n",
       "    </tr>\n",
       "    <tr>\n",
       "      <th>143</th>\n",
       "      <td>IMP.JO</td>\n",
       "      <td>Impala Platinum Hlgs Ltd</td>\n",
       "      <td>1.765899e+11</td>\n",
       "    </tr>\n",
       "    <tr>\n",
       "      <th>162</th>\n",
       "      <td>KIO.JO</td>\n",
       "      <td>Kumba Iron Ore Ltd</td>\n",
       "      <td>1.599135e+11</td>\n",
       "    </tr>\n",
       "    <tr>\n",
       "      <th>287</th>\n",
       "      <td>SSW.JO</td>\n",
       "      <td>Sibanye Stillwater Ltd</td>\n",
       "      <td>1.559607e+11</td>\n",
       "    </tr>\n",
       "    <tr>\n",
       "      <th>120</th>\n",
       "      <td>GFI.JO</td>\n",
       "      <td>Gold Fields Ltd</td>\n",
       "      <td>1.392828e+11</td>\n",
       "    </tr>\n",
       "    <tr>\n",
       "      <th>1</th>\n",
       "      <td>ABG.JO</td>\n",
       "      <td>Absa Group Limited</td>\n",
       "      <td>1.339503e+11</td>\n",
       "    </tr>\n",
       "    <tr>\n",
       "      <th>274</th>\n",
       "      <td>SLM.JO</td>\n",
       "      <td>Sanlam Limited</td>\n",
       "      <td>1.277555e+11</td>\n",
       "    </tr>\n",
       "    <tr>\n",
       "      <th>27</th>\n",
       "      <td>ANG.JO</td>\n",
       "      <td>Anglogold Ashanti Ltd</td>\n",
       "      <td>1.234799e+11</td>\n",
       "    </tr>\n",
       "    <tr>\n",
       "      <th>273</th>\n",
       "      <td>SHP.JO</td>\n",
       "      <td>Shoprite Holdings Ltd</td>\n",
       "      <td>1.134295e+11</td>\n",
       "    </tr>\n",
       "    <tr>\n",
       "      <th>53</th>\n",
       "      <td>BID.JO</td>\n",
       "      <td>BID Corporation Ltd</td>\n",
       "      <td>1.109240e+11</td>\n",
       "    </tr>\n",
       "    <tr>\n",
       "      <th>34</th>\n",
       "      <td>APN.JO</td>\n",
       "      <td>Aspen Pharmacare Hldgs Ltd</td>\n",
       "      <td>9.896652e+10</td>\n",
       "    </tr>\n",
       "    <tr>\n",
       "      <th>96</th>\n",
       "      <td>DSY.JO</td>\n",
       "      <td>Discovery Ltd</td>\n",
       "      <td>9.449439e+10</td>\n",
       "    </tr>\n",
       "    <tr>\n",
       "      <th>201</th>\n",
       "      <td>NED.JO</td>\n",
       "      <td>Nedbank Group Ltd</td>\n",
       "      <td>8.857094e+10</td>\n",
       "    </tr>\n",
       "    <tr>\n",
       "      <th>233</th>\n",
       "      <td>PPH.JO</td>\n",
       "      <td>Pepkor Holdings Ltd</td>\n",
       "      <td>8.665768e+10</td>\n",
       "    </tr>\n",
       "    <tr>\n",
       "      <th>74</th>\n",
       "      <td>CLS.JO</td>\n",
       "      <td>Clicks Group Ltd</td>\n",
       "      <td>7.554315e+10</td>\n",
       "    </tr>\n",
       "    <tr>\n",
       "      <th>203</th>\n",
       "      <td>NPH.JO</td>\n",
       "      <td>Northam Platinum Hldgs Ltd</td>\n",
       "      <td>7.457665e+10</td>\n",
       "    </tr>\n",
       "    <tr>\n",
       "      <th>254</th>\n",
       "      <td>RMI.JO</td>\n",
       "      <td>Rand Merchant Inv Hldgs Ltd</td>\n",
       "      <td>6.975046e+10</td>\n",
       "    </tr>\n",
       "    <tr>\n",
       "      <th>248</th>\n",
       "      <td>REM.JO</td>\n",
       "      <td>Remgro Ltd</td>\n",
       "      <td>6.974018e+10</td>\n",
       "    </tr>\n",
       "    <tr>\n",
       "      <th>223</th>\n",
       "      <td>OMU.JO</td>\n",
       "      <td>Old Mutual Limited</td>\n",
       "      <td>6.630272e+10</td>\n",
       "    </tr>\n",
       "    <tr>\n",
       "      <th>60</th>\n",
       "      <td>BVT.JO</td>\n",
       "      <td>Bidvest Ltd</td>\n",
       "      <td>6.585330e+10</td>\n",
       "    </tr>\n",
       "    <tr>\n",
       "      <th>208</th>\n",
       "      <td>NRP.JO</td>\n",
       "      <td>NEPI Rockcastle Plc</td>\n",
       "      <td>6.504067e+10</td>\n",
       "    </tr>\n",
       "    <tr>\n",
       "      <th>112</th>\n",
       "      <td>EXX.JO</td>\n",
       "      <td>Exxaro Resources Ltd</td>\n",
       "      <td>6.164960e+10</td>\n",
       "    </tr>\n",
       "    <tr>\n",
       "      <th>146</th>\n",
       "      <td>INP.JO</td>\n",
       "      <td>Investec plc</td>\n",
       "      <td>6.115089e+10</td>\n",
       "    </tr>\n",
       "    <tr>\n",
       "      <th>256</th>\n",
       "      <td>RNI.JO</td>\n",
       "      <td>Reinet Investments S.C.A</td>\n",
       "      <td>5.686483e+10</td>\n",
       "    </tr>\n",
       "    <tr>\n",
       "      <th>239</th>\n",
       "      <td>QLT.JO</td>\n",
       "      <td>Quilter Plc</td>\n",
       "      <td>5.333622e+10</td>\n",
       "    </tr>\n",
       "    <tr>\n",
       "      <th>189</th>\n",
       "      <td>MRP.JO</td>\n",
       "      <td>Mr Price Group Ltd</td>\n",
       "      <td>5.285526e+10</td>\n",
       "    </tr>\n",
       "    <tr>\n",
       "      <th>322</th>\n",
       "      <td>WHL.JO</td>\n",
       "      <td>Woolworths Holdings Ltd</td>\n",
       "      <td>5.231002e+10</td>\n",
       "    </tr>\n",
       "  </tbody>\n",
       "</table>\n",
       "</div>"
      ],
      "text/plain": [
       "     Ticker                         Name    Market_cap\n",
       "235  PRX.JO                  Prosus N.V.  2.634597e+12\n",
       "28   ANH.JO   Anheuser-Busch InBev SA NV  1.811219e+12\n",
       "58   BTI.JO     British American Tob plc  1.512820e+12\n",
       "67   CFR.JO      Compagnie Fin Richemont  1.286508e+12\n",
       "122  GLN.JO                 Glencore plc  1.151986e+12\n",
       "52   BHP.JO                BHP Group Plc  1.062519e+12\n",
       "18   AGL.JO           Anglo American plc  9.503176e+11\n",
       "206  NPN.JO              Naspers Ltd -N-  5.422664e+11\n",
       "26   AMS.JO      Anglo American Plat Ltd  4.560426e+11\n",
       "117  FSR.JO                Firstrand Ltd  3.612738e+11\n",
       "196  MTN.JO                MTN Group Ltd  2.941349e+11\n",
       "100  EMH.JO         E Media Holdings Ltd  2.706188e+11\n",
       "80   CPI.JO       Capitec Bank Hldgs Ltd  2.431636e+11\n",
       "264  SBK.JO      Standard Bank Group Ltd  2.304900e+11\n",
       "317  VOD.JO            Vodacom Group Ltd  2.289541e+11\n",
       "261  S32.JO              South32 Limited  2.175237e+11\n",
       "279  SOL.JO                Sasol Limited  1.947331e+11\n",
       "186  MNP.JO                    Mondi plc  1.876035e+11\n",
       "143  IMP.JO     Impala Platinum Hlgs Ltd  1.765899e+11\n",
       "162  KIO.JO           Kumba Iron Ore Ltd  1.599135e+11\n",
       "287  SSW.JO       Sibanye Stillwater Ltd  1.559607e+11\n",
       "120  GFI.JO              Gold Fields Ltd  1.392828e+11\n",
       "1    ABG.JO           Absa Group Limited  1.339503e+11\n",
       "274  SLM.JO               Sanlam Limited  1.277555e+11\n",
       "27   ANG.JO        Anglogold Ashanti Ltd  1.234799e+11\n",
       "273  SHP.JO        Shoprite Holdings Ltd  1.134295e+11\n",
       "53   BID.JO          BID Corporation Ltd  1.109240e+11\n",
       "34   APN.JO   Aspen Pharmacare Hldgs Ltd  9.896652e+10\n",
       "96   DSY.JO                Discovery Ltd  9.449439e+10\n",
       "201  NED.JO            Nedbank Group Ltd  8.857094e+10\n",
       "233  PPH.JO          Pepkor Holdings Ltd  8.665768e+10\n",
       "74   CLS.JO             Clicks Group Ltd  7.554315e+10\n",
       "203  NPH.JO   Northam Platinum Hldgs Ltd  7.457665e+10\n",
       "254  RMI.JO  Rand Merchant Inv Hldgs Ltd  6.975046e+10\n",
       "248  REM.JO                   Remgro Ltd  6.974018e+10\n",
       "223  OMU.JO           Old Mutual Limited  6.630272e+10\n",
       "60   BVT.JO                  Bidvest Ltd  6.585330e+10\n",
       "208  NRP.JO          NEPI Rockcastle Plc  6.504067e+10\n",
       "112  EXX.JO         Exxaro Resources Ltd  6.164960e+10\n",
       "146  INP.JO                 Investec plc  6.115089e+10\n",
       "256  RNI.JO     Reinet Investments S.C.A  5.686483e+10\n",
       "239  QLT.JO                  Quilter Plc  5.333622e+10\n",
       "189  MRP.JO           Mr Price Group Ltd  5.285526e+10\n",
       "322  WHL.JO      Woolworths Holdings Ltd  5.231002e+10"
      ]
     },
     "execution_count": 101,
     "metadata": {},
     "output_type": "execute_result"
    }
   ],
   "source": [
    "df_market_outlier = df[(df.Market_cap < lower_bound) | (df.Market_cap > upper_bound)]\n",
    "# Print number of companies\n",
    "print(f\"Number of outliers: {df_market_outlier.shape[0]}\")\n",
    "# View outliers in order from largest market cap to least.\n",
    "df_market_outlier[['Ticker', 'Name', 'Market_cap']].sort_values(by='Market_cap', ascending=False)"
   ]
  },
  {
   "cell_type": "markdown",
   "id": "5d136e74-599a-4e5c-91fe-3fe9caa55918",
   "metadata": {},
   "source": [
    "We'll call this list of outliers, large-cap stocks. Let's get a list of small to medium cap stocks."
   ]
  },
  {
   "cell_type": "code",
   "execution_count": 107,
   "id": "76cca79f-7301-49f4-ac70-181b725e9b36",
   "metadata": {},
   "outputs": [
    {
     "name": "stdout",
     "output_type": "stream",
     "text": [
      "Number of small to mid cap stocks: 284\n"
     ]
    },
    {
     "data": {
      "text/plain": [
       "['4SI.JO',\n",
       " 'ABSP.JO',\n",
       " 'ACL.JO',\n",
       " 'ACS.JO',\n",
       " 'ACT.JO',\n",
       " 'ACZ.JO',\n",
       " 'ADH.JO',\n",
       " 'ADI.JO',\n",
       " 'ADR.JO',\n",
       " 'ADW.JO']"
      ]
     },
     "execution_count": 107,
     "metadata": {},
     "output_type": "execute_result"
    }
   ],
   "source": [
    "# Get list of all tickers\n",
    "tickers = df.Ticker.tolist()\n",
    "# Get tickers for list of large-cap stocks\n",
    "large_caps = df_market_outlier.Ticker.tolist()\n",
    "# List of small to mid cap tickers\n",
    "small_to_mid_caps = [ticker for ticker in tickers if ticker not in large_caps]\n",
    "# View result\n",
    "print(f\"Number of small to mid cap stocks: {len(small_to_mid_caps)}\")\n",
    "small_to_mid_caps[0:10]"
   ]
  },
  {
   "cell_type": "markdown",
   "id": "2a2d1662-0289-4d0c-9324-c86e97f41245",
   "metadata": {},
   "source": [
    "Now, let's plot the distribution again but excluding large-cap stocks to see what the distribution looks like."
   ]
  },
  {
   "cell_type": "code",
   "execution_count": 108,
   "id": "49efdc8e-885a-4896-acb9-382123702a21",
   "metadata": {},
   "outputs": [
    {
     "data": {
      "application/vnd.plotly.v1+json": {
       "config": {
        "plotlyServerURL": "https://plot.ly"
       },
       "data": [
        {
         "alignmentgroup": "True",
         "boxpoints": "all",
         "hovertemplate": "<b>%{hovertext}</b><br><br>Market_cap=%{y}<extra></extra>",
         "hovertext": [
          "4Sight Holdings Ltd",
          "ABSA Bank Ltd Pref",
          "ArcelorMittal SA Limited",
          "Acsion Limited",
          "AfroCentric Inv Corp Ltd",
          "Arden Capital Limited",
          "ADvTECH Ltd",
          "Adapt IT Holdings Ltd",
          "Adcorp Holdings Limited",
          "African Dawn Capital Ltd",
          "African Equity Emp Inv Ltd",
          "Aveng Group Limited",
          "Altron Limited A",
          "AECI Limited",
          "AECI Limited 5,5% Pref",
          "Alexander Forbes Grp Hldgs",
          "Afrimat Limited",
          "Arrowhead Prop Ltd A",
          "Arrowhead Prop Ltd B",
          "AH-Vest Limited",
          "African Rainbow Cap Inv",
          "Adcock Ingram Hldgs Ltd",
          "Alaris Holdings Ltd",
          "African Media Ent Ltd",
          "Afine Investments Ltd",
          "African & Over Ent Ltd -N",
          "African & Over Ent Ltd",
          "Accelerate Prop Fund Ltd",
          "Alphamin Resources Corp",
          "Astoria Investments Ltd",
          "ARB Holdings Limited",
          "African Rainbow Min Ltd",
          "Astral Foods Ltd",
          "Argent Industrial Ltd",
          "Ascendis Health Ltd",
          "Afristrat Inv Hldgs Ltd",
          "Attacq Limited",
          "AVI Ltd",
          "Advanced Health Ltd",
          "Alviva Holdings Ltd",
          "Ayo Tech Solutions Ltd",
          "Brait PLC",
          "Bauba Resources Limited",
          "Barloworld Ltd",
          "Bowler Metcalf Ltd",
          "Bell Equipment Ltd",
          "Brikor Ltd",
          "Blue Label Telecoms Ltd",
          "Brimstone Inv Corp Ltd-N",
          "Brimstone Inv Corp Ltd",
          "Buffalo Coal Corp",
          "Balwin Properties Ltd",
          "Bytes Technology Group",
          "Cafca Limited",
          "Caxton CTP Publish Print",
          "Caxton CTP Publish 6%Pf",
          "Capital&Counties Prop plc",
          "Cognition Holdings Ltd",
          "Calgro M3 Hldgs Ltd",
          "Choppies Enterprises Ltd",
          "Crookes Brothers Ltd",
          "City Lodge Hotels Ltd",
          "Clientele Ltd",
          "Combined Motor Hldgs Ltd",
          "Coronation Fund Mngrs Ld",
          "Chrometco Ltd",
          "Conduit Capital Ltd",
          "Curro Holdings Limited",
          "Capitec Bank Hldgs Pref",
          "Capital & Regional Plc",
          "Cashbuild Ltd",
          "CSG Holdings Ltd",
          "CAPITAL APPRECIATION LTD",
          "Dis-Chem Pharmacies Ltd",
          "Distell Group Hldgs Ltd",
          "Dipula Income Fund A",
          "Dipula Income Fund B",
          "Deutsche Konsum REIT-AG",
          "Delta Property Fund Ltd",
          "Deneb Investments Ltd",
          "DRA Global Ltd",
          "DRD Gold Ltd",
          "Discovery Ltd B pref",
          "Datatec Ltd",
          "Efora Energy Limited",
          "Ellies Holdings Ltd",
          "Emira Property Fund Ltd",
          "E Media Holdings Ltd -N-",
          "enX Group LImited",
          "EOH Holdings Ltd",
          "EPE Capital Partners Ltd",
          "EPP N.V.",
          "Eastern Platinum Ltd",
          "Equites Prop Fund Ltd",
          "Etion Limited",
          "Europa Metals Limited",
          "Exemplar REITail Ltd",
          "Famous Brands Ltd",
          "Fortress REIT Ltd A",
          "Fortress REIT Ltd B",
          "Finbond Group Ltd",
          "Frontier Transport Hldg Ld",
          "Fairvest Property Hldgs",
          "Go Life International Ld",
          "Gemfields Group Limited",
          "Grindrod Ltd",
          "Grindrod Ltd Pref",
          "Grand Parade Inv Ltd",
          "Growthpoint Prop Ltd",
          "Grindrod Shipping Hldg Ltd",
          "Globe Trade Centre S.A.",
          "Harmony GM Co Ltd",
          "Hosken Cons Inv Ltd",
          "Hudaco Industries Ltd",
          "Heriot REIT Limited",
          "Homechoice Int plc",
          "Hulamin Ltd",
          "Hammerson plc",
          "Huge Group Ltd",
          "Hulisani Limited",
          "Hyprop Inv Ltd",
          "Irongate Group",
          "Imbalie Beauty Limited",
          "Indluplace Properties Ltd",
          "Investec Ltd",
          "Investec Bank Ltd Pref",
          "Investec plc Pref",
          "Investec plc Pref (Rand)",
          "Investec Property Fund Ltd",
          "Imperial Logistics Ltd",
          "ISA Holdings Limited",
          "Insimbi Ind Hldgs Ltd",
          "Italtile Ltd",
          "Invicta Holdings Ltd",
          "Invicta Hldgs Ltd pref",
          "Jubilee Metals Group plc",
          "Jasco Electron Hldgs Ltd",
          "JSE Ltd",
          "Kaap Agri Limited",
          "KAP Industrial Hldgs Ltd",
          "Kibo Energy plc",
          "Kore Potash plc",
          "Karooooo Ltd",
          "PSG Konsult Limited",
          "Liberty Two Degrees LTD",
          "Long 4 Life Limited",
          "Labat Africa Ltd",
          "Liberty Holdings Ltd",
          "Libstar Holdings Ltd",
          "Lewis Group Ltd",
          "Life Healthc Grp Hldgs Ltd",
          "London Fin Inv Group plc",
          "Lighthouse Capital Ltd",
          "Luxe Holdings Limited",
          "MultiChoice Group Ltd",
          "MC Mining Limited",
          "Master Drilling Grp Ltd",
          "Mediclinic Int plc",
          "Metrofile Holdings Ltd",
          "Mahube Infrastructure Ltd",
          "Mix Telematics Ltd",
          "Montauk Renewables Inc",
          "Industrials REIT Limited",
          "Marshall Monteagle plc",
          "Mpact Limited",
          "Merafe Resources Ltd",
          "Massmart Holdings Ltd",
          "MAS P.L.C",
          "Mustek Ltd",
          "Metair Investments Ltd",
          "Motus Holdings Ltd",
          "Momentum Met Hldgs Ltd",
          "MTN Zakhele Futhi",
          "Murray & Roberts Hldgs",
          "Ninety One Plc",
          "Nictus Ltd",
          "New Frontier Prop Ltd",
          "Nampak Ltd",
          "Nampak Ltd 6%Pref",
          "Newpark REIT Ltd",
          "Net 1 UEPS Tech Inc",
          "Netcare Limited",
          "Netcare Limited Pref",
          "Nutritional Holdings Ltd",
          "NVest Financial Hldgs Ltd",
          "Novus Holdings Limited",
          "Nu-World Hldgs Ltd",
          "Ninety One Limited",
          "Oando plc",
          "Oasis Crescent Prop Fund",
          "Oceana Group Ltd",
          "Octodec Invest Ltd",
          "Onelogix Group Ltd",
          "Omnia Holdings Ltd",
          "Orion Minerals Limited",
          "Pan African Resource plc",
          "PBT Group Limited",
          "Pembury Lifestyle Grp Lt",
          "Premier Fishing Brands Ltd",
          "Pick n Pay Stores Ltd",
          "Primeserv Group Ltd",
          "PPC Limited",
          "Purple Group Ltd",
          "Putprop Ltd",
          "PSG Group Ltd",
          "PSV Holdings Ltd",
          "Quantum Foods Hldgs Ltd",
          "RECM and Calibre Limited",
          "Raven Property Group Ltd",
          "Royal Bafokeng Platinum Ltd",
          "Raubex Group Ltd",
          "RCL Foods Limited",
          "Redefine Properties Ltd",
          "Rebosis Property Fund Ltd A",
          "Rebosis Property Fund Ltd",
          "Renergen Limited",
          "RFG Holdings Limited",
          "RH Bophelo Limited",
          "Reunert Ltd",
          "RMB Holdings Ltd",
          "Randgold & Expl Co Ltd",
          "Resource Generation Ltd",
          "Rex Trueform Group -N-",
          "Rex Trueform Group Ltd",
          "Rex Trueform Grp 6%Pref",
          "Sappi Ltd",
          "Safari Investments RSA Ltd",
          "Sabvest Capital Limited",
          "Schroder Eur REIT plc",
          "Stadio Holdings Limited",
          "Sebata Holdings Ltd",
          "Sephaku Holdings Ltd",
          "Sasfin Holdings Ltd",
          "Steinhoff Inv Hldgs Pref",
          "Sea Harvest Group Ltd",
          "Steinhoff Int Hldgs N.V.",
          "Santam Limited",
          "Santova Logistics Ltd",
          "South Ocean Holdings Ltd",
          "BEE - Sasol Limited",
          "Spanjaard Limited",
          "Super Group Ltd",
          "The Spar Group Ltd",
          "Sirius Real Estate Ltd",
          "Stefanutti Stck Hldgs Ltd",
          "Stor-Age Prop REIT Ltd",
          "Sun International Ltd",
          "Spur Corporation Ltd",
          "Silverbridge Holdings",
          "Sygnia Limited",
          "SAB Zenzele Kabili",
          "Tiger Brands Ltd",
          "Transaction Capital Ltd",
          "Tradehold Ltd",
          "The Foschini Group Limited",
          "Foschini Ltd 6,5%Pref",
          "Thungela Resources Ltd",
          "Tsogo Sun Hotels LTD",
          "Tharisa plc",
          "Telkom SA SOC Ltd",
          "Telemaster Holdings Ltd",
          "Trematon Capital Inv Ltd",
          "Tongaat Hulett Ltd",
          "Transpaco Ltd",
          "Transcend Res Prop Fd Ld",
          "Trencor Ltd",
          "Trellidor Hldgs Ltd",
          "Truworths Int Ltd",
          "Tsogo Sun Gaming Ltd",
          "Trustco Group Hldgs Ltd",
          "Tower Property Fund Ltd",
          "Textainer Group Hldgs Ltd",
          "Universal Partners Ltd",
          "Visual International Hldgs Ltd",
          "Vukile Property Fund Ltd",
          "Vunani Ltd",
          "Vivo Energy plc",
          "Wilson Bayly Hlm-Ovc Ltd",
          "Wesizwe Platinum Ltd",
          "Workforce Holdings Ltd",
          "Wescoal Holdings Ltd",
          "York Timber Holdings Ltd",
          "YeboYethu (RF) Ltd",
          "Zeder Inv Ltd"
         ],
         "legendgroup": "",
         "marker": {
          "color": "#1F77B4"
         },
         "name": "",
         "notched": false,
         "offsetgroup": "",
         "orientation": "v",
         "showlegend": false,
         "type": "box",
         "x0": " ",
         "xaxis": "x",
         "y": [
          158167674.88,
          3631238021.12,
          10588795699.2,
          1647767879.68,
          2917781340.16,
          2189840,
          9619250216.96,
          967697121.28,
          575664005.12,
          20367008,
          540124200.96,
          3364397056,
          3177200025.6,
          12912922460.16,
          106856232.96,
          5778469027.84,
          8410679869.44,
          965868011.52,
          3805687971.84,
          53025960.96,
          9619720765.44,
          8134810009.6,
          504206417.92,
          283612672,
          272000000,
          74210995.2,
          21200000,
          1131652956.16,
          21694486937.6,
          283852001.28,
          1739000053.76,
          45473018675.2,
          6487169433.6,
          764347760.64,
          399640043.52,
          594458992.64,
          5408300728.32,
          25086611947.52,
          274331750.4,
          2051374940.16,
          1359289794.56,
          6045554442.24,
          277432299.52,
          27314967019.52,
          845058867.2,
          1233619271.68,
          322576793.6,
          4627702415.36,
          1371019018.24,
          239610142.72,
          320228270.08,
          1544191180.8,
          25624573378.56,
          905251225.6,
          3163906703.36,
          30469944.32,
          31931252080.64,
          171954749.44,
          485600010.24,
          994555084.8,
          610419343.36,
          3179313561.6,
          3520880967.68,
          1855089541.12,
          18280496496.64,
          152545792,
          468027637.76,
          7384830443.52,
          1698454568.96,
          2084040048.64,
          6131287982.08,
          176400506.88,
          2433260093.44,
          30265979699.2,
          37279005409.28,
          2461161226.24,
          1058563932.16,
          720695951.36,
          449964892.16,
          779854643.2,
          1817269370.88,
          10928356720.64,
          992515194.88,
          8016598138.88,
          132459601.92,
          281889996.8,
          5093265571.84,
          1450217963.52,
          1414662717.44,
          1130678599.68,
          1305524961.28,
          10486788259.84,
          537501859.84,
          16655887892.48,
          242696724.48,
          87043655.68,
          3189993635.84,
          7865856819.2,
          14931838894.08,
          3389324328.96,
          854124953.6,
          1450000056.32,
          2188075991.04,
          9000000,
          4359475036.16,
          3257973145.6,
          47612743.68,
          1236582973.44,
          49716223016.96,
          5167672197.12,
          9711100231.68,
          34699487477.76,
          6226181488.64,
          3982148894.72,
          2937053839.36,
          3249907630.08,
          1419081646.08,
          33220628316.16,
          597280317.44,
          215000002.56,
          12841726771.2,
          12009255731.2,
          27680798.72,
          1067882250.24,
          23271519027.2,
          38201763.84,
          1050442792.96,
          844431441.92,
          10182212976.64,
          12768086589.44,
          132915998.72,
          413880975.36,
          19467040194.56,
          3403045273.6,
          5634581071.805218,
          8090767196.16,
          79846917.12,
          9507310796.8,
          3701694791.68,
          11036031713.28,
          205146214.4,
          742607831.04,
          17329520640,
          18461800529.92,
          4169308897.28,
          3690719805.44,
          148736399.36,
          25631939624.96,
          3980023889.92,
          3138367651.84,
          33171214172.16,
          218452500.48,
          14575084503.04,
          53255280.64,
          51150045839.36,
          191480791.04,
          1800029798.4,
          51127873699.84,
          1448557936.64,
          289542758.4,
          4281431162.88,
          22139355791.36,
          12154854440.96,
          860580003.84,
          5146065633.28,
          3263910051.84,
          13915327037.44,
          15069127639.04,
          855219978.24,
          5297789992.96,
          20528737812.48,
          28534948495.36,
          3829629583.36,
          5507150643.2,
          34597883084.8,
          48099148.8,
          32352650.24,
          2453827256.32,
          48013419476.26667,
          379000012.8,
          4531198033.92,
          20950789652.48,
          247235215.36,
          5461349.76,
          452535132.16,
          766365614.08,
          677672099.84,
          50238602608.64,
          2610593955.84,
          1346849751.04,
          6330022625.28,
          2315922636.8,
          640414023.68,
          9765580963.84,
          1473179156.48,
          7211954339.84,
          821304688.64,
          40628500.48,
          194999992.32,
          25911783587.84,
          102051471.36,
          8131265822.72,
          3853090816,
          159034501.12,
          18100535951.36,
          32553118.72,
          1145772605.44,
          568800010.24,
          5381683281.92,
          44506624819.2,
          6691228221.44,
          12854457794.56,
          23577614090.24,
          195491942.4,
          188148142.08,
          4611593011.2,
          3532099420.16,
          323456491.52,
          8121670041.6,
          2315187978.24,
          85901998.08,
          389524561.92,
          179072614.4,
          49398599.68,
          3956064,
          25184260587.52,
          1296864788.48,
          2385656053.76,
          3042471116.8,
          2924564971.52,
          273415004.16,
          486068264.96,
          890872545.28,
          48013419476.26667,
          3974650920.96,
          22313432514.56,
          29957685248,
          794833960.96,
          315079331.84,
          1789529948.16,
          31105687.04,
          12921759334.4,
          33072907550.72,
          32663297064.96,
          81949557.76,
          6484557168.64,
          6400066191.36,
          1977557975.04,
          37476628.48,
          2723320463.36,
          2748884582.4,
          32845240729.6,
          32835774709.76,
          2660014817.28,
          42879200788.48,
          42770070241.28,
          12112684646.4,
          4921440337.92,
          7597044531.2,
          24678550732.8,
          83008650.24,
          711343063.04,
          714747740.16,
          557191249.92,
          818093752.32,
          780750028.8,
          309431848.96,
          22471610204.16,
          11643092992,
          2355360071.68,
          1264664985.6,
          30444940165.12,
          1310151639.04,
          24075960.32,
          11665968988.16,
          481189642.24,
          35144917319.68,
          6083065282.56,
          2604528107.52,
          297649438.72,
          797842309.12,
          1200006103.04,
          2645000028.16,
          4936979906.56
         ],
         "y0": " ",
         "yaxis": "y"
        }
       ],
       "layout": {
        "boxmode": "group",
        "height": 500,
        "legend": {
         "tracegroupgap": 0
        },
        "template": {
         "data": {
          "bar": [
           {
            "error_x": {
             "color": "rgb(36,36,36)"
            },
            "error_y": {
             "color": "rgb(36,36,36)"
            },
            "marker": {
             "line": {
              "color": "white",
              "width": 0.5
             },
             "pattern": {
              "fillmode": "overlay",
              "size": 10,
              "solidity": 0.2
             }
            },
            "type": "bar"
           }
          ],
          "barpolar": [
           {
            "marker": {
             "line": {
              "color": "white",
              "width": 0.5
             },
             "pattern": {
              "fillmode": "overlay",
              "size": 10,
              "solidity": 0.2
             }
            },
            "type": "barpolar"
           }
          ],
          "carpet": [
           {
            "aaxis": {
             "endlinecolor": "rgb(36,36,36)",
             "gridcolor": "white",
             "linecolor": "white",
             "minorgridcolor": "white",
             "startlinecolor": "rgb(36,36,36)"
            },
            "baxis": {
             "endlinecolor": "rgb(36,36,36)",
             "gridcolor": "white",
             "linecolor": "white",
             "minorgridcolor": "white",
             "startlinecolor": "rgb(36,36,36)"
            },
            "type": "carpet"
           }
          ],
          "choropleth": [
           {
            "colorbar": {
             "outlinewidth": 1,
             "tickcolor": "rgb(36,36,36)",
             "ticks": "outside"
            },
            "type": "choropleth"
           }
          ],
          "contour": [
           {
            "colorbar": {
             "outlinewidth": 1,
             "tickcolor": "rgb(36,36,36)",
             "ticks": "outside"
            },
            "colorscale": [
             [
              0,
              "#440154"
             ],
             [
              0.1111111111111111,
              "#482878"
             ],
             [
              0.2222222222222222,
              "#3e4989"
             ],
             [
              0.3333333333333333,
              "#31688e"
             ],
             [
              0.4444444444444444,
              "#26828e"
             ],
             [
              0.5555555555555556,
              "#1f9e89"
             ],
             [
              0.6666666666666666,
              "#35b779"
             ],
             [
              0.7777777777777778,
              "#6ece58"
             ],
             [
              0.8888888888888888,
              "#b5de2b"
             ],
             [
              1,
              "#fde725"
             ]
            ],
            "type": "contour"
           }
          ],
          "contourcarpet": [
           {
            "colorbar": {
             "outlinewidth": 1,
             "tickcolor": "rgb(36,36,36)",
             "ticks": "outside"
            },
            "type": "contourcarpet"
           }
          ],
          "heatmap": [
           {
            "colorbar": {
             "outlinewidth": 1,
             "tickcolor": "rgb(36,36,36)",
             "ticks": "outside"
            },
            "colorscale": [
             [
              0,
              "#440154"
             ],
             [
              0.1111111111111111,
              "#482878"
             ],
             [
              0.2222222222222222,
              "#3e4989"
             ],
             [
              0.3333333333333333,
              "#31688e"
             ],
             [
              0.4444444444444444,
              "#26828e"
             ],
             [
              0.5555555555555556,
              "#1f9e89"
             ],
             [
              0.6666666666666666,
              "#35b779"
             ],
             [
              0.7777777777777778,
              "#6ece58"
             ],
             [
              0.8888888888888888,
              "#b5de2b"
             ],
             [
              1,
              "#fde725"
             ]
            ],
            "type": "heatmap"
           }
          ],
          "heatmapgl": [
           {
            "colorbar": {
             "outlinewidth": 1,
             "tickcolor": "rgb(36,36,36)",
             "ticks": "outside"
            },
            "colorscale": [
             [
              0,
              "#440154"
             ],
             [
              0.1111111111111111,
              "#482878"
             ],
             [
              0.2222222222222222,
              "#3e4989"
             ],
             [
              0.3333333333333333,
              "#31688e"
             ],
             [
              0.4444444444444444,
              "#26828e"
             ],
             [
              0.5555555555555556,
              "#1f9e89"
             ],
             [
              0.6666666666666666,
              "#35b779"
             ],
             [
              0.7777777777777778,
              "#6ece58"
             ],
             [
              0.8888888888888888,
              "#b5de2b"
             ],
             [
              1,
              "#fde725"
             ]
            ],
            "type": "heatmapgl"
           }
          ],
          "histogram": [
           {
            "marker": {
             "line": {
              "color": "white",
              "width": 0.6
             }
            },
            "type": "histogram"
           }
          ],
          "histogram2d": [
           {
            "colorbar": {
             "outlinewidth": 1,
             "tickcolor": "rgb(36,36,36)",
             "ticks": "outside"
            },
            "colorscale": [
             [
              0,
              "#440154"
             ],
             [
              0.1111111111111111,
              "#482878"
             ],
             [
              0.2222222222222222,
              "#3e4989"
             ],
             [
              0.3333333333333333,
              "#31688e"
             ],
             [
              0.4444444444444444,
              "#26828e"
             ],
             [
              0.5555555555555556,
              "#1f9e89"
             ],
             [
              0.6666666666666666,
              "#35b779"
             ],
             [
              0.7777777777777778,
              "#6ece58"
             ],
             [
              0.8888888888888888,
              "#b5de2b"
             ],
             [
              1,
              "#fde725"
             ]
            ],
            "type": "histogram2d"
           }
          ],
          "histogram2dcontour": [
           {
            "colorbar": {
             "outlinewidth": 1,
             "tickcolor": "rgb(36,36,36)",
             "ticks": "outside"
            },
            "colorscale": [
             [
              0,
              "#440154"
             ],
             [
              0.1111111111111111,
              "#482878"
             ],
             [
              0.2222222222222222,
              "#3e4989"
             ],
             [
              0.3333333333333333,
              "#31688e"
             ],
             [
              0.4444444444444444,
              "#26828e"
             ],
             [
              0.5555555555555556,
              "#1f9e89"
             ],
             [
              0.6666666666666666,
              "#35b779"
             ],
             [
              0.7777777777777778,
              "#6ece58"
             ],
             [
              0.8888888888888888,
              "#b5de2b"
             ],
             [
              1,
              "#fde725"
             ]
            ],
            "type": "histogram2dcontour"
           }
          ],
          "mesh3d": [
           {
            "colorbar": {
             "outlinewidth": 1,
             "tickcolor": "rgb(36,36,36)",
             "ticks": "outside"
            },
            "type": "mesh3d"
           }
          ],
          "parcoords": [
           {
            "line": {
             "colorbar": {
              "outlinewidth": 1,
              "tickcolor": "rgb(36,36,36)",
              "ticks": "outside"
             }
            },
            "type": "parcoords"
           }
          ],
          "pie": [
           {
            "automargin": true,
            "type": "pie"
           }
          ],
          "scatter": [
           {
            "marker": {
             "colorbar": {
              "outlinewidth": 1,
              "tickcolor": "rgb(36,36,36)",
              "ticks": "outside"
             }
            },
            "type": "scatter"
           }
          ],
          "scatter3d": [
           {
            "line": {
             "colorbar": {
              "outlinewidth": 1,
              "tickcolor": "rgb(36,36,36)",
              "ticks": "outside"
             }
            },
            "marker": {
             "colorbar": {
              "outlinewidth": 1,
              "tickcolor": "rgb(36,36,36)",
              "ticks": "outside"
             }
            },
            "type": "scatter3d"
           }
          ],
          "scattercarpet": [
           {
            "marker": {
             "colorbar": {
              "outlinewidth": 1,
              "tickcolor": "rgb(36,36,36)",
              "ticks": "outside"
             }
            },
            "type": "scattercarpet"
           }
          ],
          "scattergeo": [
           {
            "marker": {
             "colorbar": {
              "outlinewidth": 1,
              "tickcolor": "rgb(36,36,36)",
              "ticks": "outside"
             }
            },
            "type": "scattergeo"
           }
          ],
          "scattergl": [
           {
            "marker": {
             "colorbar": {
              "outlinewidth": 1,
              "tickcolor": "rgb(36,36,36)",
              "ticks": "outside"
             }
            },
            "type": "scattergl"
           }
          ],
          "scattermapbox": [
           {
            "marker": {
             "colorbar": {
              "outlinewidth": 1,
              "tickcolor": "rgb(36,36,36)",
              "ticks": "outside"
             }
            },
            "type": "scattermapbox"
           }
          ],
          "scatterpolar": [
           {
            "marker": {
             "colorbar": {
              "outlinewidth": 1,
              "tickcolor": "rgb(36,36,36)",
              "ticks": "outside"
             }
            },
            "type": "scatterpolar"
           }
          ],
          "scatterpolargl": [
           {
            "marker": {
             "colorbar": {
              "outlinewidth": 1,
              "tickcolor": "rgb(36,36,36)",
              "ticks": "outside"
             }
            },
            "type": "scatterpolargl"
           }
          ],
          "scatterternary": [
           {
            "marker": {
             "colorbar": {
              "outlinewidth": 1,
              "tickcolor": "rgb(36,36,36)",
              "ticks": "outside"
             }
            },
            "type": "scatterternary"
           }
          ],
          "surface": [
           {
            "colorbar": {
             "outlinewidth": 1,
             "tickcolor": "rgb(36,36,36)",
             "ticks": "outside"
            },
            "colorscale": [
             [
              0,
              "#440154"
             ],
             [
              0.1111111111111111,
              "#482878"
             ],
             [
              0.2222222222222222,
              "#3e4989"
             ],
             [
              0.3333333333333333,
              "#31688e"
             ],
             [
              0.4444444444444444,
              "#26828e"
             ],
             [
              0.5555555555555556,
              "#1f9e89"
             ],
             [
              0.6666666666666666,
              "#35b779"
             ],
             [
              0.7777777777777778,
              "#6ece58"
             ],
             [
              0.8888888888888888,
              "#b5de2b"
             ],
             [
              1,
              "#fde725"
             ]
            ],
            "type": "surface"
           }
          ],
          "table": [
           {
            "cells": {
             "fill": {
              "color": "rgb(237,237,237)"
             },
             "line": {
              "color": "white"
             }
            },
            "header": {
             "fill": {
              "color": "rgb(217,217,217)"
             },
             "line": {
              "color": "white"
             }
            },
            "type": "table"
           }
          ]
         },
         "layout": {
          "annotationdefaults": {
           "arrowhead": 0,
           "arrowwidth": 1
          },
          "autotypenumbers": "strict",
          "coloraxis": {
           "colorbar": {
            "outlinewidth": 1,
            "tickcolor": "rgb(36,36,36)",
            "ticks": "outside"
           }
          },
          "colorscale": {
           "diverging": [
            [
             0,
             "rgb(103,0,31)"
            ],
            [
             0.1,
             "rgb(178,24,43)"
            ],
            [
             0.2,
             "rgb(214,96,77)"
            ],
            [
             0.3,
             "rgb(244,165,130)"
            ],
            [
             0.4,
             "rgb(253,219,199)"
            ],
            [
             0.5,
             "rgb(247,247,247)"
            ],
            [
             0.6,
             "rgb(209,229,240)"
            ],
            [
             0.7,
             "rgb(146,197,222)"
            ],
            [
             0.8,
             "rgb(67,147,195)"
            ],
            [
             0.9,
             "rgb(33,102,172)"
            ],
            [
             1,
             "rgb(5,48,97)"
            ]
           ],
           "sequential": [
            [
             0,
             "#440154"
            ],
            [
             0.1111111111111111,
             "#482878"
            ],
            [
             0.2222222222222222,
             "#3e4989"
            ],
            [
             0.3333333333333333,
             "#31688e"
            ],
            [
             0.4444444444444444,
             "#26828e"
            ],
            [
             0.5555555555555556,
             "#1f9e89"
            ],
            [
             0.6666666666666666,
             "#35b779"
            ],
            [
             0.7777777777777778,
             "#6ece58"
            ],
            [
             0.8888888888888888,
             "#b5de2b"
            ],
            [
             1,
             "#fde725"
            ]
           ],
           "sequentialminus": [
            [
             0,
             "#440154"
            ],
            [
             0.1111111111111111,
             "#482878"
            ],
            [
             0.2222222222222222,
             "#3e4989"
            ],
            [
             0.3333333333333333,
             "#31688e"
            ],
            [
             0.4444444444444444,
             "#26828e"
            ],
            [
             0.5555555555555556,
             "#1f9e89"
            ],
            [
             0.6666666666666666,
             "#35b779"
            ],
            [
             0.7777777777777778,
             "#6ece58"
            ],
            [
             0.8888888888888888,
             "#b5de2b"
            ],
            [
             1,
             "#fde725"
            ]
           ]
          },
          "colorway": [
           "#1F77B4",
           "#FF7F0E",
           "#2CA02C",
           "#D62728",
           "#9467BD",
           "#8C564B",
           "#E377C2",
           "#7F7F7F",
           "#BCBD22",
           "#17BECF"
          ],
          "font": {
           "color": "rgb(36,36,36)"
          },
          "geo": {
           "bgcolor": "white",
           "lakecolor": "white",
           "landcolor": "white",
           "showlakes": true,
           "showland": true,
           "subunitcolor": "white"
          },
          "hoverlabel": {
           "align": "left"
          },
          "hovermode": "closest",
          "mapbox": {
           "style": "light"
          },
          "paper_bgcolor": "white",
          "plot_bgcolor": "white",
          "polar": {
           "angularaxis": {
            "gridcolor": "rgb(232,232,232)",
            "linecolor": "rgb(36,36,36)",
            "showgrid": false,
            "showline": true,
            "ticks": "outside"
           },
           "bgcolor": "white",
           "radialaxis": {
            "gridcolor": "rgb(232,232,232)",
            "linecolor": "rgb(36,36,36)",
            "showgrid": false,
            "showline": true,
            "ticks": "outside"
           }
          },
          "scene": {
           "xaxis": {
            "backgroundcolor": "white",
            "gridcolor": "rgb(232,232,232)",
            "gridwidth": 2,
            "linecolor": "rgb(36,36,36)",
            "showbackground": true,
            "showgrid": false,
            "showline": true,
            "ticks": "outside",
            "zeroline": false,
            "zerolinecolor": "rgb(36,36,36)"
           },
           "yaxis": {
            "backgroundcolor": "white",
            "gridcolor": "rgb(232,232,232)",
            "gridwidth": 2,
            "linecolor": "rgb(36,36,36)",
            "showbackground": true,
            "showgrid": false,
            "showline": true,
            "ticks": "outside",
            "zeroline": false,
            "zerolinecolor": "rgb(36,36,36)"
           },
           "zaxis": {
            "backgroundcolor": "white",
            "gridcolor": "rgb(232,232,232)",
            "gridwidth": 2,
            "linecolor": "rgb(36,36,36)",
            "showbackground": true,
            "showgrid": false,
            "showline": true,
            "ticks": "outside",
            "zeroline": false,
            "zerolinecolor": "rgb(36,36,36)"
           }
          },
          "shapedefaults": {
           "fillcolor": "black",
           "line": {
            "width": 0
           },
           "opacity": 0.3
          },
          "ternary": {
           "aaxis": {
            "gridcolor": "rgb(232,232,232)",
            "linecolor": "rgb(36,36,36)",
            "showgrid": false,
            "showline": true,
            "ticks": "outside"
           },
           "baxis": {
            "gridcolor": "rgb(232,232,232)",
            "linecolor": "rgb(36,36,36)",
            "showgrid": false,
            "showline": true,
            "ticks": "outside"
           },
           "bgcolor": "white",
           "caxis": {
            "gridcolor": "rgb(232,232,232)",
            "linecolor": "rgb(36,36,36)",
            "showgrid": false,
            "showline": true,
            "ticks": "outside"
           }
          },
          "title": {
           "x": 0.05
          },
          "xaxis": {
           "automargin": true,
           "gridcolor": "rgb(232,232,232)",
           "linecolor": "rgb(36,36,36)",
           "showgrid": false,
           "showline": true,
           "ticks": "outside",
           "title": {
            "standoff": 15
           },
           "zeroline": false,
           "zerolinecolor": "rgb(36,36,36)"
          },
          "yaxis": {
           "automargin": true,
           "gridcolor": "rgb(232,232,232)",
           "linecolor": "rgb(36,36,36)",
           "showgrid": false,
           "showline": true,
           "ticks": "outside",
           "title": {
            "standoff": 15
           },
           "zeroline": false,
           "zerolinecolor": "rgb(36,36,36)"
          }
         }
        },
        "title": {
         "text": "Distribution of Small to Mid cap stocks"
        },
        "width": 700,
        "xaxis": {
         "anchor": "y",
         "autorange": true,
         "domain": [
          0,
          1
         ],
         "range": [
          -0.505586592178771,
          0.5
         ],
         "type": "category"
        },
        "yaxis": {
         "anchor": "x",
         "autorange": true,
         "domain": [
          0,
          1
         ],
         "range": [
          -2839357715.52,
          53991593394.88
         ],
         "title": {
          "text": "Market_cap"
         },
         "type": "linear"
        }
       }
      },
      "image/png": "[encoded data removed]",
      "text/html": [
       "<div>                            <div id=\"05ae5566-e502-4bb0-99e7-bda430d03e69\" class=\"plotly-graph-div\" style=\"height:500px; width:700px;\"></div>            <script type=\"text/javascript\">                require([\"plotly\"], function(Plotly) {                    window.PLOTLYENV=window.PLOTLYENV || {};                                    if (document.getElementById(\"05ae5566-e502-4bb0-99e7-bda430d03e69\")) {                    Plotly.newPlot(                        \"05ae5566-e502-4bb0-99e7-bda430d03e69\",                        [{\"alignmentgroup\":\"True\",\"boxpoints\":\"all\",\"hovertemplate\":\"<b>%{hovertext}</b><br><br>Market_cap=%{y}<extra></extra>\",\"hovertext\":[\"4Sight Holdings Ltd\",\"ABSA Bank Ltd Pref\",\"ArcelorMittal SA Limited\",\"Acsion Limited\",\"AfroCentric Inv Corp Ltd\",\"Arden Capital Limited\",\"ADvTECH Ltd\",\"Adapt IT Holdings Ltd\",\"Adcorp Holdings Limited\",\"African Dawn Capital Ltd\",\"African Equity Emp Inv Ltd\",\"Aveng Group Limited\",\"Altron Limited A\",\"AECI Limited\",\"AECI Limited 5,5% Pref\",\"Alexander Forbes Grp Hldgs\",\"Afrimat Limited\",\"Arrowhead Prop Ltd A\",\"Arrowhead Prop Ltd B\",\"AH-Vest Limited\",\"African Rainbow Cap Inv\",\"Adcock Ingram Hldgs Ltd\",\"Alaris Holdings Ltd\",\"African Media Ent Ltd\",\"Afine Investments Ltd\",\"African & Over Ent Ltd -N\",\"African & Over Ent Ltd\",\"Accelerate Prop Fund Ltd\",\"Alphamin Resources Corp\",\"Astoria Investments Ltd\",\"ARB Holdings Limited\",\"African Rainbow Min Ltd\",\"Astral Foods Ltd\",\"Argent Industrial Ltd\",\"Ascendis Health Ltd\",\"Afristrat Inv Hldgs Ltd\",\"Attacq Limited\",\"AVI Ltd\",\"Advanced Health Ltd\",\"Alviva Holdings Ltd\",\"Ayo Tech Solutions Ltd\",\"Brait PLC\",\"Bauba Resources Limited\",\"Barloworld Ltd\",\"Bowler Metcalf Ltd\",\"Bell Equipment Ltd\",\"Brikor Ltd\",\"Blue Label Telecoms Ltd\",\"Brimstone Inv Corp Ltd-N\",\"Brimstone Inv Corp Ltd\",\"Buffalo Coal Corp\",\"Balwin Properties Ltd\",\"Bytes Technology Group\",\"Cafca Limited\",\"Caxton CTP Publish Print\",\"Caxton CTP Publish 6%Pf\",\"Capital&Counties Prop plc\",\"Cognition Holdings Ltd\",\"Calgro M3 Hldgs Ltd\",\"Choppies Enterprises Ltd\",\"Crookes Brothers Ltd\",\"City Lodge Hotels Ltd\",\"Clientele Ltd\",\"Combined Motor Hldgs Ltd\",\"Coronation Fund Mngrs Ld\",\"Chrometco Ltd\",\"Conduit Capital Ltd\",\"Curro Holdings Limited\",\"Capitec Bank Hldgs Pref\",\"Capital & Regional Plc\",\"Cashbuild Ltd\",\"CSG Holdings Ltd\",\"CAPITAL APPRECIATION LTD\",\"Dis-Chem Pharmacies Ltd\",\"Distell Group Hldgs Ltd\",\"Dipula Income Fund A\",\"Dipula Income Fund B\",\"Deutsche Konsum REIT-AG\",\"Delta Property Fund Ltd\",\"Deneb Investments Ltd\",\"DRA Global Ltd\",\"DRD Gold Ltd\",\"Discovery Ltd B pref\",\"Datatec Ltd\",\"Efora Energy Limited\",\"Ellies Holdings Ltd\",\"Emira Property Fund Ltd\",\"E Media Holdings Ltd -N-\",\"enX Group LImited\",\"EOH Holdings Ltd\",\"EPE Capital Partners Ltd\",\"EPP N.V.\",\"Eastern Platinum Ltd\",\"Equites Prop Fund Ltd\",\"Etion Limited\",\"Europa Metals Limited\",\"Exemplar REITail Ltd\",\"Famous Brands Ltd\",\"Fortress REIT Ltd A\",\"Fortress REIT Ltd B\",\"Finbond Group Ltd\",\"Frontier Transport Hldg Ld\",\"Fairvest Property Hldgs\",\"Go Life International Ld\",\"Gemfields Group Limited\",\"Grindrod Ltd\",\"Grindrod Ltd Pref\",\"Grand Parade Inv Ltd\",\"Growthpoint Prop Ltd\",\"Grindrod Shipping Hldg Ltd\",\"Globe Trade Centre S.A.\",\"Harmony GM Co Ltd\",\"Hosken Cons Inv Ltd\",\"Hudaco Industries Ltd\",\"Heriot REIT Limited\",\"Homechoice Int plc\",\"Hulamin Ltd\",\"Hammerson plc\",\"Huge Group Ltd\",\"Hulisani Limited\",\"Hyprop Inv Ltd\",\"Irongate Group\",\"Imbalie Beauty Limited\",\"Indluplace Properties Ltd\",\"Investec Ltd\",\"Investec Bank Ltd Pref\",\"Investec plc Pref\",\"Investec plc Pref (Rand)\",\"Investec Property Fund Ltd\",\"Imperial Logistics Ltd\",\"ISA Holdings Limited\",\"Insimbi Ind Hldgs Ltd\",\"Italtile Ltd\",\"Invicta Holdings Ltd\",\"Invicta Hldgs Ltd pref\",\"Jubilee Metals Group plc\",\"Jasco Electron Hldgs Ltd\",\"JSE Ltd\",\"Kaap Agri Limited\",\"KAP Industrial Hldgs Ltd\",\"Kibo Energy plc\",\"Kore Potash plc\",\"Karooooo Ltd\",\"PSG Konsult Limited\",\"Liberty Two Degrees LTD\",\"Long 4 Life Limited\",\"Labat Africa Ltd\",\"Liberty Holdings Ltd\",\"Libstar Holdings Ltd\",\"Lewis Group Ltd\",\"Life Healthc Grp Hldgs Ltd\",\"London Fin Inv Group plc\",\"Lighthouse Capital Ltd\",\"Luxe Holdings Limited\",\"MultiChoice Group Ltd\",\"MC Mining Limited\",\"Master Drilling Grp Ltd\",\"Mediclinic Int plc\",\"Metrofile Holdings Ltd\",\"Mahube Infrastructure Ltd\",\"Mix Telematics Ltd\",\"Montauk Renewables Inc\",\"Industrials REIT Limited\",\"Marshall Monteagle plc\",\"Mpact Limited\",\"Merafe Resources Ltd\",\"Massmart Holdings Ltd\",\"MAS P.L.C\",\"Mustek Ltd\",\"Metair Investments Ltd\",\"Motus Holdings Ltd\",\"Momentum Met Hldgs Ltd\",\"MTN Zakhele Futhi\",\"Murray & Roberts Hldgs\",\"Ninety One Plc\",\"Nictus Ltd\",\"New Frontier Prop Ltd\",\"Nampak Ltd\",\"Nampak Ltd 6%Pref\",\"Newpark REIT Ltd\",\"Net 1 UEPS Tech Inc\",\"Netcare Limited\",\"Netcare Limited Pref\",\"Nutritional Holdings Ltd\",\"NVest Financial Hldgs Ltd\",\"Novus Holdings Limited\",\"Nu-World Hldgs Ltd\",\"Ninety One Limited\",\"Oando plc\",\"Oasis Crescent Prop Fund\",\"Oceana Group Ltd\",\"Octodec Invest Ltd\",\"Onelogix Group Ltd\",\"Omnia Holdings Ltd\",\"Orion Minerals Limited\",\"Pan African Resource plc\",\"PBT Group Limited\",\"Pembury Lifestyle Grp Lt\",\"Premier Fishing Brands Ltd\",\"Pick n Pay Stores Ltd\",\"Primeserv Group Ltd\",\"PPC Limited\",\"Purple Group Ltd\",\"Putprop Ltd\",\"PSG Group Ltd\",\"PSV Holdings Ltd\",\"Quantum Foods Hldgs Ltd\",\"RECM and Calibre Limited\",\"Raven Property Group Ltd\",\"Royal Bafokeng Platinum Ltd\",\"Raubex Group Ltd\",\"RCL Foods Limited\",\"Redefine Properties Ltd\",\"Rebosis Property Fund Ltd A\",\"Rebosis Property Fund Ltd\",\"Renergen Limited\",\"RFG Holdings Limited\",\"RH Bophelo Limited\",\"Reunert Ltd\",\"RMB Holdings Ltd\",\"Randgold & Expl Co Ltd\",\"Resource Generation Ltd\",\"Rex Trueform Group -N-\",\"Rex Trueform Group Ltd\",\"Rex Trueform Grp 6%Pref\",\"Sappi Ltd\",\"Safari Investments RSA Ltd\",\"Sabvest Capital Limited\",\"Schroder Eur REIT plc\",\"Stadio Holdings Limited\",\"Sebata Holdings Ltd\",\"Sephaku Holdings Ltd\",\"Sasfin Holdings Ltd\",\"Steinhoff Inv Hldgs Pref\",\"Sea Harvest Group Ltd\",\"Steinhoff Int Hldgs N.V.\",\"Santam Limited\",\"Santova Logistics Ltd\",\"South Ocean Holdings Ltd\",\"BEE - Sasol Limited\",\"Spanjaard Limited\",\"Super Group Ltd\",\"The Spar Group Ltd\",\"Sirius Real Estate Ltd\",\"Stefanutti Stck Hldgs Ltd\",\"Stor-Age Prop REIT Ltd\",\"Sun International Ltd\",\"Spur Corporation Ltd\",\"Silverbridge Holdings\",\"Sygnia Limited\",\"SAB Zenzele Kabili\",\"Tiger Brands Ltd\",\"Transaction Capital Ltd\",\"Tradehold Ltd\",\"The Foschini Group Limited\",\"Foschini Ltd 6,5%Pref\",\"Thungela Resources Ltd\",\"Tsogo Sun Hotels LTD\",\"Tharisa plc\",\"Telkom SA SOC Ltd\",\"Telemaster Holdings Ltd\",\"Trematon Capital Inv Ltd\",\"Tongaat Hulett Ltd\",\"Transpaco Ltd\",\"Transcend Res Prop Fd Ld\",\"Trencor Ltd\",\"Trellidor Hldgs Ltd\",\"Truworths Int Ltd\",\"Tsogo Sun Gaming Ltd\",\"Trustco Group Hldgs Ltd\",\"Tower Property Fund Ltd\",\"Textainer Group Hldgs Ltd\",\"Universal Partners Ltd\",\"Visual International Hldgs Ltd\",\"Vukile Property Fund Ltd\",\"Vunani Ltd\",\"Vivo Energy plc\",\"Wilson Bayly Hlm-Ovc Ltd\",\"Wesizwe Platinum Ltd\",\"Workforce Holdings Ltd\",\"Wescoal Holdings Ltd\",\"York Timber Holdings Ltd\",\"YeboYethu (RF) Ltd\",\"Zeder Inv Ltd\"],\"legendgroup\":\"\",\"marker\":{\"color\":\"#1F77B4\"},\"name\":\"\",\"notched\":false,\"offsetgroup\":\"\",\"orientation\":\"v\",\"showlegend\":false,\"x0\":\" \",\"xaxis\":\"x\",\"y\":[158167674.88,3631238021.12,10588795699.2,1647767879.68,2917781340.16,2189840.0,9619250216.96,967697121.28,575664005.12,20367008.0,540124200.96,3364397056.0,3177200025.6,12912922460.16,106856232.96,5778469027.84,8410679869.44,965868011.52,3805687971.84,53025960.96,9619720765.44,8134810009.6,504206417.92,283612672.0,272000000.0,74210995.2,21200000.0,1131652956.16,21694486937.6,283852001.28,1739000053.76,45473018675.2,6487169433.6,764347760.64,399640043.52,594458992.64,5408300728.32,25086611947.52,274331750.4,2051374940.16,1359289794.56,6045554442.24,277432299.52,27314967019.52,845058867.2,1233619271.68,322576793.6,4627702415.36,1371019018.24,239610142.72,320228270.08,1544191180.8,25624573378.56,905251225.6,3163906703.36,30469944.32,31931252080.64,171954749.44,485600010.24,994555084.8,610419343.36,3179313561.6,3520880967.68,1855089541.12,18280496496.64,152545792.0,468027637.76,7384830443.52,1698454568.96,2084040048.64,6131287982.08,176400506.88,2433260093.44,30265979699.2,37279005409.28,2461161226.24,1058563932.16,720695951.36,449964892.16,779854643.2,1817269370.88,10928356720.64,992515194.88,8016598138.88,132459601.92,281889996.8,5093265571.84,1450217963.52,1414662717.44,1130678599.68,1305524961.28,10486788259.84,537501859.84,16655887892.48,242696724.48,87043655.68,3189993635.84,7865856819.2,14931838894.08,3389324328.96,854124953.6,1450000056.32,2188075991.04,9000000.0,4359475036.16,3257973145.6,47612743.68,1236582973.44,49716223016.96,5167672197.12,9711100231.68,34699487477.76,6226181488.64,3982148894.72,2937053839.36,3249907630.08,1419081646.08,33220628316.16,597280317.44,215000002.56,12841726771.2,12009255731.2,27680798.72,1067882250.24,23271519027.2,38201763.84,1050442792.96,844431441.92,10182212976.64,12768086589.44,132915998.72,413880975.36,19467040194.56,3403045273.6,5634581071.805218,8090767196.16,79846917.12,9507310796.8,3701694791.68,11036031713.28,205146214.4,742607831.04,17329520640.0,18461800529.92,4169308897.28,3690719805.44,148736399.36,25631939624.96,3980023889.92,3138367651.84,33171214172.16,218452500.48,14575084503.04,53255280.64,51150045839.36,191480791.04,1800029798.4,51127873699.84,1448557936.64,289542758.4,4281431162.88,22139355791.36,12154854440.96,860580003.84,5146065633.28,3263910051.84,13915327037.44,15069127639.04,855219978.24,5297789992.96,20528737812.48,28534948495.36,3829629583.36,5507150643.2,34597883084.8,48099148.8,32352650.24,2453827256.32,48013419476.26667,379000012.8,4531198033.92,20950789652.48,247235215.36,5461349.76,452535132.16,766365614.08,677672099.84,50238602608.64,2610593955.84,1346849751.04,6330022625.28,2315922636.8,640414023.68,9765580963.84,1473179156.48,7211954339.84,821304688.64,40628500.48,194999992.32,25911783587.84,102051471.36,8131265822.72,3853090816.0,159034501.12,18100535951.36,32553118.72,1145772605.44,568800010.24,5381683281.92,44506624819.2,6691228221.44,12854457794.56,23577614090.24,195491942.4,188148142.08,4611593011.2,3532099420.16,323456491.52,8121670041.6,2315187978.24,85901998.08,389524561.92,179072614.4,49398599.68,3956064.0,25184260587.52,1296864788.48,2385656053.76,3042471116.8,2924564971.52,273415004.16,486068264.96,890872545.28,48013419476.26667,3974650920.96,22313432514.56,29957685248.0,794833960.96,315079331.84,1789529948.16,31105687.04,12921759334.4,33072907550.72,32663297064.96,81949557.76,6484557168.64,6400066191.36,1977557975.04,37476628.48,2723320463.36,2748884582.4,32845240729.6,32835774709.76,2660014817.28,42879200788.48,42770070241.28,12112684646.4,4921440337.92,7597044531.2,24678550732.8,83008650.24,711343063.04,714747740.16,557191249.92,818093752.32,780750028.8,309431848.96,22471610204.16,11643092992.0,2355360071.68,1264664985.6,30444940165.12,1310151639.04,24075960.32,11665968988.16,481189642.24,35144917319.68,6083065282.56,2604528107.52,297649438.72,797842309.12,1200006103.04,2645000028.16,4936979906.56],\"y0\":\" \",\"yaxis\":\"y\",\"type\":\"box\"}],                        {\"template\":{\"data\":{\"barpolar\":[{\"marker\":{\"line\":{\"color\":\"white\",\"width\":0.5},\"pattern\":{\"fillmode\":\"overlay\",\"size\":10,\"solidity\":0.2}},\"type\":\"barpolar\"}],\"bar\":[{\"error_x\":{\"color\":\"rgb(36,36,36)\"},\"error_y\":{\"color\":\"rgb(36,36,36)\"},\"marker\":{\"line\":{\"color\":\"white\",\"width\":0.5},\"pattern\":{\"fillmode\":\"overlay\",\"size\":10,\"solidity\":0.2}},\"type\":\"bar\"}],\"carpet\":[{\"aaxis\":{\"endlinecolor\":\"rgb(36,36,36)\",\"gridcolor\":\"white\",\"linecolor\":\"white\",\"minorgridcolor\":\"white\",\"startlinecolor\":\"rgb(36,36,36)\"},\"baxis\":{\"endlinecolor\":\"rgb(36,36,36)\",\"gridcolor\":\"white\",\"linecolor\":\"white\",\"minorgridcolor\":\"white\",\"startlinecolor\":\"rgb(36,36,36)\"},\"type\":\"carpet\"}],\"choropleth\":[{\"colorbar\":{\"outlinewidth\":1,\"tickcolor\":\"rgb(36,36,36)\",\"ticks\":\"outside\"},\"type\":\"choropleth\"}],\"contourcarpet\":[{\"colorbar\":{\"outlinewidth\":1,\"tickcolor\":\"rgb(36,36,36)\",\"ticks\":\"outside\"},\"type\":\"contourcarpet\"}],\"contour\":[{\"colorbar\":{\"outlinewidth\":1,\"tickcolor\":\"rgb(36,36,36)\",\"ticks\":\"outside\"},\"colorscale\":[[0.0,\"#440154\"],[0.1111111111111111,\"#482878\"],[0.2222222222222222,\"#3e4989\"],[0.3333333333333333,\"#31688e\"],[0.4444444444444444,\"#26828e\"],[0.5555555555555556,\"#1f9e89\"],[0.6666666666666666,\"#35b779\"],[0.7777777777777778,\"#6ece58\"],[0.8888888888888888,\"#b5de2b\"],[1.0,\"#fde725\"]],\"type\":\"contour\"}],\"heatmapgl\":[{\"colorbar\":{\"outlinewidth\":1,\"tickcolor\":\"rgb(36,36,36)\",\"ticks\":\"outside\"},\"colorscale\":[[0.0,\"#440154\"],[0.1111111111111111,\"#482878\"],[0.2222222222222222,\"#3e4989\"],[0.3333333333333333,\"#31688e\"],[0.4444444444444444,\"#26828e\"],[0.5555555555555556,\"#1f9e89\"],[0.6666666666666666,\"#35b779\"],[0.7777777777777778,\"#6ece58\"],[0.8888888888888888,\"#b5de2b\"],[1.0,\"#fde725\"]],\"type\":\"heatmapgl\"}],\"heatmap\":[{\"colorbar\":{\"outlinewidth\":1,\"tickcolor\":\"rgb(36,36,36)\",\"ticks\":\"outside\"},\"colorscale\":[[0.0,\"#440154\"],[0.1111111111111111,\"#482878\"],[0.2222222222222222,\"#3e4989\"],[0.3333333333333333,\"#31688e\"],[0.4444444444444444,\"#26828e\"],[0.5555555555555556,\"#1f9e89\"],[0.6666666666666666,\"#35b779\"],[0.7777777777777778,\"#6ece58\"],[0.8888888888888888,\"#b5de2b\"],[1.0,\"#fde725\"]],\"type\":\"heatmap\"}],\"histogram2dcontour\":[{\"colorbar\":{\"outlinewidth\":1,\"tickcolor\":\"rgb(36,36,36)\",\"ticks\":\"outside\"},\"colorscale\":[[0.0,\"#440154\"],[0.1111111111111111,\"#482878\"],[0.2222222222222222,\"#3e4989\"],[0.3333333333333333,\"#31688e\"],[0.4444444444444444,\"#26828e\"],[0.5555555555555556,\"#1f9e89\"],[0.6666666666666666,\"#35b779\"],[0.7777777777777778,\"#6ece58\"],[0.8888888888888888,\"#b5de2b\"],[1.0,\"#fde725\"]],\"type\":\"histogram2dcontour\"}],\"histogram2d\":[{\"colorbar\":{\"outlinewidth\":1,\"tickcolor\":\"rgb(36,36,36)\",\"ticks\":\"outside\"},\"colorscale\":[[0.0,\"#440154\"],[0.1111111111111111,\"#482878\"],[0.2222222222222222,\"#3e4989\"],[0.3333333333333333,\"#31688e\"],[0.4444444444444444,\"#26828e\"],[0.5555555555555556,\"#1f9e89\"],[0.6666666666666666,\"#35b779\"],[0.7777777777777778,\"#6ece58\"],[0.8888888888888888,\"#b5de2b\"],[1.0,\"#fde725\"]],\"type\":\"histogram2d\"}],\"histogram\":[{\"marker\":{\"line\":{\"color\":\"white\",\"width\":0.6}},\"type\":\"histogram\"}],\"mesh3d\":[{\"colorbar\":{\"outlinewidth\":1,\"tickcolor\":\"rgb(36,36,36)\",\"ticks\":\"outside\"},\"type\":\"mesh3d\"}],\"parcoords\":[{\"line\":{\"colorbar\":{\"outlinewidth\":1,\"tickcolor\":\"rgb(36,36,36)\",\"ticks\":\"outside\"}},\"type\":\"parcoords\"}],\"pie\":[{\"automargin\":true,\"type\":\"pie\"}],\"scatter3d\":[{\"line\":{\"colorbar\":{\"outlinewidth\":1,\"tickcolor\":\"rgb(36,36,36)\",\"ticks\":\"outside\"}},\"marker\":{\"colorbar\":{\"outlinewidth\":1,\"tickcolor\":\"rgb(36,36,36)\",\"ticks\":\"outside\"}},\"type\":\"scatter3d\"}],\"scattercarpet\":[{\"marker\":{\"colorbar\":{\"outlinewidth\":1,\"tickcolor\":\"rgb(36,36,36)\",\"ticks\":\"outside\"}},\"type\":\"scattercarpet\"}],\"scattergeo\":[{\"marker\":{\"colorbar\":{\"outlinewidth\":1,\"tickcolor\":\"rgb(36,36,36)\",\"ticks\":\"outside\"}},\"type\":\"scattergeo\"}],\"scattergl\":[{\"marker\":{\"colorbar\":{\"outlinewidth\":1,\"tickcolor\":\"rgb(36,36,36)\",\"ticks\":\"outside\"}},\"type\":\"scattergl\"}],\"scattermapbox\":[{\"marker\":{\"colorbar\":{\"outlinewidth\":1,\"tickcolor\":\"rgb(36,36,36)\",\"ticks\":\"outside\"}},\"type\":\"scattermapbox\"}],\"scatterpolargl\":[{\"marker\":{\"colorbar\":{\"outlinewidth\":1,\"tickcolor\":\"rgb(36,36,36)\",\"ticks\":\"outside\"}},\"type\":\"scatterpolargl\"}],\"scatterpolar\":[{\"marker\":{\"colorbar\":{\"outlinewidth\":1,\"tickcolor\":\"rgb(36,36,36)\",\"ticks\":\"outside\"}},\"type\":\"scatterpolar\"}],\"scatter\":[{\"marker\":{\"colorbar\":{\"outlinewidth\":1,\"tickcolor\":\"rgb(36,36,36)\",\"ticks\":\"outside\"}},\"type\":\"scatter\"}],\"scatterternary\":[{\"marker\":{\"colorbar\":{\"outlinewidth\":1,\"tickcolor\":\"rgb(36,36,36)\",\"ticks\":\"outside\"}},\"type\":\"scatterternary\"}],\"surface\":[{\"colorbar\":{\"outlinewidth\":1,\"tickcolor\":\"rgb(36,36,36)\",\"ticks\":\"outside\"},\"colorscale\":[[0.0,\"#440154\"],[0.1111111111111111,\"#482878\"],[0.2222222222222222,\"#3e4989\"],[0.3333333333333333,\"#31688e\"],[0.4444444444444444,\"#26828e\"],[0.5555555555555556,\"#1f9e89\"],[0.6666666666666666,\"#35b779\"],[0.7777777777777778,\"#6ece58\"],[0.8888888888888888,\"#b5de2b\"],[1.0,\"#fde725\"]],\"type\":\"surface\"}],\"table\":[{\"cells\":{\"fill\":{\"color\":\"rgb(237,237,237)\"},\"line\":{\"color\":\"white\"}},\"header\":{\"fill\":{\"color\":\"rgb(217,217,217)\"},\"line\":{\"color\":\"white\"}},\"type\":\"table\"}]},\"layout\":{\"annotationdefaults\":{\"arrowhead\":0,\"arrowwidth\":1},\"autotypenumbers\":\"strict\",\"coloraxis\":{\"colorbar\":{\"outlinewidth\":1,\"tickcolor\":\"rgb(36,36,36)\",\"ticks\":\"outside\"}},\"colorscale\":{\"diverging\":[[0.0,\"rgb(103,0,31)\"],[0.1,\"rgb(178,24,43)\"],[0.2,\"rgb(214,96,77)\"],[0.3,\"rgb(244,165,130)\"],[0.4,\"rgb(253,219,199)\"],[0.5,\"rgb(247,247,247)\"],[0.6,\"rgb(209,229,240)\"],[0.7,\"rgb(146,197,222)\"],[0.8,\"rgb(67,147,195)\"],[0.9,\"rgb(33,102,172)\"],[1.0,\"rgb(5,48,97)\"]],\"sequential\":[[0.0,\"#440154\"],[0.1111111111111111,\"#482878\"],[0.2222222222222222,\"#3e4989\"],[0.3333333333333333,\"#31688e\"],[0.4444444444444444,\"#26828e\"],[0.5555555555555556,\"#1f9e89\"],[0.6666666666666666,\"#35b779\"],[0.7777777777777778,\"#6ece58\"],[0.8888888888888888,\"#b5de2b\"],[1.0,\"#fde725\"]],\"sequentialminus\":[[0.0,\"#440154\"],[0.1111111111111111,\"#482878\"],[0.2222222222222222,\"#3e4989\"],[0.3333333333333333,\"#31688e\"],[0.4444444444444444,\"#26828e\"],[0.5555555555555556,\"#1f9e89\"],[0.6666666666666666,\"#35b779\"],[0.7777777777777778,\"#6ece58\"],[0.8888888888888888,\"#b5de2b\"],[1.0,\"#fde725\"]]},\"colorway\":[\"#1F77B4\",\"#FF7F0E\",\"#2CA02C\",\"#D62728\",\"#9467BD\",\"#8C564B\",\"#E377C2\",\"#7F7F7F\",\"#BCBD22\",\"#17BECF\"],\"font\":{\"color\":\"rgb(36,36,36)\"},\"geo\":{\"bgcolor\":\"white\",\"lakecolor\":\"white\",\"landcolor\":\"white\",\"showlakes\":true,\"showland\":true,\"subunitcolor\":\"white\"},\"hoverlabel\":{\"align\":\"left\"},\"hovermode\":\"closest\",\"mapbox\":{\"style\":\"light\"},\"paper_bgcolor\":\"white\",\"plot_bgcolor\":\"white\",\"polar\":{\"angularaxis\":{\"gridcolor\":\"rgb(232,232,232)\",\"linecolor\":\"rgb(36,36,36)\",\"showgrid\":false,\"showline\":true,\"ticks\":\"outside\"},\"bgcolor\":\"white\",\"radialaxis\":{\"gridcolor\":\"rgb(232,232,232)\",\"linecolor\":\"rgb(36,36,36)\",\"showgrid\":false,\"showline\":true,\"ticks\":\"outside\"}},\"scene\":{\"xaxis\":{\"backgroundcolor\":\"white\",\"gridcolor\":\"rgb(232,232,232)\",\"gridwidth\":2,\"linecolor\":\"rgb(36,36,36)\",\"showbackground\":true,\"showgrid\":false,\"showline\":true,\"ticks\":\"outside\",\"zeroline\":false,\"zerolinecolor\":\"rgb(36,36,36)\"},\"yaxis\":{\"backgroundcolor\":\"white\",\"gridcolor\":\"rgb(232,232,232)\",\"gridwidth\":2,\"linecolor\":\"rgb(36,36,36)\",\"showbackground\":true,\"showgrid\":false,\"showline\":true,\"ticks\":\"outside\",\"zeroline\":false,\"zerolinecolor\":\"rgb(36,36,36)\"},\"zaxis\":{\"backgroundcolor\":\"white\",\"gridcolor\":\"rgb(232,232,232)\",\"gridwidth\":2,\"linecolor\":\"rgb(36,36,36)\",\"showbackground\":true,\"showgrid\":false,\"showline\":true,\"ticks\":\"outside\",\"zeroline\":false,\"zerolinecolor\":\"rgb(36,36,36)\"}},\"shapedefaults\":{\"fillcolor\":\"black\",\"line\":{\"width\":0},\"opacity\":0.3},\"ternary\":{\"aaxis\":{\"gridcolor\":\"rgb(232,232,232)\",\"linecolor\":\"rgb(36,36,36)\",\"showgrid\":false,\"showline\":true,\"ticks\":\"outside\"},\"baxis\":{\"gridcolor\":\"rgb(232,232,232)\",\"linecolor\":\"rgb(36,36,36)\",\"showgrid\":false,\"showline\":true,\"ticks\":\"outside\"},\"bgcolor\":\"white\",\"caxis\":{\"gridcolor\":\"rgb(232,232,232)\",\"linecolor\":\"rgb(36,36,36)\",\"showgrid\":false,\"showline\":true,\"ticks\":\"outside\"}},\"title\":{\"x\":0.05},\"xaxis\":{\"automargin\":true,\"gridcolor\":\"rgb(232,232,232)\",\"linecolor\":\"rgb(36,36,36)\",\"showgrid\":false,\"showline\":true,\"ticks\":\"outside\",\"title\":{\"standoff\":15},\"zeroline\":false,\"zerolinecolor\":\"rgb(36,36,36)\"},\"yaxis\":{\"automargin\":true,\"gridcolor\":\"rgb(232,232,232)\",\"linecolor\":\"rgb(36,36,36)\",\"showgrid\":false,\"showline\":true,\"ticks\":\"outside\",\"title\":{\"standoff\":15},\"zeroline\":false,\"zerolinecolor\":\"rgb(36,36,36)\"}}},\"xaxis\":{\"anchor\":\"y\",\"domain\":[0.0,1.0]},\"yaxis\":{\"anchor\":\"x\",\"domain\":[0.0,1.0],\"title\":{\"text\":\"Market_cap\"}},\"legend\":{\"tracegroupgap\":0},\"title\":{\"text\":\"Distribution of Small to Mid cap stocks\"},\"boxmode\":\"group\",\"height\":500,\"width\":700},                        {\"responsive\": true}                    ).then(function(){\n",
       "                            \n",
       "var gd = document.getElementById('05ae5566-e502-4bb0-99e7-bda430d03e69');\n",
       "var x = new MutationObserver(function (mutations, observer) {{\n",
       "        var display = window.getComputedStyle(gd).display;\n",
       "        if (!display || display === 'none') {{\n",
       "            console.log([gd, 'removed!']);\n",
       "            Plotly.purge(gd);\n",
       "            observer.disconnect();\n",
       "        }}\n",
       "}});\n",
       "\n",
       "// Listen for the removal of the full notebook cells\n",
       "var notebookContainer = gd.closest('#notebook-container');\n",
       "if (notebookContainer) {{\n",
       "    x.observe(notebookContainer, {childList: true});\n",
       "}}\n",
       "\n",
       "// Listen for the clearing of the current output cell\n",
       "var outputEl = gd.closest('.output');\n",
       "if (outputEl) {{\n",
       "    x.observe(outputEl, {childList: true});\n",
       "}}\n",
       "\n",
       "                        })                };                });            </script>        </div>"
      ]
     },
     "metadata": {},
     "output_type": "display_data"
    }
   ],
   "source": [
    "# Get data for small and mid caps\n",
    "df_small_to_mid_cap = df[df.Ticker.isin(small_to_mid_caps)]\n",
    "# Plot distribution\n",
    "fig = px.box(df_small_to_mid_cap,\n",
    "             y = \"Market_cap\",\n",
    "             points = \"all\",\n",
    "             title = \"Distribution of Small to Mid cap stocks\",\n",
    "             hover_name='Name',\n",
    "             template='simple_white', \n",
    "             height = 500,\n",
    "             width = 700)\n",
    "\n",
    "fig.show();"
   ]
  },
  {
   "cell_type": "markdown",
   "id": "e8deac08-c763-46cd-ab99-ebcfd74dff3c",
   "metadata": {},
   "source": [
    "Thats much better. We can view the distribution much easily. Most of the stock is concentrated below the R10 billion mark, with a median value of R2.37 billion. We'll stick to the values we got for the entire distribution, `stats` and split the stock into the following groups:\n",
    "* Large cap > R51.7 billion (upper_bound)\n",
    "* Mid cap > R3.31 billion (median) and Mid cap < R51.7 billion\n",
    "* Small cap < R3.31 billion\n",
    "\n",
    "This will be useful in portfolio selection. Lets get the lists for small caps and mid caps."
   ]
  },
  {
   "cell_type": "code",
   "execution_count": 111,
   "id": "ff0e4768-8a02-4c39-b002-0049a8081163",
   "metadata": {},
   "outputs": [
    {
     "name": "stdout",
     "output_type": "stream",
     "text": [
      "Number of mid cap stocks: 120\n",
      "Number of small cap stocks: 164\n"
     ]
    }
   ],
   "source": [
    "# Mid caps list\n",
    "mid_caps = df[(df.Market_cap > stats.loc['50%']) & (df.Market_cap < upper_bound)].Ticker.tolist()\n",
    "print(f\"Number of mid cap stocks: {len(mid_caps)}\")\n",
    "\n",
    "#Small caps list\n",
    "small_caps = df[(df.Market_cap < stats.loc['50%'])].Ticker.tolist()\n",
    "print(f\"Number of small cap stocks: {len(small_caps)}\")"
   ]
  },
  {
   "cell_type": "markdown",
   "id": "0b0527fd-2705-41e5-9f21-942e8c90ab8f",
   "metadata": {},
   "source": [
    "### Earnings Analysis: Growth vs Value"
   ]
  },
  {
   "cell_type": "code",
   "execution_count": null,
   "id": "664c029a-427b-492f-8e56-8a2a47a93963",
   "metadata": {},
   "outputs": [],
   "source": []
  }
 ],
 "metadata": {
  "kernelspec": {
   "display_name": "Python 3 (ipykernel)",
   "language": "python",
   "name": "python3"
  },
  "language_info": {
   "codemirror_mode": {
    "name": "ipython",
    "version": 3
   },
   "file_extension": ".py",
   "mimetype": "text/x-python",
   "name": "python",
   "nbconvert_exporter": "python",
   "pygments_lexer": "ipython3",
   "version": "3.8.12"
  }
 },
 "nbformat": 4,
 "nbformat_minor": 5
}
